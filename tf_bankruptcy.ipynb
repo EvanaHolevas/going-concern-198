{
 "cells": [
  {
   "cell_type": "code",
   "execution_count": 54,
   "metadata": {},
   "outputs": [
    {
     "name": "stdout",
     "output_type": "stream",
     "text": [
      "tensorflow version 2.11.0\n"
     ]
    }
   ],
   "source": [
    "import tensorflow as tf \n",
    "import numpy as np\n",
    "import pandas as pd\n",
    "import matplotlib.pyplot as plt\n",
    "print('tensorflow version', tf.__version__)\n",
    "df = pd.read_csv('data/1_american_dataset.csv')\n",
    "# data_features = pd.read_csv('data/bankrupt_features.csv')\n",
    "# data_status = pd.read_csv('data/status_bankrupt.csv')"
   ]
  },
  {
   "cell_type": "code",
   "execution_count": 55,
   "metadata": {},
   "outputs": [],
   "source": [
    "from sklearn.model_selection import train_test_split\n",
    "\n",
    "df = df.select_dtypes(include=['float64','int64'])\n",
    "X = df.drop(['cik', 'fyear', 'status'], axis=1)\n",
    "y = df[\"status\"]\n",
    "\n",
    "# split data into training and testing sets\n",
    "X_train, X_test, y_train, y_test = train_test_split(X, y, test_size=0.2, random_state=42)"
   ]
  },
  {
   "cell_type": "code",
   "execution_count": 57,
   "metadata": {},
   "outputs": [],
   "source": [
    "def simple_model():\n",
    "    model = tf.keras.Sequential([\n",
    "        tf.keras.layers.Dense(128, activation='relu'),\n",
    "        tf.keras.layers.Dense(1, activation='sigmoid')\n",
    "    ])\n",
    "    \n",
    "    model.compile(optimizer='adam',\n",
    "            loss=tf.keras.losses.BinaryCrossentropy(),\n",
    "            metrics=['accuracy'])\n",
    "    return model"
   ]
  },
  {
   "cell_type": "code",
   "execution_count": 58,
   "metadata": {},
   "outputs": [
    {
     "name": "stdout",
     "output_type": "stream",
     "text": [
      "Epoch 1/10\n",
      "1968/1968 [==============================] - 4s 2ms/step - loss: 10.3058 - accuracy: 0.8963\n",
      "Epoch 2/10\n",
      "1968/1968 [==============================] - 3s 1ms/step - loss: 6.8009 - accuracy: 0.9041\n",
      "Epoch 3/10\n",
      "1968/1968 [==============================] - 3s 1ms/step - loss: 5.2358 - accuracy: 0.9071\n",
      "Epoch 4/10\n",
      "1968/1968 [==============================] - 3s 1ms/step - loss: 5.8288 - accuracy: 0.9111\n",
      "Epoch 5/10\n",
      "1968/1968 [==============================] - 3s 2ms/step - loss: 3.1399 - accuracy: 0.9101\n",
      "Epoch 6/10\n",
      "1968/1968 [==============================] - 3s 2ms/step - loss: 2.3528 - accuracy: 0.9163\n",
      "Epoch 7/10\n",
      "1968/1968 [==============================] - 3s 2ms/step - loss: 1.8796 - accuracy: 0.9192\n",
      "Epoch 8/10\n",
      "1968/1968 [==============================] - 3s 2ms/step - loss: 0.7682 - accuracy: 0.9248\n",
      "Epoch 9/10\n",
      "1968/1968 [==============================] - 3s 2ms/step - loss: 0.4563 - accuracy: 0.9293\n",
      "Epoch 10/10\n",
      "1968/1968 [==============================] - 4s 2ms/step - loss: 0.2829 - accuracy: 0.9328\n"
     ]
    },
    {
     "data": {
      "text/plain": [
       "<keras.callbacks.History at 0x7fe86b1f5f10>"
      ]
     },
     "execution_count": 58,
     "metadata": {},
     "output_type": "execute_result"
    }
   ],
   "source": [
    "model = simple_model()\n",
    "model.fit(X_train, y_train, epochs=10)"
   ]
  },
  {
   "cell_type": "code",
   "execution_count": 62,
   "metadata": {},
   "outputs": [
    {
     "name": "stdout",
     "output_type": "stream",
     "text": [
      "492/492 [==============================] - 1s 1ms/step\n",
      "tf.Tensor([[15737]], shape=(1, 1), dtype=int32)\n",
      "492/492 [==============================] - 1s 1ms/step - loss: 0.2715 - accuracy: 0.9324\n"
     ]
    }
   ],
   "source": [
    "predictions = model.predict(X_test)\n",
    "y_pred_classes = np.argmax(predictions, axis=1)\n",
    "y_true_classes = np.argmax(predictions, axis=1)\n",
    "\n",
    "# display confusion matrix\n",
    "confusion_matrix = tf.math.confusion_matrix(y_true_classes, y_pred_classes)\n",
    "print(confusion_matrix)\n",
    "\n",
    "# calculate the F1 score\n",
    "test_loss, test_acc = model.evaluate(X_test, y_test)"
   ]
  },
  {
   "cell_type": "code",
   "execution_count": null,
   "metadata": {},
   "outputs": [],
   "source": []
  }
 ],
 "metadata": {
  "kernelspec": {
   "display_name": "base",
   "language": "python",
   "name": "python3"
  },
  "language_info": {
   "codemirror_mode": {
    "name": "ipython",
    "version": 3
   },
   "file_extension": ".py",
   "mimetype": "text/x-python",
   "name": "python",
   "nbconvert_exporter": "python",
   "pygments_lexer": "ipython3",
   "version": "3.9.7"
  },
  "orig_nbformat": 4
 },
 "nbformat": 4,
 "nbformat_minor": 2
}
