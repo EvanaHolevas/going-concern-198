{
 "cells": [
  {
   "cell_type": "code",
   "execution_count": 5,
   "metadata": {},
   "outputs": [
    {
     "name": "stdout",
     "output_type": "stream",
     "text": [
      "tensorflow version 2.11.0\n"
     ]
    }
   ],
   "source": [
    "import tensorflow as tf \n",
    "import numpy as np\n",
    "import pandas as pd\n",
    "import matplotlib.pyplot as plt\n",
    "import seaborn as sns \n",
    "# Model improvement and Evaluation \n",
    "from sklearn import metrics \n",
    "from sklearn.metrics import confusion_matrix\n",
    "from sklearn.metrics import f1_score, precision_score, recall_score\n",
    "\n",
    "print('tensorflow version', tf.__version__)"
   ]
  },
  {
   "cell_type": "code",
   "execution_count": 277,
   "metadata": {},
   "outputs": [],
   "source": [
    "def plot_history(history):\n",
    "    fig, axs = plt.subplots(2, 1, figsize=(24, 16))\n",
    "\n",
    "    # Plot training & validation accuracy values\n",
    "    axs[0].plot(history.history['accuracy'])\n",
    "    axs[0].plot(history.history['val_accuracy'])\n",
    "    axs[0].set_title('Model accuracy')\n",
    "    axs[0].set_ylabel('Accuracy')\n",
    "    axs[0].set_xlabel('Epoch')\n",
    "    axs[0].legend(['Training Set', 'Validation Set'], loc='upper left')\n",
    "\n",
    "    # Plot training & validation loss values\n",
    "    axs[1].plot(history.history['loss'])\n",
    "    axs[1].plot(history.history['val_loss'])\n",
    "    axs[1].set_title('Model loss')\n",
    "    axs[1].set_ylabel('Loss')\n",
    "    axs[1].set_xlabel('Epoch')\n",
    "    axs[1].legend(['Training Set', 'Validation Set'], loc='upper left')\n",
    "    \n",
    "    fig.tight_layout(pad=0.5)\n",
    "\n",
    "    plt.show()"
   ]
  },
  {
   "cell_type": "code",
   "execution_count": 11,
   "metadata": {},
   "outputs": [
    {
     "data": {
      "text/html": [
       "<div>\n",
       "<style scoped>\n",
       "    .dataframe tbody tr th:only-of-type {\n",
       "        vertical-align: middle;\n",
       "    }\n",
       "\n",
       "    .dataframe tbody tr th {\n",
       "        vertical-align: top;\n",
       "    }\n",
       "\n",
       "    .dataframe thead th {\n",
       "        text-align: right;\n",
       "    }\n",
       "</style>\n",
       "<table border=\"1\" class=\"dataframe\">\n",
       "  <thead>\n",
       "    <tr style=\"text-align: right;\">\n",
       "      <th></th>\n",
       "      <th>cik</th>\n",
       "      <th>fyear</th>\n",
       "      <th>company_name</th>\n",
       "      <th>tic</th>\n",
       "      <th>status_label</th>\n",
       "      <th>current_assets</th>\n",
       "      <th>total_assets</th>\n",
       "      <th>cost_of_goods_sold</th>\n",
       "      <th>total_long_term_debt</th>\n",
       "      <th>depreciation_and_amortization</th>\n",
       "      <th>...</th>\n",
       "      <th>retained_earnings</th>\n",
       "      <th>total_receivables</th>\n",
       "      <th>total_revenue</th>\n",
       "      <th>market_value</th>\n",
       "      <th>total_liabilities</th>\n",
       "      <th>net_sales</th>\n",
       "      <th>total_operating_expenses</th>\n",
       "      <th>status</th>\n",
       "      <th>GOING_CONCERN</th>\n",
       "      <th>OPINION_TEXT1</th>\n",
       "    </tr>\n",
       "  </thead>\n",
       "  <tbody>\n",
       "    <tr>\n",
       "      <th>0</th>\n",
       "      <td>1750</td>\n",
       "      <td>1999.0</td>\n",
       "      <td>AAR CORP</td>\n",
       "      <td>AIR</td>\n",
       "      <td>alive</td>\n",
       "      <td>511.267</td>\n",
       "      <td>740.998</td>\n",
       "      <td>833.107</td>\n",
       "      <td>180.447</td>\n",
       "      <td>18.373</td>\n",
       "      <td>...</td>\n",
       "      <td>201.026</td>\n",
       "      <td>128.348</td>\n",
       "      <td>1024.333</td>\n",
       "      <td>372.7519</td>\n",
       "      <td>401.483</td>\n",
       "      <td>1024.333</td>\n",
       "      <td>935.302</td>\n",
       "      <td>0</td>\n",
       "      <td>0.0</td>\n",
       "      <td>0</td>\n",
       "    </tr>\n",
       "    <tr>\n",
       "      <th>1</th>\n",
       "      <td>1750</td>\n",
       "      <td>2000.0</td>\n",
       "      <td>AAR CORP</td>\n",
       "      <td>AIR</td>\n",
       "      <td>alive</td>\n",
       "      <td>485.856</td>\n",
       "      <td>701.854</td>\n",
       "      <td>713.811</td>\n",
       "      <td>179.987</td>\n",
       "      <td>18.577</td>\n",
       "      <td>...</td>\n",
       "      <td>204.065</td>\n",
       "      <td>115.187</td>\n",
       "      <td>874.255</td>\n",
       "      <td>377.1180</td>\n",
       "      <td>361.642</td>\n",
       "      <td>874.255</td>\n",
       "      <td>809.888</td>\n",
       "      <td>0</td>\n",
       "      <td>0.0</td>\n",
       "      <td>0</td>\n",
       "    </tr>\n",
       "    <tr>\n",
       "      <th>2</th>\n",
       "      <td>1750</td>\n",
       "      <td>2001.0</td>\n",
       "      <td>AAR CORP</td>\n",
       "      <td>AIR</td>\n",
       "      <td>alive</td>\n",
       "      <td>436.656</td>\n",
       "      <td>710.199</td>\n",
       "      <td>526.477</td>\n",
       "      <td>217.699</td>\n",
       "      <td>22.496</td>\n",
       "      <td>...</td>\n",
       "      <td>139.603</td>\n",
       "      <td>77.528</td>\n",
       "      <td>638.721</td>\n",
       "      <td>364.5928</td>\n",
       "      <td>399.964</td>\n",
       "      <td>638.721</td>\n",
       "      <td>611.514</td>\n",
       "      <td>0</td>\n",
       "      <td>0.0</td>\n",
       "      <td>0</td>\n",
       "    </tr>\n",
       "    <tr>\n",
       "      <th>3</th>\n",
       "      <td>1750</td>\n",
       "      <td>2002.0</td>\n",
       "      <td>AAR CORP</td>\n",
       "      <td>AIR</td>\n",
       "      <td>alive</td>\n",
       "      <td>396.412</td>\n",
       "      <td>686.621</td>\n",
       "      <td>496.747</td>\n",
       "      <td>164.658</td>\n",
       "      <td>27.172</td>\n",
       "      <td>...</td>\n",
       "      <td>124.106</td>\n",
       "      <td>66.322</td>\n",
       "      <td>606.337</td>\n",
       "      <td>143.3295</td>\n",
       "      <td>391.633</td>\n",
       "      <td>606.337</td>\n",
       "      <td>575.592</td>\n",
       "      <td>0</td>\n",
       "      <td>0.0</td>\n",
       "      <td>0</td>\n",
       "    </tr>\n",
       "    <tr>\n",
       "      <th>4</th>\n",
       "      <td>1750</td>\n",
       "      <td>2003.0</td>\n",
       "      <td>AAR CORP</td>\n",
       "      <td>AIR</td>\n",
       "      <td>alive</td>\n",
       "      <td>432.204</td>\n",
       "      <td>709.292</td>\n",
       "      <td>523.302</td>\n",
       "      <td>248.666</td>\n",
       "      <td>26.680</td>\n",
       "      <td>...</td>\n",
       "      <td>131.884</td>\n",
       "      <td>104.661</td>\n",
       "      <td>651.958</td>\n",
       "      <td>308.9071</td>\n",
       "      <td>407.608</td>\n",
       "      <td>651.958</td>\n",
       "      <td>604.467</td>\n",
       "      <td>0</td>\n",
       "      <td>0.0</td>\n",
       "      <td>0</td>\n",
       "    </tr>\n",
       "  </tbody>\n",
       "</table>\n",
       "<p>5 rows × 26 columns</p>\n",
       "</div>"
      ],
      "text/plain": [
       "    cik   fyear company_name  tic status_label  current_assets  total_assets  \\\n",
       "0  1750  1999.0     AAR CORP  AIR        alive         511.267       740.998   \n",
       "1  1750  2000.0     AAR CORP  AIR        alive         485.856       701.854   \n",
       "2  1750  2001.0     AAR CORP  AIR        alive         436.656       710.199   \n",
       "3  1750  2002.0     AAR CORP  AIR        alive         396.412       686.621   \n",
       "4  1750  2003.0     AAR CORP  AIR        alive         432.204       709.292   \n",
       "\n",
       "   cost_of_goods_sold  total_long_term_debt  depreciation_and_amortization  \\\n",
       "0             833.107               180.447                         18.373   \n",
       "1             713.811               179.987                         18.577   \n",
       "2             526.477               217.699                         22.496   \n",
       "3             496.747               164.658                         27.172   \n",
       "4             523.302               248.666                         26.680   \n",
       "\n",
       "   ...  retained_earnings  total_receivables  total_revenue  market_value  \\\n",
       "0  ...            201.026            128.348       1024.333      372.7519   \n",
       "1  ...            204.065            115.187        874.255      377.1180   \n",
       "2  ...            139.603             77.528        638.721      364.5928   \n",
       "3  ...            124.106             66.322        606.337      143.3295   \n",
       "4  ...            131.884            104.661        651.958      308.9071   \n",
       "\n",
       "   total_liabilities  net_sales  total_operating_expenses  status  \\\n",
       "0            401.483   1024.333                   935.302       0   \n",
       "1            361.642    874.255                   809.888       0   \n",
       "2            399.964    638.721                   611.514       0   \n",
       "3            391.633    606.337                   575.592       0   \n",
       "4            407.608    651.958                   604.467       0   \n",
       "\n",
       "   GOING_CONCERN  OPINION_TEXT1  \n",
       "0            0.0              0  \n",
       "1            0.0              0  \n",
       "2            0.0              0  \n",
       "3            0.0              0  \n",
       "4            0.0              0  \n",
       "\n",
       "[5 rows x 26 columns]"
      ]
     },
     "execution_count": 11,
     "metadata": {},
     "output_type": "execute_result"
    }
   ],
   "source": [
    "# import data\n",
    "bank_data = pd.read_csv(\"fin_merged_data.csv\")\n",
    "bank_data.head()"
   ]
  },
  {
   "attachments": {},
   "cell_type": "markdown",
   "metadata": {},
   "source": [
    "## Remove non-numerical"
   ]
  },
  {
   "cell_type": "code",
   "execution_count": 14,
   "metadata": {},
   "outputs": [
    {
     "data": {
      "text/html": [
       "<div>\n",
       "<style scoped>\n",
       "    .dataframe tbody tr th:only-of-type {\n",
       "        vertical-align: middle;\n",
       "    }\n",
       "\n",
       "    .dataframe tbody tr th {\n",
       "        vertical-align: top;\n",
       "    }\n",
       "\n",
       "    .dataframe thead th {\n",
       "        text-align: right;\n",
       "    }\n",
       "</style>\n",
       "<table border=\"1\" class=\"dataframe\">\n",
       "  <thead>\n",
       "    <tr style=\"text-align: right;\">\n",
       "      <th></th>\n",
       "      <th>current_assets</th>\n",
       "      <th>total_assets</th>\n",
       "      <th>cost_of_goods_sold</th>\n",
       "      <th>total_long_term_debt</th>\n",
       "      <th>depreciation_and_amortization</th>\n",
       "      <th>ebit</th>\n",
       "      <th>ebitda</th>\n",
       "      <th>gross_profit</th>\n",
       "      <th>inventory</th>\n",
       "      <th>total_current_liabilities</th>\n",
       "      <th>net_income</th>\n",
       "      <th>retained_earnings</th>\n",
       "      <th>total_receivables</th>\n",
       "      <th>total_revenue</th>\n",
       "      <th>market_value</th>\n",
       "      <th>total_liabilities</th>\n",
       "      <th>net_sales</th>\n",
       "      <th>total_operating_expenses</th>\n",
       "      <th>GOING_CONCERN</th>\n",
       "    </tr>\n",
       "  </thead>\n",
       "  <tbody>\n",
       "    <tr>\n",
       "      <th>0</th>\n",
       "      <td>511.267</td>\n",
       "      <td>740.998</td>\n",
       "      <td>833.107</td>\n",
       "      <td>180.447</td>\n",
       "      <td>18.373</td>\n",
       "      <td>70.658</td>\n",
       "      <td>89.031</td>\n",
       "      <td>191.226</td>\n",
       "      <td>336.018</td>\n",
       "      <td>163.816</td>\n",
       "      <td>35.163</td>\n",
       "      <td>201.026</td>\n",
       "      <td>128.348</td>\n",
       "      <td>1024.333</td>\n",
       "      <td>372.7519</td>\n",
       "      <td>401.483</td>\n",
       "      <td>1024.333</td>\n",
       "      <td>935.302</td>\n",
       "      <td>0.0</td>\n",
       "    </tr>\n",
       "    <tr>\n",
       "      <th>1</th>\n",
       "      <td>485.856</td>\n",
       "      <td>701.854</td>\n",
       "      <td>713.811</td>\n",
       "      <td>179.987</td>\n",
       "      <td>18.577</td>\n",
       "      <td>45.790</td>\n",
       "      <td>64.367</td>\n",
       "      <td>160.444</td>\n",
       "      <td>320.590</td>\n",
       "      <td>125.392</td>\n",
       "      <td>18.531</td>\n",
       "      <td>204.065</td>\n",
       "      <td>115.187</td>\n",
       "      <td>874.255</td>\n",
       "      <td>377.1180</td>\n",
       "      <td>361.642</td>\n",
       "      <td>874.255</td>\n",
       "      <td>809.888</td>\n",
       "      <td>0.0</td>\n",
       "    </tr>\n",
       "    <tr>\n",
       "      <th>2</th>\n",
       "      <td>436.656</td>\n",
       "      <td>710.199</td>\n",
       "      <td>526.477</td>\n",
       "      <td>217.699</td>\n",
       "      <td>22.496</td>\n",
       "      <td>4.711</td>\n",
       "      <td>27.207</td>\n",
       "      <td>112.244</td>\n",
       "      <td>286.588</td>\n",
       "      <td>150.464</td>\n",
       "      <td>-58.939</td>\n",
       "      <td>139.603</td>\n",
       "      <td>77.528</td>\n",
       "      <td>638.721</td>\n",
       "      <td>364.5928</td>\n",
       "      <td>399.964</td>\n",
       "      <td>638.721</td>\n",
       "      <td>611.514</td>\n",
       "      <td>0.0</td>\n",
       "    </tr>\n",
       "    <tr>\n",
       "      <th>3</th>\n",
       "      <td>396.412</td>\n",
       "      <td>686.621</td>\n",
       "      <td>496.747</td>\n",
       "      <td>164.658</td>\n",
       "      <td>27.172</td>\n",
       "      <td>3.573</td>\n",
       "      <td>30.745</td>\n",
       "      <td>109.590</td>\n",
       "      <td>259.954</td>\n",
       "      <td>203.575</td>\n",
       "      <td>-12.410</td>\n",
       "      <td>124.106</td>\n",
       "      <td>66.322</td>\n",
       "      <td>606.337</td>\n",
       "      <td>143.3295</td>\n",
       "      <td>391.633</td>\n",
       "      <td>606.337</td>\n",
       "      <td>575.592</td>\n",
       "      <td>0.0</td>\n",
       "    </tr>\n",
       "    <tr>\n",
       "      <th>4</th>\n",
       "      <td>432.204</td>\n",
       "      <td>709.292</td>\n",
       "      <td>523.302</td>\n",
       "      <td>248.666</td>\n",
       "      <td>26.680</td>\n",
       "      <td>20.811</td>\n",
       "      <td>47.491</td>\n",
       "      <td>128.656</td>\n",
       "      <td>247.245</td>\n",
       "      <td>131.261</td>\n",
       "      <td>3.504</td>\n",
       "      <td>131.884</td>\n",
       "      <td>104.661</td>\n",
       "      <td>651.958</td>\n",
       "      <td>308.9071</td>\n",
       "      <td>407.608</td>\n",
       "      <td>651.958</td>\n",
       "      <td>604.467</td>\n",
       "      <td>0.0</td>\n",
       "    </tr>\n",
       "  </tbody>\n",
       "</table>\n",
       "</div>"
      ],
      "text/plain": [
       "   current_assets  total_assets  cost_of_goods_sold  total_long_term_debt  \\\n",
       "0         511.267       740.998             833.107               180.447   \n",
       "1         485.856       701.854             713.811               179.987   \n",
       "2         436.656       710.199             526.477               217.699   \n",
       "3         396.412       686.621             496.747               164.658   \n",
       "4         432.204       709.292             523.302               248.666   \n",
       "\n",
       "   depreciation_and_amortization    ebit  ebitda  gross_profit  inventory  \\\n",
       "0                         18.373  70.658  89.031       191.226    336.018   \n",
       "1                         18.577  45.790  64.367       160.444    320.590   \n",
       "2                         22.496   4.711  27.207       112.244    286.588   \n",
       "3                         27.172   3.573  30.745       109.590    259.954   \n",
       "4                         26.680  20.811  47.491       128.656    247.245   \n",
       "\n",
       "   total_current_liabilities  net_income  retained_earnings  \\\n",
       "0                    163.816      35.163            201.026   \n",
       "1                    125.392      18.531            204.065   \n",
       "2                    150.464     -58.939            139.603   \n",
       "3                    203.575     -12.410            124.106   \n",
       "4                    131.261       3.504            131.884   \n",
       "\n",
       "   total_receivables  total_revenue  market_value  total_liabilities  \\\n",
       "0            128.348       1024.333      372.7519            401.483   \n",
       "1            115.187        874.255      377.1180            361.642   \n",
       "2             77.528        638.721      364.5928            399.964   \n",
       "3             66.322        606.337      143.3295            391.633   \n",
       "4            104.661        651.958      308.9071            407.608   \n",
       "\n",
       "   net_sales  total_operating_expenses  GOING_CONCERN  \n",
       "0   1024.333                   935.302            0.0  \n",
       "1    874.255                   809.888            0.0  \n",
       "2    638.721                   611.514            0.0  \n",
       "3    606.337                   575.592            0.0  \n",
       "4    651.958                   604.467            0.0  "
      ]
     },
     "execution_count": 14,
     "metadata": {},
     "output_type": "execute_result"
    }
   ],
   "source": [
    "numerical_only = bank_data.select_dtypes(include=['float64','int64'])\n",
    "X = numerical_only.drop(['cik','fyear','status'], axis=1)\n",
    "y = numerical_only['status']\n",
    "X.head()"
   ]
  },
  {
   "cell_type": "code",
   "execution_count": 15,
   "metadata": {},
   "outputs": [],
   "source": [
    "pos_samples = X[y == 1]\n",
    "neg_samples = X[y == 0]"
   ]
  },
  {
   "cell_type": "code",
   "execution_count": 16,
   "metadata": {},
   "outputs": [
    {
     "name": "stdout",
     "output_type": "stream",
     "text": [
      "37752\n",
      "41302\n"
     ]
    }
   ],
   "source": [
    "going = X[bank_data['GOING_CONCERN'] == 0.0]\n",
    "not_going = X[bank_data['GOING_CONCERN'] == 1.0]\n",
    "\n",
    "print(len(going))\n",
    "print(len(not_going))"
   ]
  },
  {
   "cell_type": "code",
   "execution_count": null,
   "metadata": {},
   "outputs": [],
   "source": [
    "going.head()"
   ]
  },
  {
   "cell_type": "code",
   "execution_count": null,
   "metadata": {},
   "outputs": [],
   "source": [
    "not_going.head()"
   ]
  },
  {
   "attachments": {},
   "cell_type": "markdown",
   "metadata": {},
   "source": [
    "# Balance Data"
   ]
  },
  {
   "cell_type": "code",
   "execution_count": 17,
   "metadata": {},
   "outputs": [
    {
     "name": "stdout",
     "output_type": "stream",
     "text": [
      "Sample distributions:\n",
      "    Total: 79054\n",
      "    Not Bankrupt (0): 73821 (93.38% of total)\n",
      "    Bankrupt (1): 5233 (6.62% of total)\n"
     ]
    }
   ],
   "source": [
    "neg, pos = np.bincount(numerical_only['status'])\n",
    "total = neg + pos\n",
    "print('Sample distributions:\\n    Total: {}\\n    Not Bankrupt (0): {} ({:.2f}% of total)\\n    Bankrupt (1): {} ({:.2f}% of total)'.format(\n",
    "    total, neg, (100 * neg) / total, pos, (100 * pos) / total))"
   ]
  },
  {
   "cell_type": "code",
   "execution_count": 13,
   "metadata": {},
   "outputs": [
    {
     "ename": "ValueError",
     "evalue": "'label' must be of length 'x'",
     "output_type": "error",
     "traceback": [
      "\u001b[0;31m---------------------------------------------------------------------------\u001b[0m",
      "\u001b[0;31mValueError\u001b[0m                                Traceback (most recent call last)",
      "\u001b[0;32m/var/folders/bz/vm79k19966x72r5s425vw7zm0000gp/T/ipykernel_12038/919818057.py\u001b[0m in \u001b[0;36m<module>\u001b[0;34m\u001b[0m\n\u001b[1;32m      1\u001b[0m \u001b[0;32mimport\u001b[0m \u001b[0mmatplotlib\u001b[0m\u001b[0;34m.\u001b[0m\u001b[0mpyplot\u001b[0m \u001b[0;32mas\u001b[0m \u001b[0mplt\u001b[0m\u001b[0;34m\u001b[0m\u001b[0;34m\u001b[0m\u001b[0m\n\u001b[1;32m      2\u001b[0m \u001b[0mpie_labels\u001b[0m \u001b[0;34m=\u001b[0m \u001b[0;34m[\u001b[0m\u001b[0;34m'Not Bankrupt'\u001b[0m\u001b[0;34m,\u001b[0m \u001b[0;34m'Bankrupt'\u001b[0m\u001b[0;34m]\u001b[0m\u001b[0;34m\u001b[0m\u001b[0;34m\u001b[0m\u001b[0m\n\u001b[0;32m----> 3\u001b[0;31m \u001b[0mplt\u001b[0m\u001b[0;34m.\u001b[0m\u001b[0mpie\u001b[0m\u001b[0;34m(\u001b[0m\u001b[0;34m[\u001b[0m\u001b[0mneg\u001b[0m\u001b[0;34m,\u001b[0m \u001b[0mpos\u001b[0m\u001b[0;34m]\u001b[0m\u001b[0;34m,\u001b[0m \u001b[0mlabels\u001b[0m\u001b[0;34m=\u001b[0m\u001b[0mlabels\u001b[0m\u001b[0;34m,\u001b[0m \u001b[0mautopct\u001b[0m\u001b[0;34m=\u001b[0m\u001b[0;34m'%1.1f%%'\u001b[0m\u001b[0;34m,\u001b[0m \u001b[0mshadow\u001b[0m\u001b[0;34m=\u001b[0m\u001b[0;32mTrue\u001b[0m\u001b[0;34m,\u001b[0m \u001b[0mstartangle\u001b[0m\u001b[0;34m=\u001b[0m\u001b[0;36m90\u001b[0m\u001b[0;34m)\u001b[0m\u001b[0;34m\u001b[0m\u001b[0;34m\u001b[0m\u001b[0m\n\u001b[0m\u001b[1;32m      4\u001b[0m \u001b[0mplt\u001b[0m\u001b[0;34m.\u001b[0m\u001b[0mtitle\u001b[0m\u001b[0;34m(\u001b[0m\u001b[0;34m'Distribution of Bankruptcies'\u001b[0m\u001b[0;34m)\u001b[0m\u001b[0;34m\u001b[0m\u001b[0;34m\u001b[0m\u001b[0m\n\u001b[1;32m      5\u001b[0m \u001b[0;34m\u001b[0m\u001b[0m\n",
      "\u001b[0;32m/opt/anaconda3/lib/python3.9/site-packages/matplotlib/pyplot.py\u001b[0m in \u001b[0;36mpie\u001b[0;34m(x, explode, labels, colors, autopct, pctdistance, shadow, labeldistance, startangle, radius, counterclock, wedgeprops, textprops, center, frame, rotatelabels, normalize, data)\u001b[0m\n\u001b[1;32m   3004\u001b[0m         \u001b[0mtextprops\u001b[0m\u001b[0;34m=\u001b[0m\u001b[0;32mNone\u001b[0m\u001b[0;34m,\u001b[0m \u001b[0mcenter\u001b[0m\u001b[0;34m=\u001b[0m\u001b[0;34m(\u001b[0m\u001b[0;36m0\u001b[0m\u001b[0;34m,\u001b[0m \u001b[0;36m0\u001b[0m\u001b[0;34m)\u001b[0m\u001b[0;34m,\u001b[0m \u001b[0mframe\u001b[0m\u001b[0;34m=\u001b[0m\u001b[0;32mFalse\u001b[0m\u001b[0;34m,\u001b[0m\u001b[0;34m\u001b[0m\u001b[0;34m\u001b[0m\u001b[0m\n\u001b[1;32m   3005\u001b[0m         rotatelabels=False, *, normalize=None, data=None):\n\u001b[0;32m-> 3006\u001b[0;31m     return gca().pie(\n\u001b[0m\u001b[1;32m   3007\u001b[0m         \u001b[0mx\u001b[0m\u001b[0;34m,\u001b[0m \u001b[0mexplode\u001b[0m\u001b[0;34m=\u001b[0m\u001b[0mexplode\u001b[0m\u001b[0;34m,\u001b[0m \u001b[0mlabels\u001b[0m\u001b[0;34m=\u001b[0m\u001b[0mlabels\u001b[0m\u001b[0;34m,\u001b[0m \u001b[0mcolors\u001b[0m\u001b[0;34m=\u001b[0m\u001b[0mcolors\u001b[0m\u001b[0;34m,\u001b[0m\u001b[0;34m\u001b[0m\u001b[0;34m\u001b[0m\u001b[0m\n\u001b[1;32m   3008\u001b[0m         \u001b[0mautopct\u001b[0m\u001b[0;34m=\u001b[0m\u001b[0mautopct\u001b[0m\u001b[0;34m,\u001b[0m \u001b[0mpctdistance\u001b[0m\u001b[0;34m=\u001b[0m\u001b[0mpctdistance\u001b[0m\u001b[0;34m,\u001b[0m \u001b[0mshadow\u001b[0m\u001b[0;34m=\u001b[0m\u001b[0mshadow\u001b[0m\u001b[0;34m,\u001b[0m\u001b[0;34m\u001b[0m\u001b[0;34m\u001b[0m\u001b[0m\n",
      "\u001b[0;32m/opt/anaconda3/lib/python3.9/site-packages/matplotlib/__init__.py\u001b[0m in \u001b[0;36minner\u001b[0;34m(ax, data, *args, **kwargs)\u001b[0m\n\u001b[1;32m   1359\u001b[0m     \u001b[0;32mdef\u001b[0m \u001b[0minner\u001b[0m\u001b[0;34m(\u001b[0m\u001b[0max\u001b[0m\u001b[0;34m,\u001b[0m \u001b[0;34m*\u001b[0m\u001b[0margs\u001b[0m\u001b[0;34m,\u001b[0m \u001b[0mdata\u001b[0m\u001b[0;34m=\u001b[0m\u001b[0;32mNone\u001b[0m\u001b[0;34m,\u001b[0m \u001b[0;34m**\u001b[0m\u001b[0mkwargs\u001b[0m\u001b[0;34m)\u001b[0m\u001b[0;34m:\u001b[0m\u001b[0;34m\u001b[0m\u001b[0;34m\u001b[0m\u001b[0m\n\u001b[1;32m   1360\u001b[0m         \u001b[0;32mif\u001b[0m \u001b[0mdata\u001b[0m \u001b[0;32mis\u001b[0m \u001b[0;32mNone\u001b[0m\u001b[0;34m:\u001b[0m\u001b[0;34m\u001b[0m\u001b[0;34m\u001b[0m\u001b[0m\n\u001b[0;32m-> 1361\u001b[0;31m             \u001b[0;32mreturn\u001b[0m \u001b[0mfunc\u001b[0m\u001b[0;34m(\u001b[0m\u001b[0max\u001b[0m\u001b[0;34m,\u001b[0m \u001b[0;34m*\u001b[0m\u001b[0mmap\u001b[0m\u001b[0;34m(\u001b[0m\u001b[0msanitize_sequence\u001b[0m\u001b[0;34m,\u001b[0m \u001b[0margs\u001b[0m\u001b[0;34m)\u001b[0m\u001b[0;34m,\u001b[0m \u001b[0;34m**\u001b[0m\u001b[0mkwargs\u001b[0m\u001b[0;34m)\u001b[0m\u001b[0;34m\u001b[0m\u001b[0;34m\u001b[0m\u001b[0m\n\u001b[0m\u001b[1;32m   1362\u001b[0m \u001b[0;34m\u001b[0m\u001b[0m\n\u001b[1;32m   1363\u001b[0m         \u001b[0mbound\u001b[0m \u001b[0;34m=\u001b[0m \u001b[0mnew_sig\u001b[0m\u001b[0;34m.\u001b[0m\u001b[0mbind\u001b[0m\u001b[0;34m(\u001b[0m\u001b[0max\u001b[0m\u001b[0;34m,\u001b[0m \u001b[0;34m*\u001b[0m\u001b[0margs\u001b[0m\u001b[0;34m,\u001b[0m \u001b[0;34m**\u001b[0m\u001b[0mkwargs\u001b[0m\u001b[0;34m)\u001b[0m\u001b[0;34m\u001b[0m\u001b[0;34m\u001b[0m\u001b[0m\n",
      "\u001b[0;32m/opt/anaconda3/lib/python3.9/site-packages/matplotlib/axes/_axes.py\u001b[0m in \u001b[0;36mpie\u001b[0;34m(self, x, explode, labels, colors, autopct, pctdistance, shadow, labeldistance, startangle, radius, counterclock, wedgeprops, textprops, center, frame, rotatelabels, normalize)\u001b[0m\n\u001b[1;32m   3057\u001b[0m             \u001b[0mexplode\u001b[0m \u001b[0;34m=\u001b[0m \u001b[0;34m[\u001b[0m\u001b[0;36m0\u001b[0m\u001b[0;34m]\u001b[0m \u001b[0;34m*\u001b[0m \u001b[0mlen\u001b[0m\u001b[0;34m(\u001b[0m\u001b[0mx\u001b[0m\u001b[0;34m)\u001b[0m\u001b[0;34m\u001b[0m\u001b[0;34m\u001b[0m\u001b[0m\n\u001b[1;32m   3058\u001b[0m         \u001b[0;32mif\u001b[0m \u001b[0mlen\u001b[0m\u001b[0;34m(\u001b[0m\u001b[0mx\u001b[0m\u001b[0;34m)\u001b[0m \u001b[0;34m!=\u001b[0m \u001b[0mlen\u001b[0m\u001b[0;34m(\u001b[0m\u001b[0mlabels\u001b[0m\u001b[0;34m)\u001b[0m\u001b[0;34m:\u001b[0m\u001b[0;34m\u001b[0m\u001b[0;34m\u001b[0m\u001b[0m\n\u001b[0;32m-> 3059\u001b[0;31m             \u001b[0;32mraise\u001b[0m \u001b[0mValueError\u001b[0m\u001b[0;34m(\u001b[0m\u001b[0;34m\"'label' must be of length 'x'\"\u001b[0m\u001b[0;34m)\u001b[0m\u001b[0;34m\u001b[0m\u001b[0;34m\u001b[0m\u001b[0m\n\u001b[0m\u001b[1;32m   3060\u001b[0m         \u001b[0;32mif\u001b[0m \u001b[0mlen\u001b[0m\u001b[0;34m(\u001b[0m\u001b[0mx\u001b[0m\u001b[0;34m)\u001b[0m \u001b[0;34m!=\u001b[0m \u001b[0mlen\u001b[0m\u001b[0;34m(\u001b[0m\u001b[0mexplode\u001b[0m\u001b[0;34m)\u001b[0m\u001b[0;34m:\u001b[0m\u001b[0;34m\u001b[0m\u001b[0;34m\u001b[0m\u001b[0m\n\u001b[1;32m   3061\u001b[0m             \u001b[0;32mraise\u001b[0m \u001b[0mValueError\u001b[0m\u001b[0;34m(\u001b[0m\u001b[0;34m\"'explode' must be of length 'x'\"\u001b[0m\u001b[0;34m)\u001b[0m\u001b[0;34m\u001b[0m\u001b[0;34m\u001b[0m\u001b[0m\n",
      "\u001b[0;31mValueError\u001b[0m: 'label' must be of length 'x'"
     ]
    },
    {
     "data": {
      "image/png": "[encoded data removed]",
      "text/plain": [
       "<Figure size 432x288 with 1 Axes>"
      ]
     },
     "metadata": {
      "needs_background": "light"
     },
     "output_type": "display_data"
    }
   ],
   "source": [
    "import matplotlib.pyplot as plt\n",
    "pie_labels = ['Not Bankrupt', 'Bankrupt']\n",
    "plt.pie([neg, pos], labels=labels, autopct='%1.1f%%', shadow=True, startangle=90)\n",
    "plt.title('Distribution of Bankruptcies')\n",
    "\n",
    "plt.show()"
   ]
  },
  {
   "attachments": {},
   "cell_type": "markdown",
   "metadata": {},
   "source": [
    "### Resample the dataset"
   ]
  },
  {
   "cell_type": "code",
   "execution_count": 18,
   "metadata": {},
   "outputs": [
    {
     "name": "stdout",
     "output_type": "stream",
     "text": [
      "0    5233\n",
      "1    5233\n",
      "Name: status, dtype: int64\n"
     ]
    }
   ],
   "source": [
    "indices = bank_data[bank_data['status'] == 0].index\n",
    "random_indices = np.random.choice(indices, size=neg-pos, replace=False)\n",
    "bank_balanced = bank_data.drop(random_indices)\n",
    "\n",
    "counts = bank_balanced['status'].value_counts()\n",
    "print(counts)"
   ]
  },
  {
   "cell_type": "code",
   "execution_count": 19,
   "metadata": {},
   "outputs": [
    {
     "data": {
      "text/html": [
       "<div>\n",
       "<style scoped>\n",
       "    .dataframe tbody tr th:only-of-type {\n",
       "        vertical-align: middle;\n",
       "    }\n",
       "\n",
       "    .dataframe tbody tr th {\n",
       "        vertical-align: top;\n",
       "    }\n",
       "\n",
       "    .dataframe thead th {\n",
       "        text-align: right;\n",
       "    }\n",
       "</style>\n",
       "<table border=\"1\" class=\"dataframe\">\n",
       "  <thead>\n",
       "    <tr style=\"text-align: right;\">\n",
       "      <th></th>\n",
       "      <th>current_assets</th>\n",
       "      <th>total_assets</th>\n",
       "      <th>cost_of_goods_sold</th>\n",
       "      <th>total_long_term_debt</th>\n",
       "      <th>depreciation_and_amortization</th>\n",
       "      <th>ebit</th>\n",
       "      <th>ebitda</th>\n",
       "      <th>gross_profit</th>\n",
       "      <th>inventory</th>\n",
       "      <th>total_current_liabilities</th>\n",
       "      <th>net_income</th>\n",
       "      <th>retained_earnings</th>\n",
       "      <th>total_receivables</th>\n",
       "      <th>total_revenue</th>\n",
       "      <th>market_value</th>\n",
       "      <th>total_liabilities</th>\n",
       "      <th>net_sales</th>\n",
       "      <th>total_operating_expenses</th>\n",
       "      <th>GOING_CONCERN</th>\n",
       "    </tr>\n",
       "  </thead>\n",
       "  <tbody>\n",
       "    <tr>\n",
       "      <th>14</th>\n",
       "      <td>1116.900</td>\n",
       "      <td>2199.500</td>\n",
       "      <td>1581.400</td>\n",
       "      <td>564.300</td>\n",
       "      <td>113.400</td>\n",
       "      <td>142.600</td>\n",
       "      <td>256.000</td>\n",
       "      <td>453.600</td>\n",
       "      <td>632.900</td>\n",
       "      <td>402.100</td>\n",
       "      <td>72.900</td>\n",
       "      <td>616.700</td>\n",
       "      <td>297.900</td>\n",
       "      <td>2035.00</td>\n",
       "      <td>961.3080</td>\n",
       "      <td>1198.800</td>\n",
       "      <td>2035.00</td>\n",
       "      <td>1779.000</td>\n",
       "      <td>0.0</td>\n",
       "    </tr>\n",
       "    <tr>\n",
       "      <th>28</th>\n",
       "      <td>1077.400</td>\n",
       "      <td>1921.000</td>\n",
       "      <td>870.700</td>\n",
       "      <td>650.700</td>\n",
       "      <td>82.400</td>\n",
       "      <td>90.900</td>\n",
       "      <td>173.300</td>\n",
       "      <td>585.700</td>\n",
       "      <td>162.700</td>\n",
       "      <td>278.000</td>\n",
       "      <td>-41.900</td>\n",
       "      <td>-505.600</td>\n",
       "      <td>240.600</td>\n",
       "      <td>1456.40</td>\n",
       "      <td>705.6420</td>\n",
       "      <td>1006.800</td>\n",
       "      <td>1456.40</td>\n",
       "      <td>1283.100</td>\n",
       "      <td>1.0</td>\n",
       "    </tr>\n",
       "    <tr>\n",
       "      <th>39</th>\n",
       "      <td>12.686</td>\n",
       "      <td>21.401</td>\n",
       "      <td>19.334</td>\n",
       "      <td>0.023</td>\n",
       "      <td>1.686</td>\n",
       "      <td>-4.407</td>\n",
       "      <td>-2.721</td>\n",
       "      <td>14.946</td>\n",
       "      <td>6.950</td>\n",
       "      <td>16.483</td>\n",
       "      <td>-11.049</td>\n",
       "      <td>-21.447</td>\n",
       "      <td>4.282</td>\n",
       "      <td>34.28</td>\n",
       "      <td>5.0201</td>\n",
       "      <td>17.224</td>\n",
       "      <td>34.28</td>\n",
       "      <td>37.001</td>\n",
       "      <td>1.0</td>\n",
       "    </tr>\n",
       "    <tr>\n",
       "      <th>42</th>\n",
       "      <td>662.521</td>\n",
       "      <td>2390.008</td>\n",
       "      <td>505.498</td>\n",
       "      <td>1030.254</td>\n",
       "      <td>77.611</td>\n",
       "      <td>85.990</td>\n",
       "      <td>163.601</td>\n",
       "      <td>469.492</td>\n",
       "      <td>331.773</td>\n",
       "      <td>343.155</td>\n",
       "      <td>-37.914</td>\n",
       "      <td>-15.463</td>\n",
       "      <td>259.246</td>\n",
       "      <td>974.99</td>\n",
       "      <td>1172.2111</td>\n",
       "      <td>1498.392</td>\n",
       "      <td>974.99</td>\n",
       "      <td>811.389</td>\n",
       "      <td>1.0</td>\n",
       "    </tr>\n",
       "    <tr>\n",
       "      <th>50</th>\n",
       "      <td>4424.000</td>\n",
       "      <td>24374.000</td>\n",
       "      <td>15482.000</td>\n",
       "      <td>5689.000</td>\n",
       "      <td>1092.000</td>\n",
       "      <td>1156.000</td>\n",
       "      <td>2248.000</td>\n",
       "      <td>2248.000</td>\n",
       "      <td>708.000</td>\n",
       "      <td>5864.000</td>\n",
       "      <td>985.000</td>\n",
       "      <td>5716.000</td>\n",
       "      <td>1134.000</td>\n",
       "      <td>17730.00</td>\n",
       "      <td>9932.4150</td>\n",
       "      <td>17516.000</td>\n",
       "      <td>17730.00</td>\n",
       "      <td>15482.000</td>\n",
       "      <td>0.0</td>\n",
       "    </tr>\n",
       "  </tbody>\n",
       "</table>\n",
       "</div>"
      ],
      "text/plain": [
       "    current_assets  total_assets  cost_of_goods_sold  total_long_term_debt  \\\n",
       "14        1116.900      2199.500            1581.400               564.300   \n",
       "28        1077.400      1921.000             870.700               650.700   \n",
       "39          12.686        21.401              19.334                 0.023   \n",
       "42         662.521      2390.008             505.498              1030.254   \n",
       "50        4424.000     24374.000           15482.000              5689.000   \n",
       "\n",
       "    depreciation_and_amortization      ebit    ebitda  gross_profit  \\\n",
       "14                        113.400   142.600   256.000       453.600   \n",
       "28                         82.400    90.900   173.300       585.700   \n",
       "39                          1.686    -4.407    -2.721        14.946   \n",
       "42                         77.611    85.990   163.601       469.492   \n",
       "50                       1092.000  1156.000  2248.000      2248.000   \n",
       "\n",
       "    inventory  total_current_liabilities  net_income  retained_earnings  \\\n",
       "14    632.900                    402.100      72.900            616.700   \n",
       "28    162.700                    278.000     -41.900           -505.600   \n",
       "39      6.950                     16.483     -11.049            -21.447   \n",
       "42    331.773                    343.155     -37.914            -15.463   \n",
       "50    708.000                   5864.000     985.000           5716.000   \n",
       "\n",
       "    total_receivables  total_revenue  market_value  total_liabilities  \\\n",
       "14            297.900        2035.00      961.3080           1198.800   \n",
       "28            240.600        1456.40      705.6420           1006.800   \n",
       "39              4.282          34.28        5.0201             17.224   \n",
       "42            259.246         974.99     1172.2111           1498.392   \n",
       "50           1134.000       17730.00     9932.4150          17516.000   \n",
       "\n",
       "    net_sales  total_operating_expenses  GOING_CONCERN  \n",
       "14    2035.00                  1779.000            0.0  \n",
       "28    1456.40                  1283.100            1.0  \n",
       "39      34.28                    37.001            1.0  \n",
       "42     974.99                   811.389            1.0  \n",
       "50   17730.00                 15482.000            0.0  "
      ]
     },
     "execution_count": 19,
     "metadata": {},
     "output_type": "execute_result"
    }
   ],
   "source": [
    "numerical_only = bank_balanced.select_dtypes(include=['float64','int64'])\n",
    "X = numerical_only.drop(['cik','fyear','status'], axis=1)\n",
    "y = numerical_only['status']\n",
    "X.head()"
   ]
  },
  {
   "cell_type": "code",
   "execution_count": 20,
   "metadata": {},
   "outputs": [
    {
     "name": "stdout",
     "output_type": "stream",
     "text": [
      "Train set shapes: (7368, 19) (7368,)\n",
      "Validation set shapes: (1842, 19) (1842,)\n",
      "Test set shapes: (1256, 19) (1256,)\n"
     ]
    }
   ],
   "source": [
    "from sklearn.model_selection import train_test_split\n",
    "\n",
    "X_, X_test, y_, y_test = train_test_split(X, y, test_size=0.12, random_state=42)\n",
    "\n",
    "X_train, X_val, y_train, y_val = train_test_split(X_, y_, test_size=0.2, random_state=42)\n",
    "\n",
    "# Print the shapes of the resulting datasets\n",
    "print(\"Train set shapes:\", X_train.shape, y_train.shape)\n",
    "print(\"Validation set shapes:\", X_val.shape, y_val.shape)\n",
    "print(\"Test set shapes:\", X_test.shape, y_test.shape)\n"
   ]
  },
  {
   "cell_type": "code",
   "execution_count": 21,
   "metadata": {},
   "outputs": [
    {
     "data": {
      "text/plain": [
       "7368"
      ]
     },
     "execution_count": 21,
     "metadata": {},
     "output_type": "execute_result"
    }
   ],
   "source": [
    "y_train.count()"
   ]
  },
  {
   "cell_type": "code",
   "execution_count": 22,
   "metadata": {},
   "outputs": [
    {
     "data": {
      "text/plain": [
       "1    649\n",
       "0    607\n",
       "Name: status, dtype: int64"
      ]
     },
     "execution_count": 22,
     "metadata": {},
     "output_type": "execute_result"
    }
   ],
   "source": [
    "y_test.value_counts()"
   ]
  },
  {
   "cell_type": "code",
   "execution_count": 23,
   "metadata": {},
   "outputs": [],
   "source": [
    "y_hot_test = tf.one_hot(y_test, depth=2)\n",
    "y_hot_val = tf.one_hot(y_val, depth=2)\n",
    "y_hot_train = tf.one_hot(y_train, depth=2)"
   ]
  },
  {
   "cell_type": "code",
   "execution_count": null,
   "metadata": {},
   "outputs": [],
   "source": [
    "# from imblearn.over_sampling import SMOTE\n",
    "# from sklearn.model_selection import train_test_split\n",
    "\n",
    "# # Split the data into train and test sets (80% train, 20% test)\n",
    "# train_data, test_data, train_labels, test_labels = train_test_split(X, y, test_size=0.15, random_state=42)\n",
    "\n",
    "# # Further split the train data into train and validation sets (80% train, 20% validation)\n",
    "# train_data, val_data, train_labels, val_labels = train_test_split(train_data, train_labels, test_size=0.17, random_state=42)\n",
    "\n",
    "# # Perform oversampling on the train data\n",
    "# # smote = SMOTE()"
   ]
  },
  {
   "cell_type": "code",
   "execution_count": null,
   "metadata": {},
   "outputs": [],
   "source": [
    "train_data_resampled, train_labels_resampled = smote.fit_resample(train_data, train_labels)"
   ]
  },
  {
   "cell_type": "code",
   "execution_count": null,
   "metadata": {},
   "outputs": [],
   "source": [
    "val_data_resampled, val_labels_resampled = smote.fit_resample(val_data, val_labels)"
   ]
  },
  {
   "cell_type": "code",
   "execution_count": 282,
   "metadata": {},
   "outputs": [
    {
     "name": "stdout",
     "output_type": "stream",
     "text": [
      "Input Shape: (19,)\n"
     ]
    }
   ],
   "source": [
    "input_shape = X.shape[1:]\n",
    "print(\"Input Shape:\", input_shape)"
   ]
  },
  {
   "cell_type": "code",
   "execution_count": null,
   "metadata": {},
   "outputs": [],
   "source": [
    "# y_hot_train = tf.one_hot(train_labels_resampled, 2)\n",
    "# y_hot_val = tf.one_hot(val_labels_resampled, 2)\n",
    "# y_hot_test = tf.one_hot(test_labels, 2)"
   ]
  },
  {
   "attachments": {},
   "cell_type": "markdown",
   "metadata": {},
   "source": [
    "## Evaluate the data distribution"
   ]
  },
  {
   "cell_type": "code",
   "execution_count": 506,
   "metadata": {},
   "outputs": [
    {
     "name": "stdout",
     "output_type": "stream",
     "text": [
      "                           Column         Mean      Variance         Range\n",
      "0                  current_assets   877.446684  1.536613e+07  1.696698e+05\n",
      "1              cost_of_goods_sold  1589.191097  7.940366e+07  3.749896e+05\n",
      "2   depreciation_and_amortization   120.849169  4.240030e+05  2.843000e+04\n",
      "3                          ebitda   375.343378  4.030445e+06  1.036430e+05\n",
      "4                       inventory   200.928207  1.120234e+06  6.256700e+04\n",
      "5                      net_income   128.682836  1.594337e+06  2.035170e+05\n",
      "6               total_receivables   285.885926  1.777024e+06  6.581201e+04\n",
      "7                    market_value  3402.912544  3.376191e+08  1.073391e+06\n",
      "8                       net_sales  2356.044158  1.421817e+08  5.136940e+05\n",
      "9                    total_assets  2858.946637  1.663861e+08  5.318640e+05\n",
      "10           total_long_term_debt   720.747355  1.048586e+07  1.662500e+05\n",
      "11                           ebit   254.494076  2.223949e+06  9.714300e+04\n",
      "12                   gross_profit   766.853166  1.418699e+07  1.586420e+05\n",
      "13      total_current_liabilities   607.998769  8.596953e+06  1.168660e+05\n",
      "14              retained_earnings   529.441615  4.037835e+07  5.044510e+05\n",
      "15                  total_revenue  2356.044158  1.421817e+08  5.136940e+05\n",
      "16              total_liabilities  1768.543101  6.465384e+07  3.379800e+05\n",
      "17       total_operating_expenses  1980.700805  1.080953e+08  4.818972e+05\n",
      "18                  GOING_CONCERN     0.522453  2.494959e-01  1.000000e+00\n"
     ]
    }
   ],
   "source": [
    "import pandas as pd\n",
    "import numpy as np\n",
    "\n",
    "# Select the columns of interest\n",
    "columns_of_interest = ['current_assets', 'cost_of_goods_sold', 'depreciation_and_amortization', 'ebitda',\n",
    "                       'inventory', 'net_income', 'total_receivables', 'market_value', 'net_sales',\n",
    "                       'total_assets', 'total_long_term_debt', 'ebit', 'gross_profit', 'total_current_liabilities',\n",
    "                       'retained_earnings', 'total_revenue', 'total_liabilities', 'total_operating_expenses',\n",
    "                       'GOING_CONCERN']\n",
    "\n",
    "# Create an empty dataframe to store results\n",
    "results_df = pd.DataFrame(columns=['Column', 'Mean', 'Variance', 'Range'])\n",
    "\n",
    "# Calculate statistics for each column\n",
    "for column in columns_of_interest:\n",
    "    data = og_data[column]\n",
    "\n",
    "    # Calculate mean, variance, and range\n",
    "    mean = np.mean(data)\n",
    "    variance = np.var(data)\n",
    "    data_range = np.ptp(data)\n",
    "\n",
    "    # Add row to the results dataframe\n",
    "    results_df = results_df.append({'Column': column, 'Mean': mean, 'Variance': variance, 'Range': data_range},\n",
    "                                   ignore_index=True)\n",
    "\n",
    "# Display the results table\n",
    "print(results_df)\n"
   ]
  },
  {
   "attachments": {},
   "cell_type": "markdown",
   "metadata": {},
   "source": [
    "#### Preform one_hot encode to make binary values categorical"
   ]
  },
  {
   "cell_type": "code",
   "execution_count": null,
   "metadata": {},
   "outputs": [],
   "source": [
    "y_hot = tf.one_hot(y, 2)"
   ]
  },
  {
   "cell_type": "code",
   "execution_count": null,
   "metadata": {},
   "outputs": [],
   "source": [
    "initial_bias = np.log([pos/neg])\n",
    "initial_bias"
   ]
  },
  {
   "cell_type": "code",
   "execution_count": 283,
   "metadata": {},
   "outputs": [],
   "source": [
    "import os\n",
    "\n",
    "def create_callbacks(checkpoint_dir, checkpoint_freq, checkpoint_period):\n",
    "    checkpoint_callback = tf.keras.callbacks.ModelCheckpoint(\n",
    "        filepath=os.path.join(checkpoint_dir, 'ckpt_{epoch}'),\n",
    "        save_freq=checkpoint_freq,\n",
    "        period=checkpoint_period,\n",
    "        # save_best_only=True\n",
    "    )\n",
    "    return [checkpoint_callback]"
   ]
  },
  {
   "cell_type": "code",
   "execution_count": null,
   "metadata": {},
   "outputs": [],
   "source": [
    "def binary_classification(input_shape=(19,)):\n",
    "    \n",
    "    model = tf.keras.Sequential([\n",
    "        tf.keras.layers.experimental.preprocessing.Normalization(),\n",
    "        tf.keras.layers.Dense(20, activation='relu'),\n",
    "        tf.keras.layers.Dense(8, activation='relu'),\n",
    "        tf.keras.layers.Dense(2, activation='softmax'),\n",
    "    ])\n",
    "    \n",
    "    optimizer = tf.keras.optimizers.Adam(learning_rate=0.00001)\n",
    "\n",
    "    model.compile(optimizer,\n",
    "                  loss=tf.keras.losses.BinaryCrossentropy(from_logits=False),\n",
    "                  metrics=['accuracy'])\n",
    "    \n",
    "    return model"
   ]
  },
  {
   "cell_type": "code",
   "execution_count": null,
   "metadata": {},
   "outputs": [],
   "source": [
    "# # from tensorflow.keras import initializers\n",
    "# # Define and compile the model\n",
    "\n",
    "# def model_thing():\n",
    "#   model = tf.keras.Sequential([\n",
    "#     tf.keras.layers.Normalization(input_shape=input_shape),\n",
    "#       tf.keras.layers.Dense(24, activation='relu', input_shape=input_shape),\n",
    "#                             #bias_initializer=initializers.Constant(initial_bias)),\n",
    "#       tf.keras.layers.Dense(12, activation='relu'),\n",
    "#       tf.keras.layers.Dropout(0.2),\n",
    "#       tf.keras.layers.Dense(2, activation='softmax')\n",
    "#   ])\n",
    "\n",
    "#   model.compile(loss='binary_crossentropy',\n",
    "#                 optimizer=tf.keras.optimizers.Adam(learning_rate=0.00001, weight_decay=0.001),\n",
    "#                 metrics=[tf.keras.metrics.Accuracy(), tf.keras.metrics.Precision(), tf.keras.metrics.Recall()])\n",
    "\n",
    "#   return model\n",
    "\n",
    "# # early_stopping = tf.keras.callbacks.EarlyStopping(monitor='val_loss', patience=6)\n"
   ]
  },
  {
   "cell_type": "code",
   "execution_count": null,
   "metadata": {},
   "outputs": [],
   "source": [
    "callbacks = [\n",
    "    #create_callbacks('model_checkpoints/model_going_all_data/', 'epoch', 10)\n",
    "    tf.keras.callbacks.EarlyStopping(patience=6, monitor='val_loss'),\n",
    "]\n",
    "    # create_callbacks('model_checkpoints/model_going/', 10, 10)\n",
    "    # tf.keras.callbacks.ModelCheckpoint(filepath='model_checkpoints/model_going/', 'epoch', 10, save_best_only=True)\n",
    "\n",
    "# retrained model on full dataset\n",
    "theMod = binary_classification()\n",
    "theMod.fit(\n",
    "    X_train,\n",
    "    y_hot_train, \n",
    "    epochs=300, \n",
    "    batch_size=24, \n",
    "    validation_data=(X_val, y_hot_val),\n",
    "    callbacks=callbacks\n",
    "    )\n",
    "\n",
    "# results = theMod.evaluate(train_data, y_hot_train, batch_size=24, verbose=0)\n",
    "# print(\"Loss: {:0.4f}\".format(results[0]))"
   ]
  },
  {
   "cell_type": "code",
   "execution_count": null,
   "metadata": {},
   "outputs": [],
   "source": [
    "plot_history(theMod.history)"
   ]
  },
  {
   "cell_type": "code",
   "execution_count": 24,
   "metadata": {},
   "outputs": [],
   "source": [
    "final_model = tf.keras.models.load_model('model_checkpoints/final_bankruptcy_model')"
   ]
  },
  {
   "cell_type": "code",
   "execution_count": 25,
   "metadata": {},
   "outputs": [
    {
     "data": {
      "text/plain": [
       "[9.411574363708496, 0.5843949317932129]"
      ]
     },
     "execution_count": 25,
     "metadata": {},
     "output_type": "execute_result"
    }
   ],
   "source": [
    "final_model.evaluate(X_test, y_hot_test, batch_size=24, verbose=0)"
   ]
  },
  {
   "cell_type": "code",
   "execution_count": 26,
   "metadata": {},
   "outputs": [
    {
     "data": {
      "text/plain": [
       "[7.795661449432373, 0.5851910710334778]"
      ]
     },
     "execution_count": 26,
     "metadata": {},
     "output_type": "execute_result"
    }
   ],
   "source": [
    "going_all_data = tf.keras.models.load_model('model_checkpoints/model_going_all_data/ckpt_300')\n",
    "going_all_data.evaluate(X_test, y_hot_test, batch_size=32, verbose=0)"
   ]
  },
  {
   "cell_type": "code",
   "execution_count": 27,
   "metadata": {},
   "outputs": [
    {
     "name": "stdout",
     "output_type": "stream",
     "text": [
      "40/40 [==============================] - 0s 1ms/step\n"
     ]
    }
   ],
   "source": [
    "bonkrupt_predictions = going_all_data.predict(X_test)"
   ]
  },
  {
   "cell_type": "code",
   "execution_count": null,
   "metadata": {},
   "outputs": [],
   "source": [
    "np.savetxt(\"prediction_csv/bankruptcy_predictions.csv\", bonkrupt_predictions, delimiter=\",\")"
   ]
  },
  {
   "cell_type": "code",
   "execution_count": 28,
   "metadata": {},
   "outputs": [],
   "source": [
    "bonkrupt_predictions_round = np.argmax(bonkrupt_predictions, axis=-1)"
   ]
  },
  {
   "cell_type": "code",
   "execution_count": null,
   "metadata": {},
   "outputs": [],
   "source": [
    "np.savetxt(\"prediction_csv/bankruptcy_predictions_binary.csv\", bonkrupt_predictions_round, delimiter=\",\")"
   ]
  },
  {
   "cell_type": "code",
   "execution_count": 29,
   "metadata": {},
   "outputs": [
    {
     "name": "stdout",
     "output_type": "stream",
     "text": [
      "precision:  0.5903954802259888\n",
      "recall:  0.6440677966101694\n",
      "f1 score:  0.6160648489314664\n"
     ]
    }
   ],
   "source": [
    "precision = precision_score(y_test, bonkrupt_predictions_round)\n",
    "recall = recall_score(y_test, bonkrupt_predictions_round)\n",
    "f1_4 = f1_score(y_test, bonkrupt_predictions_round)\n",
    "\n",
    "print( \"precision: \", precision)\n",
    "print( \"recall: \", recall)\n",
    "print(\"f1 score: \", f1_4)"
   ]
  },
  {
   "cell_type": "code",
   "execution_count": 288,
   "metadata": {},
   "outputs": [
    {
     "name": "stdout",
     "output_type": "stream",
     "text": [
      "231/231 [==============================] - 0s 2ms/step\n"
     ]
    }
   ],
   "source": [
    "bp_train = going_all_data.predict(X_train)"
   ]
  },
  {
   "cell_type": "code",
   "execution_count": 289,
   "metadata": {},
   "outputs": [],
   "source": [
    "bp_train_round = np.argmax(bp_train, axis=-1)"
   ]
  },
  {
   "cell_type": "code",
   "execution_count": 290,
   "metadata": {},
   "outputs": [
    {
     "name": "stdout",
     "output_type": "stream",
     "text": [
      "[[1960 1726]\n",
      " [1411 2271]]\n"
     ]
    },
    {
     "data": {
      "image/png": "[encoded data removed]",
      "text/plain": [
       "<Figure size 432x288 with 2 Axes>"
      ]
     },
     "metadata": {
      "needs_background": "light"
     },
     "output_type": "display_data"
    }
   ],
   "source": [
    "conf_mat1 = confusion_matrix(y_train, bp_train_round)\n",
    "print(conf_mat1)\n",
    "plot_cm(conf_mat1)"
   ]
  },
  {
   "cell_type": "code",
   "execution_count": 291,
   "metadata": {},
   "outputs": [
    {
     "name": "stdout",
     "output_type": "stream",
     "text": [
      "58/58 [==============================] - 0s 1ms/step\n",
      "[[510 402]\n",
      " [363 567]]\n"
     ]
    },
    {
     "data": {
      "image/png": "[encoded data removed]",
      "text/plain": [
       "<Figure size 432x288 with 2 Axes>"
      ]
     },
     "metadata": {
      "needs_background": "light"
     },
     "output_type": "display_data"
    }
   ],
   "source": [
    "bp_val = going_all_data.predict(X_val)\n",
    "bp_val_round = np.argmax(bp_val, axis=-1)\n",
    "conf_mat2 = confusion_matrix(y_val, bp_val_round)\n",
    "print(conf_mat2)\n",
    "plot_cm(conf_mat2)"
   ]
  },
  {
   "cell_type": "code",
   "execution_count": 30,
   "metadata": {},
   "outputs": [],
   "source": [
    "# display confusion matrix\n",
    "\n",
    "def plot_cm(cm):\n",
    "    # Define class labels\n",
    "    class_labels = [\"Not Bankrupt\", \"Bankrupt\"]\n",
    "\n",
    "    # Create heatmap\n",
    "    sns.heatmap(cm, annot=True, cmap=\"Blues\", xticklabels=class_labels, yticklabels=class_labels)\n",
    "\n",
    "    # Add labels and title\n",
    "    plt.xlabel(\"Predicted labels\")\n",
    "    plt.ylabel(\"True labels\")\n",
    "    plt.title(\"Confusion Matrix\")\n",
    "\n",
    "    # Show plot\n",
    "    plt.show()"
   ]
  },
  {
   "cell_type": "code",
   "execution_count": 293,
   "metadata": {},
   "outputs": [
    {
     "name": "stdout",
     "output_type": "stream",
     "text": [
      "[[317 318]\n",
      " [238 383]]\n"
     ]
    },
    {
     "data": {
      "image/png": "[encoded data removed]",
      "text/plain": [
       "<Figure size 432x288 with 2 Axes>"
      ]
     },
     "metadata": {
      "needs_background": "light"
     },
     "output_type": "display_data"
    }
   ],
   "source": [
    "conf_mat = confusion_matrix(y_test, bonkrupt_predictions_round)\n",
    "print(conf_mat)\n",
    "plot_cm(conf_mat)"
   ]
  },
  {
   "attachments": {},
   "cell_type": "markdown",
   "metadata": {},
   "source": [
    "# Import Model "
   ]
  },
  {
   "cell_type": "code",
   "execution_count": 6,
   "metadata": {},
   "outputs": [],
   "source": [
    "import pandas as pd\n",
    "# import file\n",
    "og_data = pd.read_csv('fin_merged_data.csv')\n",
    "numerical_only = og_data.select_dtypes(include=['float64','int64'])\n",
    "labels = numerical_only['status']\n",
    "data = numerical_only.drop(['cik','fyear','status'], axis=1)"
   ]
  },
  {
   "cell_type": "code",
   "execution_count": 581,
   "metadata": {},
   "outputs": [],
   "source": [
    "neg1, pos1 = labels.to_numpy().tolist().count(0), labels.to_numpy().tolist().count(1)"
   ]
  },
  {
   "cell_type": "code",
   "execution_count": 564,
   "metadata": {},
   "outputs": [
    {
     "name": "stdout",
     "output_type": "stream",
     "text": [
      "2018.0 1999.0\n"
     ]
    }
   ],
   "source": [
    "# range of years\n",
    "import pandas as pd\n",
    "\n",
    "# Specify the column name\n",
    "column_name = 'fyear'\n",
    "\n",
    "# Get the range of values in the column\n",
    "print(og_data[column_name].max(), og_data[column_name].min())\n"
   ]
  },
  {
   "cell_type": "code",
   "execution_count": 584,
   "metadata": {},
   "outputs": [
    {
     "data": {
      "image/png": "[encoded data removed]",
      "text/plain": [
       "<Figure size 432x288 with 1 Axes>"
      ]
     },
     "metadata": {},
     "output_type": "display_data"
    }
   ],
   "source": []
  },
  {
   "cell_type": "code",
   "execution_count": 7,
   "metadata": {},
   "outputs": [
    {
     "name": "stdout",
     "output_type": "stream",
     "text": [
      "Number of unique values in column cik : 8971\n"
     ]
    }
   ],
   "source": [
    "import pandas as pd\n",
    "# Specify the column name\n",
    "column_name = 'cik'\n",
    "\n",
    "# Get the count of unique values in the column\n",
    "unique_values_count = og_data[column_name].nunique()\n",
    "\n",
    "# Print the count of unique values\n",
    "print('Number of unique values in column', column_name, ':', unique_values_count)\n"
   ]
  },
  {
   "cell_type": "code",
   "execution_count": 31,
   "metadata": {},
   "outputs": [],
   "source": [
    "import numpy as np\n",
    "# Merging the label array and feature array\n",
    "fresh_data = pd.concat([X_train, y_train], axis=1)\n",
    "\n",
    "# Print the merged array\n",
    "fresh_labels = fresh_data['status']\n",
    "\n",
    "fresh_data = fresh_data.drop(['status'], axis=1)\n"
   ]
  },
  {
   "attachments": {},
   "cell_type": "markdown",
   "metadata": {},
   "source": [
    "## Correlation Matrix between going-concern and bankruptcy outcome\n",
    "Correlation between 2 binary values"
   ]
  },
  {
   "cell_type": "code",
   "execution_count": 338,
   "metadata": {},
   "outputs": [
    {
     "name": "stdout",
     "output_type": "stream",
     "text": [
      "                 status  GOING_CONCERN\n",
      "status         1.000000       0.072219\n",
      "GOING_CONCERN  0.072219       1.000000\n"
     ]
    },
    {
     "data": {
      "image/png": "[encoded data removed]",
      "text/plain": [
       "<Figure size 432x288 with 2 Axes>"
      ]
     },
     "metadata": {
      "needs_background": "light"
     },
     "output_type": "display_data"
    }
   ],
   "source": [
    "import pandas as pd\n",
    "import seaborn as sns\n",
    "\n",
    "bin_vals = og_data[['status', 'GOING_CONCERN']]\n",
    "\n",
    "# Calculate the correlation matrix\n",
    "correlation_matrix = bin_vals.corr()\n",
    "print(correlation_matrix)\n",
    "# Plot the correlation matrix\n",
    "sns.heatmap(correlation_matrix, annot=True, cmap='coolwarm', square=True)\n",
    "\n",
    "# Show the plot\n",
    "plt.title('Correlation Matrix')\n",
    "plt.show()"
   ]
  },
  {
   "cell_type": "code",
   "execution_count": 346,
   "metadata": {},
   "outputs": [
    {
     "name": "stdout",
     "output_type": "stream",
     "text": [
      "Point-Biserial Correlation Coefficient between 'current_assets' and 'status': -0.03252390042432621\n",
      "Point-Biserial Correlation Coefficient between 'cost_of_goods_sold' and 'status': -0.02195166917511089\n",
      "Point-Biserial Correlation Coefficient between 'depreciation_and_amortization' and 'status': -0.014368751585057054\n",
      "Point-Biserial Correlation Coefficient between 'ebitda' and 'status': -0.0314399609106158\n",
      "Point-Biserial Correlation Coefficient between 'inventory' and 'status': -0.024496314211462134\n",
      "Point-Biserial Correlation Coefficient between 'net_income' and 'status': -0.03726850091864551\n",
      "Point-Biserial Correlation Coefficient between 'total_receivables' and 'status': -0.030667232608204014\n",
      "Point-Biserial Correlation Coefficient between 'market_value' and 'status': -0.03690198277555557\n",
      "Point-Biserial Correlation Coefficient between 'net_sales' and 'status': -0.026224513350650076\n",
      "Point-Biserial Correlation Coefficient between 'total_assets' and 'status': -0.024721946940589073\n",
      "Point-Biserial Correlation Coefficient between 'total_long_term_debt' and 'status': -0.009250056196471455\n",
      "Point-Biserial Correlation Coefficient between 'ebit' and 'status': -0.03605093652213064\n",
      "Point-Biserial Correlation Coefficient between 'gross_profit' and 'status': -0.031087371477980772\n",
      "Point-Biserial Correlation Coefficient between 'total_current_liabilities' and 'status': -0.023746150906137145\n",
      "Point-Biserial Correlation Coefficient between 'retained_earnings' and 'status': -0.029091335631956358\n",
      "Point-Biserial Correlation Coefficient between 'total_revenue' and 'status': -0.026224513350650076\n",
      "Point-Biserial Correlation Coefficient between 'total_liabilities' and 'status': -0.016701624219274402\n",
      "Point-Biserial Correlation Coefficient between 'total_operating_expenses' and 'status': -0.02400547676755061\n",
      "Point-Biserial Correlation Coefficient between 'GOING_CONCERN' and 'status': 0.07221897562104385\n"
     ]
    }
   ],
   "source": [
    "import numpy as np\n",
    "import pandas as pd\n",
    "from scipy.stats import pointbiserialr\n",
    "\n",
    "def calculate_point_biserial_correlation(data, binary_variable, continuous_variables):\n",
    "    coefficients = []\n",
    "    \n",
    "    for continuous_var in continuous_variables:\n",
    "        coefficient, _ = pointbiserialr(data[binary_variable], data[continuous_var])\n",
    "        coefficients.append(coefficient)\n",
    "    \n",
    "    return coefficients\n",
    "\n",
    "# Example usage\n",
    "binary_variable = 'status'\n",
    "continuous_variables = ['current_assets', 'cost_of_goods_sold', 'depreciation_and_amortization',\n",
    "                        'ebitda', 'inventory', 'net_income', 'total_receivables', 'market_value',\n",
    "                        'net_sales', 'total_assets', 'total_long_term_debt', 'ebit', 'gross_profit',\n",
    "                        'total_current_liabilities', 'retained_earnings', 'total_revenue', 'total_liabilities',\n",
    "                        'total_operating_expenses','GOING_CONCERN']\n",
    "\n",
    "# Create a DataFrame with the columns and pass it to the function\n",
    "doota = numerical_only.drop(['fyear', 'cik'], axis=1)\n",
    "doota = pd.DataFrame(doota, columns=[binary_variable] + continuous_variables)\n",
    "\n",
    "correlation_coefficients = calculate_point_biserial_correlation(doota, binary_variable, continuous_variables)\n",
    "for var, coefficient in zip(continuous_variables, correlation_coefficients):\n",
    "    print(f\"Point-Biserial Correlation Coefficient between '{var}' and '{binary_variable}': {coefficient}\")\n"
   ]
  },
  {
   "cell_type": "code",
   "execution_count": 349,
   "metadata": {},
   "outputs": [
    {
     "data": {
      "image/png": "[encoded data removed]",
      "text/plain": [
       "<Figure size 720x432 with 1 Axes>"
      ]
     },
     "metadata": {
      "needs_background": "light"
     },
     "output_type": "display_data"
    }
   ],
   "source": [
    "# Plotting the results\n",
    "plt.figure(figsize=(10, 6))\n",
    "plt.bar(continuous_variables, correlation_coefficients, color='blue')\n",
    "plt.axhline(y=0, color='gray', linestyle='--')\n",
    "plt.ylabel('Point-Biserial Correlation Coefficient')\n",
    "plt.title('Point-Biserial Correlation Coefficients between Feature Inputs and Bankruptcy Status')\n",
    "plt.xticks(rotation=90)\n",
    "plt.tight_layout()\n",
    "plt.show()"
   ]
  },
  {
   "attachments": {},
   "cell_type": "markdown",
   "metadata": {},
   "source": [
    "## \"What-if\" experiments\n",
    "Run what-if experiments on by changing the 'GOING_CONCERN' values for different companies.\n",
    " - Companies that went bankrupt (status = 1) and were predicted by going-concern reports to go bankrupt (GOING_CONCERN = 1)\n",
    "    - Changed going-concern value to 0\n",
    " - Companies that did not go bankrupt (status = 0) and were not predicted to go bankrupt by going-concern reports (GOING_CONCERN = 0)\n",
    "    - Changed going-concern value to 1"
   ]
  },
  {
   "cell_type": "code",
   "execution_count": 32,
   "metadata": {},
   "outputs": [],
   "source": [
    "def calculate_metrics(pred, actual):\n",
    "    precision = precision_score(actual, pred)\n",
    "    recall = recall_score(actual, pred)\n",
    "    f1 = f1_score(actual, pred)\n",
    "    \n",
    "    #print all metrics together\n",
    "    print('Precision: {}\\nRecall: {}\\nF1 Score: {}'.format(precision, recall, f1))\n"
   ]
  },
  {
   "attachments": {},
   "cell_type": "markdown",
   "metadata": {},
   "source": [
    "### Bankrupt and Going-Concern: negative to positive (1 -> 0)\n",
    "Going-concern predicted bankrupt and company bankrupt"
   ]
  },
  {
   "cell_type": "code",
   "execution_count": 295,
   "metadata": {},
   "outputs": [
    {
     "name": "stderr",
     "output_type": "stream",
     "text": [
      "/var/folders/bz/vm79k19966x72r5s425vw7zm0000gp/T/ipykernel_3042/3596576349.py:5: SettingWithCopyWarning: \n",
      "A value is trying to be set on a copy of a slice from a DataFrame.\n",
      "Try using .loc[row_indexer,col_indexer] = value instead\n",
      "\n",
      "See the caveats in the documentation: https://pandas.pydata.org/pandas-docs/stable/user_guide/indexing.html#returning-a-view-versus-a-copy\n",
      "  neg_bankrupt['GOING_CONCERN'] = 0\n"
     ]
    }
   ],
   "source": [
    "# Select rows where 'status' = 1 and 'GOING_CONCERN' = 1\n",
    "neg_bankrupt = data[(labels == 1) & (data['GOING_CONCERN'] == 1)]\n",
    "\n",
    "# change all values in 'GOING_CONCERN' to 0\n",
    "neg_bankrupt['GOING_CONCERN'] = 0"
   ]
  },
  {
   "cell_type": "code",
   "execution_count": 296,
   "metadata": {},
   "outputs": [
    {
     "name": "stdout",
     "output_type": "stream",
     "text": [
      "108/108 [==============================] - 0s 2ms/step\n"
     ]
    }
   ],
   "source": [
    "# make predictions and save probabilities and binary results to csv\n",
    "neg_bkrupt_pred = going_all_data.predict(neg_bankrupt)\n",
    "np.savetxt(\"prediction_csv/neg_bankrupt_probs.csv\", neg_bkrupt_pred, delimiter=\",\")\n",
    "neg_bkrupt_round = np.argmax(neg_bkrupt_pred, axis=-1)\n",
    "np.savetxt(\"prediction_csv/neg_bankrupt_binary.csv\", neg_bkrupt_round, delimiter=\",\")"
   ]
  },
  {
   "cell_type": "code",
   "execution_count": 297,
   "metadata": {},
   "outputs": [
    {
     "name": "stdout",
     "output_type": "stream",
     "text": [
      "Not bankrupt: 991 | Bankrupt: 2452\n"
     ]
    }
   ],
   "source": [
    "# count occurrences of 0 and 1 in the array\n",
    "neg, pos = np.bincount(neg_bkrupt_round)\n",
    "print('Not bankrupt: {} | Bankrupt: {}'.format(neg, pos))"
   ]
  },
  {
   "attachments": {},
   "cell_type": "markdown",
   "metadata": {},
   "source": [
    "### Bankrupt and Going-Concern: positive to negative (0 to 1)\n",
    "Going-concern did not predict bankrupt but went bankrupt"
   ]
  },
  {
   "cell_type": "code",
   "execution_count": 298,
   "metadata": {},
   "outputs": [
    {
     "name": "stderr",
     "output_type": "stream",
     "text": [
      "/var/folders/bz/vm79k19966x72r5s425vw7zm0000gp/T/ipykernel_3042/620989802.py:5: SettingWithCopyWarning: \n",
      "A value is trying to be set on a copy of a slice from a DataFrame.\n",
      "Try using .loc[row_indexer,col_indexer] = value instead\n",
      "\n",
      "See the caveats in the documentation: https://pandas.pydata.org/pandas-docs/stable/user_guide/indexing.html#returning-a-view-versus-a-copy\n",
      "  pos_bankrupt['GOING_CONCERN'] = 1\n"
     ]
    }
   ],
   "source": [
    "# Select rows where 'status' = 1 and 'GOING_CONCERN' = 0\n",
    "pos_bankrupt = data[(labels == 1) & (data['GOING_CONCERN'] == 0)]\n",
    "\n",
    "# change all values in 'GOING_CONCERN' to 1\n",
    "pos_bankrupt['GOING_CONCERN'] = 1"
   ]
  },
  {
   "cell_type": "code",
   "execution_count": 299,
   "metadata": {},
   "outputs": [
    {
     "name": "stdout",
     "output_type": "stream",
     "text": [
      "56/56 [==============================] - 0s 2ms/step\n"
     ]
    }
   ],
   "source": [
    "# make predictions and save probabilities and binary results to csv\n",
    "pos_bkrupt_pred = going_all_data.predict(pos_bankrupt)\n",
    "np.savetxt(\"prediction_csv/pos_bankrupt_probs.csv\", pos_bkrupt_pred, delimiter=\",\")\n",
    "pos_bkrupt_round = np.argmax(pos_bkrupt_pred, axis=-1)\n",
    "np.savetxt(\"prediction_csv/pos_bankrupt_binary.csv\", pos_bkrupt_round, delimiter=\",\")"
   ]
  },
  {
   "cell_type": "code",
   "execution_count": 300,
   "metadata": {},
   "outputs": [
    {
     "name": "stdout",
     "output_type": "stream",
     "text": [
      "Not bankrupt: 1028 | Bankrupt: 762\n"
     ]
    }
   ],
   "source": [
    "# count occurrences of 0 and 1 in the array\n",
    "neg, pos = np.bincount(pos_bkrupt_round)\n",
    "print('Not bankrupt: {} | Bankrupt: {}'.format(neg, pos))"
   ]
  },
  {
   "attachments": {},
   "cell_type": "markdown",
   "metadata": {},
   "source": [
    "### Not Bankrupt and Going-Concern negative to positive (1 to 0)\n",
    "Going-concern predicted bankruptcy but company did not go bankrupt"
   ]
  },
  {
   "cell_type": "code",
   "execution_count": 301,
   "metadata": {},
   "outputs": [
    {
     "name": "stderr",
     "output_type": "stream",
     "text": [
      "/var/folders/bz/vm79k19966x72r5s425vw7zm0000gp/T/ipykernel_3042/3911902336.py:5: SettingWithCopyWarning: \n",
      "A value is trying to be set on a copy of a slice from a DataFrame.\n",
      "Try using .loc[row_indexer,col_indexer] = value instead\n",
      "\n",
      "See the caveats in the documentation: https://pandas.pydata.org/pandas-docs/stable/user_guide/indexing.html#returning-a-view-versus-a-copy\n",
      "  neg_not_bankrupt['GOING_CONCERN'] = 0\n"
     ]
    }
   ],
   "source": [
    "# Select rows where 'status' = 0 and 'GOING_CONCERN' = 1\n",
    "neg_not_bankrupt = data[(labels == 0) & (data['GOING_CONCERN'] == 1)]\n",
    "\n",
    "# change all values in 'GOING_CONCERN' to 0\n",
    "neg_not_bankrupt['GOING_CONCERN'] = 0"
   ]
  },
  {
   "cell_type": "code",
   "execution_count": 302,
   "metadata": {},
   "outputs": [
    {
     "name": "stdout",
     "output_type": "stream",
     "text": [
      "1184/1184 [==============================] - 2s 2ms/step\n"
     ]
    }
   ],
   "source": [
    "# make predictions and save probabilities and binary results to csv\n",
    "neg_not_bankrupt_pred = going_all_data.predict(neg_not_bankrupt)\n",
    "np.savetxt(\"prediction_csv/neg_not_bankrupt_probs.csv\", neg_not_bankrupt_pred, delimiter=\",\")\n",
    "neg_not_bankrupt_round = np.argmax(pos_bkrupt_pred, axis=-1)\n",
    "np.savetxt(\"prediction_csv/neg_not_bankrupt_binary.csv\", neg_not_bankrupt_round, delimiter=\",\")"
   ]
  },
  {
   "cell_type": "code",
   "execution_count": 303,
   "metadata": {},
   "outputs": [
    {
     "name": "stdout",
     "output_type": "stream",
     "text": [
      "Not bankrupt: 1028 | Bankrupt: 762\n"
     ]
    }
   ],
   "source": [
    "# count occurrences of 0 and 1 in the array\n",
    "neg, pos = np.bincount(neg_not_bankrupt_round)\n",
    "print('Not bankrupt: {} | Bankrupt: {}'.format(neg, pos))"
   ]
  },
  {
   "attachments": {},
   "cell_type": "markdown",
   "metadata": {},
   "source": [
    "### Not Bankrupt and Going-Concern positive to negative (0 to 1)\n",
    "Going-concern did not predict bankruptcy and company did not go bankrupt"
   ]
  },
  {
   "cell_type": "code",
   "execution_count": 306,
   "metadata": {},
   "outputs": [
    {
     "name": "stderr",
     "output_type": "stream",
     "text": [
      "/var/folders/bz/vm79k19966x72r5s425vw7zm0000gp/T/ipykernel_3042/1339708479.py:5: SettingWithCopyWarning: \n",
      "A value is trying to be set on a copy of a slice from a DataFrame.\n",
      "Try using .loc[row_indexer,col_indexer] = value instead\n",
      "\n",
      "See the caveats in the documentation: https://pandas.pydata.org/pandas-docs/stable/user_guide/indexing.html#returning-a-view-versus-a-copy\n",
      "  pos_not_bankrupt['GOING_CONCERN'] = 1\n"
     ]
    }
   ],
   "source": [
    "# Select rows where 'status' = 0 and 'GOING_CONCERN' = 1\n",
    "pos_not_bankrupt = data[(labels == 0) & (data['GOING_CONCERN'] == 0)]\n",
    "\n",
    "# change all values in 'GOING_CONCERN' to 0\n",
    "pos_not_bankrupt['GOING_CONCERN'] = 1"
   ]
  },
  {
   "cell_type": "code",
   "execution_count": 307,
   "metadata": {},
   "outputs": [
    {
     "name": "stdout",
     "output_type": "stream",
     "text": [
      "1124/1124 [==============================] - 2s 2ms/step\n"
     ]
    }
   ],
   "source": [
    "# make predictions and save probabilities and binary results to csv\n",
    "pos_not_bankrupt_pred = going_all_data.predict(pos_not_bankrupt)\n",
    "np.savetxt(\"prediction_csv/pos_not_bankrupt_probs.csv\", pos_not_bankrupt_pred, delimiter=\",\")\n",
    "pos_not_bankrupt_round = np.argmax(pos_not_bankrupt_pred, axis=-1)\n",
    "np.savetxt(\"prediction_csv/pos_not_bankrupt_binary.csv\", pos_not_bankrupt_round, delimiter=\",\")"
   ]
  },
  {
   "cell_type": "code",
   "execution_count": 308,
   "metadata": {},
   "outputs": [
    {
     "name": "stdout",
     "output_type": "stream",
     "text": [
      "Not bankrupt: 26599 | Bankrupt: 9363\n"
     ]
    }
   ],
   "source": [
    "# count occurrences of 0 and 1 in the array\n",
    "neg, pos = np.bincount(pos_not_bankrupt_round)\n",
    "print('Not bankrupt: {} | Bankrupt: {}'.format(neg, pos))"
   ]
  },
  {
   "attachments": {},
   "cell_type": "markdown",
   "metadata": {},
   "source": [
    "### Plotting functions"
   ]
  },
  {
   "cell_type": "code",
   "execution_count": 524,
   "metadata": {},
   "outputs": [],
   "source": [
    "# import matplotlib.pyplot as plt\n",
    "# import numpy as np\n",
    "\n",
    "# def thanos_plot (predicted, actual, species):\n",
    "#     # convert to precentages\n",
    "#     total_values = len(actual)\n",
    "#     neg_pred, pos_pred = np.bincount(predicted)\n",
    "#     neg_actual, pos_actual = np.bincount(actual)\n",
    "    \n",
    "#     neg_pred = (neg_pred / total_values) * 100\n",
    "#     pos_pred = (pos_pred / total_values) * 100\n",
    "#     neg_actual = (neg_actual / total_values) * 100\n",
    "#     pos_actual = (pos_actual / total_values) * 100\n",
    "    \n",
    "#     weight_counts = {\n",
    "#         \"Bankrupt\": np.array([neg_pred, neg_actual]),\n",
    "#         \"Non-Bankrupt\": np.array([pos_pred, pos_actual]),\n",
    "#     }\n",
    "#     width = 0.5\n",
    "\n",
    "#     fig, ax = plt.subplots()\n",
    "#     bottom = np.zeros(2)\n",
    "\n",
    "#     for boolean, weight_count in weight_counts.items():\n",
    "#         p = ax.bar(species, weight_count, width, label=boolean, bottom=bottom)\n",
    "#         bottom += weight_count\n",
    "\n",
    "#     ax.legend(loc=\"lower right\")\n",
    "    \n",
    "#     ax.yaxis.set_major_formatter(mticker.PercentFormatter())\n",
    "\n",
    "#     # Calculate the percentage difference between the two categories\n",
    "#     percentage_difference = ((weight_counts[\"Bankrupt\"][1] - weight_counts[\"Bankrupt\"][0]) / weight_counts[\"Bankrupt\"][0]) * 100\n",
    "\n",
    "#     text = f\"Percentage Difference: {percentage_difference:.2f}%\"\n",
    "#     print(text)\n",
    "\n",
    "#     plt.show()"
   ]
  },
  {
   "cell_type": "code",
   "execution_count": 92,
   "metadata": {},
   "outputs": [],
   "source": [
    "import matplotlib.pyplot as plt\n",
    "import numpy as np\n",
    "import matplotlib.ticker as mticker\n",
    "\n",
    "def thanos_plot (predicted, actual, species):\n",
    "    # convert to precentages\n",
    "    total_values = len(actual)\n",
    "    neg_pred, pos_pred = np.bincount(predicted)\n",
    "    neg_actual, pos_actual = np.bincount(actual)\n",
    "    \n",
    "    neg_pred = (neg_pred / total_values) * 100\n",
    "    pos_pred = (pos_pred / total_values) * 100\n",
    "    neg_actual = (neg_actual / total_values) * 100\n",
    "    pos_actual = (pos_actual / total_values) * 100\n",
    "    \n",
    "    weight_counts = {\n",
    "        \"Bankrupt\": np.array([neg_pred, neg_actual]),\n",
    "        \"Non-Bankrupt\": np.array([pos_pred, pos_actual]),\n",
    "    }\n",
    "    width = 0.5\n",
    "\n",
    "    fig, ax = plt.subplots()\n",
    "    bottom = np.zeros(2)\n",
    "    for boolean, weight_count, color in zip(weight_counts.keys(), weight_counts.values(), colors):\n",
    "        p = ax.bar(species, weight_count, width, label=boolean, bottom=bottom, color=color)\n",
    "        bottom += weight_count\n",
    "\n",
    "    handles, labels = ax.get_legend_handles_labels()\n",
    "    ax.legend(handles[::-1], labels[::-1], loc=\"lower right\")\n",
    "    \n",
    "    ax.yaxis.set_major_formatter(mticker.PercentFormatter())\n",
    "\n",
    "    # Calculate the percentage difference between the two categories\n",
    "    percentage_difference = ((weight_counts[\"Bankrupt\"][1] - weight_counts[\"Bankrupt\"][0]) / weight_counts[\"Bankrupt\"][0]) * 100\n",
    "\n",
    "    text = f\"Percentage Difference: {percentage_difference:.2f}%\"\n",
    "    print(text)\n",
    "    print(\"TP: \", weight_counts[\"Bankrupt\"][0])\n",
    "    print(\"FP: \", weight_counts[\"Bankrupt\"][1])\n",
    "    \n",
    "    print(\"TN: \", weight_counts[\"Non-Bankrupt\"][0])\n",
    "    print(\"FN: \", weight_counts[\"Non-Bankrupt\"][1])\n",
    "\n",
    "    plt.show()"
   ]
  },
  {
   "cell_type": "code",
   "execution_count": 483,
   "metadata": {},
   "outputs": [],
   "source": [
    "# data from https://allisonhorst.github.io/palmerpenguins/\n",
    "\n",
    "import matplotlib.pyplot as plt\n",
    "import numpy as np\n",
    "\n",
    "def plot_prediction_results (predicted, actual, title):\n",
    "    x_labels = ['Not Bankrupt', 'Bankrupt']\n",
    "    # convert to precentages\n",
    "    total_values = len(actual)\n",
    "    neg_pred, pos_pred = np.bincount(predicted)\n",
    "    neg_actual, pos_actual = np.bincount(actual)\n",
    "    \n",
    "    neg_pred = (neg_pred / total_values) * 100\n",
    "    pos_pred = (pos_pred / total_values) * 100\n",
    "    neg_actual = (neg_actual / total_values) * 100\n",
    "    pos_actual = (pos_actual / total_values) * 100\n",
    "    \n",
    "    x = np.arange(len(x_labels))  # the label locations\n",
    "    width = 0.25  # the width of the bars\n",
    "    multiplier = 0\n",
    "    fig, ax = plt.subplots(layout='constrained')\n",
    "    \n",
    "    offset = width * multiplier\n",
    "    rects = ax.bar(x + offset, pos_actual, width, label='Not Bankrupt Actual')\n",
    "    ax.bar_label(rects, padding=3)\n",
    "\n",
    "    # Add some text for labels, title and custom x-axis tick labels, etc.\n",
    "    ax.set_ylabel('Precentage')\n",
    "    ax.set_title(title)\n",
    "    ax.set_xticks(x + width, x_labels)\n",
    "    ax.legend(loc='upper left', ncols=2)\n",
    "    ax.set_ylim(0, 100)\n",
    "\n",
    "    plt.show()"
   ]
  },
  {
   "cell_type": "code",
   "execution_count": 39,
   "metadata": {},
   "outputs": [],
   "source": [
    "def plot_going_results2(predicted, actual, title):\n",
    "    categories = ['Pred\\nBankrupt', 'Actual\\nBankrupt', 'Pred Not\\nBankrupt', 'Actual Not\\nBankrupt']\n",
    "    pred_neg, pred_pos = np.bincount(predicted)\n",
    "    actual_neg, actual_pos = np.bincount(actual)\n",
    "\n",
    "    # Set positions of bars on x-axis\n",
    "    x = np.arange(len(categories))\n",
    "\n",
    "    # Plot bars\n",
    "    plt.bar(x, [pred_pos, actual_pos, pred_neg, actual_neg], label='Predicted')\n",
    "\n",
    "    # Set labels and titles\n",
    "    plt.ylabel(\"Number of Occurrences\")\n",
    "    plt.title(title)\n",
    "\n",
    "    # Set x ticks\n",
    "    plt.xticks(x, categories)\n",
    "\n",
    "    # Add counts above the bars\n",
    "    for i, count in enumerate([pred_pos, actual_pos, pred_neg, actual_neg]):\n",
    "        plt.text(i, count + 5, str(count), ha='center', va='bottom')\n",
    "\n",
    "    # Add a legend\n",
    "    plt.legend()\n",
    "\n",
    "    plt.show()"
   ]
  },
  {
   "cell_type": "code",
   "execution_count": 481,
   "metadata": {},
   "outputs": [],
   "source": [
    "import matplotlib.pyplot as plt\n",
    "import numpy as np\n",
    "\n",
    "def plot_going_results(predicted, actual, title):\n",
    "    categories = ['Bankrupt', 'Not Bankrupt']\n",
    "    pred_neg, pred_pos = np.bincount(predicted)\n",
    "    actual_neg, actual_pos = np.bincount(actual)\n",
    "    \n",
    "    # arrays will always be the same size\n",
    "    total = len(predicted)\n",
    "    \n",
    "    # Calculate percentages\n",
    "    pred_bankrupt_percentage = (pred_pos / total) * 100\n",
    "    pred_not_percentage = (pred_neg / total) * 100\n",
    "    actual_bankrupt_percentage = (actual_pos / total) * 100\n",
    "    actual_not_percentage = (actual_neg / total) * 100\n",
    "    \n",
    "    # Set positions of bars on x-axis\n",
    "    x = np.arange(len(categories))\n",
    "    \n",
    "    # Plotting the stacked bars with percentages\n",
    "    plt.bar(x, [pred_bankrupt_percentage, pred_not_percentage], label='Predicted', color='blue')\n",
    "    plt.bar(x, [actual_bankrupt_percentage, actual_not_percentage], bottom=[0, 0],\n",
    "            label='Actual', color='green')\n",
    "\n",
    "    # Set labels and title\n",
    "    plt.ylabel('Percentage')\n",
    "    plt.title(title)\n",
    "    \n",
    "    # Set x ticks\n",
    "    plt.xticks(x, categories)\n",
    "    \n",
    "    # Set y-axis limits to show both bar charts\n",
    "    plt.ylim(0, 100)\n",
    "    \n",
    "    # Add a legend\n",
    "    plt.legend()\n",
    "    \n",
    "    # Show the plot\n",
    "    plt.show()"
   ]
  },
  {
   "cell_type": "code",
   "execution_count": 509,
   "metadata": {},
   "outputs": [],
   "source": [
    "import matplotlib.pyplot as plt\n",
    "import numpy as np\n",
    "\n",
    "def plot_stacked_bar(predicted, actual):\n",
    "    categories = ['Positive', 'Negative']\n",
    "    width = 0.5\n",
    "    \n",
    "    # Split predicted and actual into positive and negative\n",
    "    pred_neg, pred_pos = np.bincount(predicted)\n",
    "    actual_neg, actual_pos = np.bincount(actual)\n",
    "    \n",
    "    # Calculate percentages\n",
    "    total = len(predicted)\n",
    "    pred_pos_percentage = (pred_pos / total) * 100\n",
    "    pred_neg_percentage = (pred_neg / total) * 100\n",
    "    actual_pos_percentage = (actual_pos / total) * 100\n",
    "    actual_neg_percentage = (actual_neg / total) * 100\n",
    "    \n",
    "    # Create the stacked bar plot\n",
    "    fig, ax = plt.subplots()\n",
    "    bottom = np.zeros(2)\n",
    "    \n",
    "    for i, category in enumerate(categories):\n",
    "        p = ax.bar(category, [pred_pos_percentage, pred_neg_percentage][i], width, label='Predicted', bottom=bottom)\n",
    "        bottom += [pred_pos_percentage, pred_neg_percentage][i]\n",
    "\n",
    "    for i, category in enumerate(categories):\n",
    "        p = ax.bar(category, [actual_pos_percentage, actual_neg_percentage][i], width, label='Actual', bottom=bottom)\n",
    "        bottom += [actual_pos_percentage, actual_neg_percentage][i]\n",
    "    \n",
    "    # Set labels and title\n",
    "    ax.set_ylabel('Percentage')\n",
    "    ax.set_title('Predicted and Actual Values')\n",
    "    \n",
    "    # Add a legend\n",
    "    ax.legend(loc='lower right')\n",
    "    \n",
    "    # Show the plot\n",
    "    plt.show()"
   ]
  },
  {
   "cell_type": "code",
   "execution_count": 48,
   "metadata": {},
   "outputs": [
    {
     "name": "stdout",
     "output_type": "stream",
     "text": [
      "Percentage Difference: 14.29%\n",
      "TP:  70\n",
      "FN:  80\n",
      "FP:  30\n",
      "TN:  20\n"
     ]
    },
    {
     "data": {
      "image/png": "[encoded data removed]",
      "text/plain": [
       "<Figure size 432x288 with 1 Axes>"
      ]
     },
     "metadata": {
      "needs_background": "light"
     },
     "output_type": "display_data"
    }
   ],
   "source": [
    "import matplotlib.pyplot as plt\n",
    "import numpy as np\n",
    "import matplotlib.ticker as mticker\n",
    "\n",
    "species = (\n",
    "    \"Companies with a Positive \\n Going Concern Report (True Positive)\",\n",
    "    \"Companies with an Inverted-to-Negative \\n Going Concern Report (False Negative)\",\n",
    ")\n",
    "\n",
    "width = 0.5\n",
    "\n",
    "fig, ax = plt.subplots()\n",
    "bottom = np.zeros(2)\n",
    "\n",
    "colors = ['red', 'blue'] \n",
    "\n",
    "for boolean, weight_count, color in zip(weight_counts.keys(), weight_counts.values(), colors):\n",
    "    p = ax.bar(species, weight_count, width, label=boolean, bottom=bottom, color=color)\n",
    "    bottom += weight_count\n",
    "\n",
    "ax.legend(loc=\"lower right\")\n",
    "\n",
    "\n",
    "ax.yaxis.set_major_formatter(mticker.PercentFormatter())\n",
    "\n",
    "# Calculate the percentage difference between the two categories\n",
    "percentage_difference = ((weight_counts[\"Bankrupt\"][1] - weight_counts[\"Bankrupt\"][0]) / weight_counts[\"Bankrupt\"][0]) * 100\n",
    "\n",
    "text = f\"Percentage Difference: {percentage_difference:.2f}%\"\n",
    "print(text)\n",
    "print(\"TP: \", weight_counts[\"Bankrupt\"][0])\n",
    "print(\"FN: \", weight_counts[\"Bankrupt\"][1])\n",
    "print(\"FP: \", weight_counts[\"Non-bankrupt\"][0])\n",
    "print(\"TN: \", weight_counts[\"Non-bankrupt\"][1])\n",
    "\n",
    "\n",
    "plt.show()"
   ]
  },
  {
   "attachments": {},
   "cell_type": "markdown",
   "metadata": {},
   "source": [
    "### All companies that recieved a negative going-concern report regardless of 'status'\n",
    "Change going-concern from negative to positive"
   ]
  },
  {
   "cell_type": "code",
   "execution_count": 33,
   "metadata": {},
   "outputs": [
    {
     "name": "stdout",
     "output_type": "stream",
     "text": [
      "1    2398\n",
      "0    1888\n",
      "Name: status, dtype: int64\n"
     ]
    },
    {
     "name": "stderr",
     "output_type": "stream",
     "text": [
      "/var/folders/bz/vm79k19966x72r5s425vw7zm0000gp/T/ipykernel_12038/3593429150.py:6: SettingWithCopyWarning: \n",
      "A value is trying to be set on a copy of a slice from a DataFrame.\n",
      "Try using .loc[row_indexer,col_indexer] = value instead\n",
      "\n",
      "See the caveats in the documentation: https://pandas.pydata.org/pandas-docs/stable/user_guide/indexing.html#returning-a-view-versus-a-copy\n",
      "  neg_going['GOING_CONCERN'] = 0\n"
     ]
    },
    {
     "data": {
      "text/html": [
       "<div>\n",
       "<style scoped>\n",
       "    .dataframe tbody tr th:only-of-type {\n",
       "        vertical-align: middle;\n",
       "    }\n",
       "\n",
       "    .dataframe tbody tr th {\n",
       "        vertical-align: top;\n",
       "    }\n",
       "\n",
       "    .dataframe thead th {\n",
       "        text-align: right;\n",
       "    }\n",
       "</style>\n",
       "<table border=\"1\" class=\"dataframe\">\n",
       "  <thead>\n",
       "    <tr style=\"text-align: right;\">\n",
       "      <th></th>\n",
       "      <th>current_assets</th>\n",
       "      <th>total_assets</th>\n",
       "      <th>cost_of_goods_sold</th>\n",
       "      <th>total_long_term_debt</th>\n",
       "      <th>depreciation_and_amortization</th>\n",
       "      <th>ebit</th>\n",
       "      <th>ebitda</th>\n",
       "      <th>gross_profit</th>\n",
       "      <th>inventory</th>\n",
       "      <th>total_current_liabilities</th>\n",
       "      <th>net_income</th>\n",
       "      <th>retained_earnings</th>\n",
       "      <th>total_receivables</th>\n",
       "      <th>total_revenue</th>\n",
       "      <th>market_value</th>\n",
       "      <th>total_liabilities</th>\n",
       "      <th>net_sales</th>\n",
       "      <th>total_operating_expenses</th>\n",
       "      <th>GOING_CONCERN</th>\n",
       "    </tr>\n",
       "  </thead>\n",
       "  <tbody>\n",
       "    <tr>\n",
       "      <th>77788</th>\n",
       "      <td>233.927</td>\n",
       "      <td>312.589</td>\n",
       "      <td>181.776</td>\n",
       "      <td>200.091</td>\n",
       "      <td>6.283</td>\n",
       "      <td>-127.668</td>\n",
       "      <td>-121.385</td>\n",
       "      <td>-121.385</td>\n",
       "      <td>15.334</td>\n",
       "      <td>23.454</td>\n",
       "      <td>-162.141</td>\n",
       "      <td>-479.472</td>\n",
       "      <td>7.600</td>\n",
       "      <td>60.391</td>\n",
       "      <td>204.8210</td>\n",
       "      <td>226.213</td>\n",
       "      <td>60.391</td>\n",
       "      <td>181.776</td>\n",
       "      <td>0</td>\n",
       "    </tr>\n",
       "    <tr>\n",
       "      <th>33926</th>\n",
       "      <td>16.655</td>\n",
       "      <td>31.440</td>\n",
       "      <td>80.706</td>\n",
       "      <td>12.028</td>\n",
       "      <td>0.478</td>\n",
       "      <td>2.498</td>\n",
       "      <td>2.976</td>\n",
       "      <td>8.835</td>\n",
       "      <td>3.526</td>\n",
       "      <td>10.392</td>\n",
       "      <td>-0.105</td>\n",
       "      <td>-41.699</td>\n",
       "      <td>9.395</td>\n",
       "      <td>89.541</td>\n",
       "      <td>10.0819</td>\n",
       "      <td>22.420</td>\n",
       "      <td>89.541</td>\n",
       "      <td>86.565</td>\n",
       "      <td>0</td>\n",
       "    </tr>\n",
       "    <tr>\n",
       "      <th>63180</th>\n",
       "      <td>0.595</td>\n",
       "      <td>4.415</td>\n",
       "      <td>0.273</td>\n",
       "      <td>1.612</td>\n",
       "      <td>0.365</td>\n",
       "      <td>-0.564</td>\n",
       "      <td>-0.199</td>\n",
       "      <td>0.196</td>\n",
       "      <td>0.000</td>\n",
       "      <td>0.019</td>\n",
       "      <td>-0.785</td>\n",
       "      <td>-10.753</td>\n",
       "      <td>0.034</td>\n",
       "      <td>0.469</td>\n",
       "      <td>35.5136</td>\n",
       "      <td>1.631</td>\n",
       "      <td>0.469</td>\n",
       "      <td>0.668</td>\n",
       "      <td>0</td>\n",
       "    </tr>\n",
       "    <tr>\n",
       "      <th>47119</th>\n",
       "      <td>111.901</td>\n",
       "      <td>240.531</td>\n",
       "      <td>40.235</td>\n",
       "      <td>24.643</td>\n",
       "      <td>13.523</td>\n",
       "      <td>12.647</td>\n",
       "      <td>26.170</td>\n",
       "      <td>113.913</td>\n",
       "      <td>40.484</td>\n",
       "      <td>30.989</td>\n",
       "      <td>-26.189</td>\n",
       "      <td>-18.492</td>\n",
       "      <td>34.032</td>\n",
       "      <td>154.148</td>\n",
       "      <td>772.1972</td>\n",
       "      <td>65.279</td>\n",
       "      <td>154.148</td>\n",
       "      <td>127.978</td>\n",
       "      <td>0</td>\n",
       "    </tr>\n",
       "    <tr>\n",
       "      <th>23961</th>\n",
       "      <td>56.114</td>\n",
       "      <td>116.455</td>\n",
       "      <td>264.460</td>\n",
       "      <td>63.517</td>\n",
       "      <td>1.625</td>\n",
       "      <td>10.491</td>\n",
       "      <td>12.116</td>\n",
       "      <td>57.564</td>\n",
       "      <td>0.000</td>\n",
       "      <td>25.212</td>\n",
       "      <td>-0.471</td>\n",
       "      <td>-74.946</td>\n",
       "      <td>50.357</td>\n",
       "      <td>322.024</td>\n",
       "      <td>24.5655</td>\n",
       "      <td>94.250</td>\n",
       "      <td>322.024</td>\n",
       "      <td>309.908</td>\n",
       "      <td>0</td>\n",
       "    </tr>\n",
       "  </tbody>\n",
       "</table>\n",
       "</div>"
      ],
      "text/plain": [
       "       current_assets  total_assets  cost_of_goods_sold  total_long_term_debt  \\\n",
       "77788         233.927       312.589             181.776               200.091   \n",
       "33926          16.655        31.440              80.706                12.028   \n",
       "63180           0.595         4.415               0.273                 1.612   \n",
       "47119         111.901       240.531              40.235                24.643   \n",
       "23961          56.114       116.455             264.460                63.517   \n",
       "\n",
       "       depreciation_and_amortization     ebit   ebitda  gross_profit  \\\n",
       "77788                          6.283 -127.668 -121.385      -121.385   \n",
       "33926                          0.478    2.498    2.976         8.835   \n",
       "63180                          0.365   -0.564   -0.199         0.196   \n",
       "47119                         13.523   12.647   26.170       113.913   \n",
       "23961                          1.625   10.491   12.116        57.564   \n",
       "\n",
       "       inventory  total_current_liabilities  net_income  retained_earnings  \\\n",
       "77788     15.334                     23.454    -162.141           -479.472   \n",
       "33926      3.526                     10.392      -0.105            -41.699   \n",
       "63180      0.000                      0.019      -0.785            -10.753   \n",
       "47119     40.484                     30.989     -26.189            -18.492   \n",
       "23961      0.000                     25.212      -0.471            -74.946   \n",
       "\n",
       "       total_receivables  total_revenue  market_value  total_liabilities  \\\n",
       "77788              7.600         60.391      204.8210            226.213   \n",
       "33926              9.395         89.541       10.0819             22.420   \n",
       "63180              0.034          0.469       35.5136              1.631   \n",
       "47119             34.032        154.148      772.1972             65.279   \n",
       "23961             50.357        322.024       24.5655             94.250   \n",
       "\n",
       "       net_sales  total_operating_expenses  GOING_CONCERN  \n",
       "77788     60.391                   181.776              0  \n",
       "33926     89.541                    86.565              0  \n",
       "63180      0.469                     0.668              0  \n",
       "47119    154.148                   127.978              0  \n",
       "23961    322.024                   309.908              0  "
      ]
     },
     "execution_count": 33,
     "metadata": {},
     "output_type": "execute_result"
    }
   ],
   "source": [
    "# Select rows where 'GOING_CONCERN' = 1\n",
    "neg_going = fresh_data[(fresh_data['GOING_CONCERN'] == 1)]\n",
    "neg_going_status = fresh_labels[(fresh_data['GOING_CONCERN'] == 1)]\n",
    "print(neg_going_status.value_counts())\n",
    "# change all values in 'GOING_CONCERN' to 0\n",
    "neg_going['GOING_CONCERN'] = 0\n",
    "neg_going.head()"
   ]
  },
  {
   "cell_type": "code",
   "execution_count": 34,
   "metadata": {},
   "outputs": [
    {
     "name": "stdout",
     "output_type": "stream",
     "text": [
      "Not bankrupt: 1888 | Bankrupt: 2398\n"
     ]
    }
   ],
   "source": [
    "# count occurrences of 0 and 1 in the array\n",
    "neg, pos = np.bincount(neg_going_status)\n",
    "print('Not bankrupt: {} | Bankrupt: {}'.format(neg, pos))"
   ]
  },
  {
   "cell_type": "code",
   "execution_count": 40,
   "metadata": {},
   "outputs": [
    {
     "name": "stdout",
     "output_type": "stream",
     "text": [
      "134/134 [==============================] - 0s 1ms/step\n"
     ]
    }
   ],
   "source": [
    "# make predictions and save probabilities and binary results to csv\n",
    "neg_going_pred = going_all_data.predict(neg_going)\n",
    "np.savetxt(\"prediction_csv/neg_going_probs2.csv\", neg_going_pred, delimiter=\",\")\n",
    "neg_going_round = np.argmax(neg_going_pred, axis=-1)\n",
    "np.savetxt(\"prediction_csv/neg_going_binary2.csv\", neg_going_round, delimiter=\",\")"
   ]
  },
  {
   "cell_type": "code",
   "execution_count": 41,
   "metadata": {},
   "outputs": [
    {
     "name": "stdout",
     "output_type": "stream",
     "text": [
      "Not bankrupt: 1403 | Bankrupt: 2883\n"
     ]
    }
   ],
   "source": [
    "# count occurrences of 0 and 1 in the array\n",
    "neg, pos = np.bincount(neg_going_round)\n",
    "print('Not bankrupt: {} | Bankrupt: {}'.format(neg, pos))"
   ]
  },
  {
   "cell_type": "code",
   "execution_count": 42,
   "metadata": {},
   "outputs": [],
   "source": [
    "import matplotlib.pyplot as plt\n",
    "import numpy as np\n",
    "\n",
    "def plot_going_results2(predicted, actual, title):\n",
    "    categories = ['Bankrupt', 'Not Bankrupt']\n",
    "    \n",
    "    total_elements = predicted.size\n",
    "    \n",
    "    pred_neg, pred_pos = np.bincount(predicted)\n",
    "    actual_neg, actual_pos = np.bincount(actual)\n",
    "    \n",
    "    # Calculate percentages\n",
    "    pred_pos_percentage = (pred_pos / total_elements) * 100\n",
    "    pred_neg_percentage = (pred_neg / total_elements) * 100\n",
    "    actual_pos_percentage = (actual_pos / total_elements) * 100\n",
    "    actual_neg_percentage = (actual_neg / total_elements) * 100\n",
    "    \n",
    "    print(pred_pos_percentage, pred_neg_percentage, actual_pos_percentage, actual_neg_percentage)\n",
    "    \n",
    "    # Set positions of bars on x-axis\n",
    "    x = np.arange(len(categories))\n",
    "    \n",
    "    # Plotting the stacked bars with percentages\n",
    "    plt.bar(x, [actual_pos_percentage, actual_neg_percentage], label='Predicted', color='blue')\n",
    "    plt.bar(x, [pred_pos_percentage, pred_neg_percentage], bottom=[actual_pos_percentage, actual_neg_percentage],\n",
    "            label='Actual', color='green')\n",
    "\n",
    "    # Set labels and title\n",
    "    plt.ylabel('Percentage')\n",
    "    plt.title(title)\n",
    "    \n",
    "    # Set x ticks\n",
    "    plt.xticks(x, categories)\n",
    "    \n",
    "    # Add a legend\n",
    "    plt.legend()\n",
    "    \n",
    "    # Show the plot\n",
    "    plt.show()\n"
   ]
  },
  {
   "cell_type": "code",
   "execution_count": 52,
   "metadata": {},
   "outputs": [
    {
     "name": "stdout",
     "output_type": "stream",
     "text": [
      "Percentage Difference: -25.69%\n",
      "TP:  44.05039664022399\n",
      "FP:  32.73448436770882\n",
      "TN:  55.94960335977601\n",
      "FN:  67.26551563229118\n"
     ]
    },
    {
     "data": {
      "image/png": "[encoded data removed]",
      "text/plain": [
       "<Figure size 432x288 with 1 Axes>"
      ]
     },
     "metadata": {
      "needs_background": "light"
     },
     "output_type": "display_data"
    }
   ],
   "source": [
    "# 1 to 0\n",
    "species_invert_pos = (\n",
    "    \"Companies with a Negative \\n Going Concern Report (True Negative)\",\n",
    "    \"Companies with an Inverted-to-Positive \\n Going Concern Report (False Positive)\"\n",
    ")\n",
    "thanos_plot(neg_going_round, neg_going_status, species_invert_pos)"
   ]
  },
  {
   "cell_type": "code",
   "execution_count": 498,
   "metadata": {},
   "outputs": [
    {
     "name": "stdout",
     "output_type": "stream",
     "text": [
      "precentages:  55.325914149443555 44.67408585055644 67.74926186690892 32.250738133091076\n"
     ]
    },
    {
     "data": {
      "image/png": "[encoded data removed]",
      "text/plain": [
       "<Figure size 432x288 with 1 Axes>"
      ]
     },
     "metadata": {
      "needs_background": "light"
     },
     "output_type": "display_data"
    }
   ],
   "source": [
    "plot_going_results_stacked(neg_going_round, neg_going_status, 'Predicted vs Actual Bankruptcies: Going Concern 1 to 0')"
   ]
  },
  {
   "cell_type": "code",
   "execution_count": 388,
   "metadata": {},
   "outputs": [
    {
     "data": {
      "image/png": "[encoded data removed]",
      "text/plain": [
       "<Figure size 432x288 with 1 Axes>"
      ]
     },
     "metadata": {
      "needs_background": "light"
     },
     "output_type": "display_data"
    }
   ],
   "source": [
    "plot_going_results(neg_going_round, neg_going_status, 'Predicted vs Actual Bankruptcies: Going Concern 1 to 0')"
   ]
  },
  {
   "attachments": {},
   "cell_type": "markdown",
   "metadata": {},
   "source": [
    "### All companies that recieved a positive going-concern report regardless of 'status'\n",
    "Change going-concern from positive to negative"
   ]
  },
  {
   "cell_type": "code",
   "execution_count": 54,
   "metadata": {},
   "outputs": [
    {
     "name": "stdout",
     "output_type": "stream",
     "text": [
      "0    35962\n",
      "1     1790\n",
      "Name: status, dtype: int64\n"
     ]
    },
    {
     "name": "stderr",
     "output_type": "stream",
     "text": [
      "/var/folders/bz/vm79k19966x72r5s425vw7zm0000gp/T/ipykernel_12038/1560408523.py:6: SettingWithCopyWarning: \n",
      "A value is trying to be set on a copy of a slice from a DataFrame.\n",
      "Try using .loc[row_indexer,col_indexer] = value instead\n",
      "\n",
      "See the caveats in the documentation: https://pandas.pydata.org/pandas-docs/stable/user_guide/indexing.html#returning-a-view-versus-a-copy\n",
      "  pos_going['GOING_CONCERN'] = 1\n"
     ]
    },
    {
     "data": {
      "text/html": [
       "<div>\n",
       "<style scoped>\n",
       "    .dataframe tbody tr th:only-of-type {\n",
       "        vertical-align: middle;\n",
       "    }\n",
       "\n",
       "    .dataframe tbody tr th {\n",
       "        vertical-align: top;\n",
       "    }\n",
       "\n",
       "    .dataframe thead th {\n",
       "        text-align: right;\n",
       "    }\n",
       "</style>\n",
       "<table border=\"1\" class=\"dataframe\">\n",
       "  <thead>\n",
       "    <tr style=\"text-align: right;\">\n",
       "      <th></th>\n",
       "      <th>current_assets</th>\n",
       "      <th>total_assets</th>\n",
       "      <th>cost_of_goods_sold</th>\n",
       "      <th>total_long_term_debt</th>\n",
       "      <th>depreciation_and_amortization</th>\n",
       "      <th>ebit</th>\n",
       "      <th>ebitda</th>\n",
       "      <th>gross_profit</th>\n",
       "      <th>inventory</th>\n",
       "      <th>total_current_liabilities</th>\n",
       "      <th>net_income</th>\n",
       "      <th>retained_earnings</th>\n",
       "      <th>total_receivables</th>\n",
       "      <th>total_revenue</th>\n",
       "      <th>market_value</th>\n",
       "      <th>total_liabilities</th>\n",
       "      <th>net_sales</th>\n",
       "      <th>total_operating_expenses</th>\n",
       "      <th>GOING_CONCERN</th>\n",
       "    </tr>\n",
       "  </thead>\n",
       "  <tbody>\n",
       "    <tr>\n",
       "      <th>0</th>\n",
       "      <td>511.267</td>\n",
       "      <td>740.998</td>\n",
       "      <td>833.107</td>\n",
       "      <td>180.447</td>\n",
       "      <td>18.373</td>\n",
       "      <td>70.658</td>\n",
       "      <td>89.031</td>\n",
       "      <td>191.226</td>\n",
       "      <td>336.018</td>\n",
       "      <td>163.816</td>\n",
       "      <td>35.163</td>\n",
       "      <td>201.026</td>\n",
       "      <td>128.348</td>\n",
       "      <td>1024.333</td>\n",
       "      <td>372.7519</td>\n",
       "      <td>401.483</td>\n",
       "      <td>1024.333</td>\n",
       "      <td>935.302</td>\n",
       "      <td>1</td>\n",
       "    </tr>\n",
       "    <tr>\n",
       "      <th>1</th>\n",
       "      <td>485.856</td>\n",
       "      <td>701.854</td>\n",
       "      <td>713.811</td>\n",
       "      <td>179.987</td>\n",
       "      <td>18.577</td>\n",
       "      <td>45.790</td>\n",
       "      <td>64.367</td>\n",
       "      <td>160.444</td>\n",
       "      <td>320.590</td>\n",
       "      <td>125.392</td>\n",
       "      <td>18.531</td>\n",
       "      <td>204.065</td>\n",
       "      <td>115.187</td>\n",
       "      <td>874.255</td>\n",
       "      <td>377.1180</td>\n",
       "      <td>361.642</td>\n",
       "      <td>874.255</td>\n",
       "      <td>809.888</td>\n",
       "      <td>1</td>\n",
       "    </tr>\n",
       "    <tr>\n",
       "      <th>2</th>\n",
       "      <td>436.656</td>\n",
       "      <td>710.199</td>\n",
       "      <td>526.477</td>\n",
       "      <td>217.699</td>\n",
       "      <td>22.496</td>\n",
       "      <td>4.711</td>\n",
       "      <td>27.207</td>\n",
       "      <td>112.244</td>\n",
       "      <td>286.588</td>\n",
       "      <td>150.464</td>\n",
       "      <td>-58.939</td>\n",
       "      <td>139.603</td>\n",
       "      <td>77.528</td>\n",
       "      <td>638.721</td>\n",
       "      <td>364.5928</td>\n",
       "      <td>399.964</td>\n",
       "      <td>638.721</td>\n",
       "      <td>611.514</td>\n",
       "      <td>1</td>\n",
       "    </tr>\n",
       "    <tr>\n",
       "      <th>3</th>\n",
       "      <td>396.412</td>\n",
       "      <td>686.621</td>\n",
       "      <td>496.747</td>\n",
       "      <td>164.658</td>\n",
       "      <td>27.172</td>\n",
       "      <td>3.573</td>\n",
       "      <td>30.745</td>\n",
       "      <td>109.590</td>\n",
       "      <td>259.954</td>\n",
       "      <td>203.575</td>\n",
       "      <td>-12.410</td>\n",
       "      <td>124.106</td>\n",
       "      <td>66.322</td>\n",
       "      <td>606.337</td>\n",
       "      <td>143.3295</td>\n",
       "      <td>391.633</td>\n",
       "      <td>606.337</td>\n",
       "      <td>575.592</td>\n",
       "      <td>1</td>\n",
       "    </tr>\n",
       "    <tr>\n",
       "      <th>4</th>\n",
       "      <td>432.204</td>\n",
       "      <td>709.292</td>\n",
       "      <td>523.302</td>\n",
       "      <td>248.666</td>\n",
       "      <td>26.680</td>\n",
       "      <td>20.811</td>\n",
       "      <td>47.491</td>\n",
       "      <td>128.656</td>\n",
       "      <td>247.245</td>\n",
       "      <td>131.261</td>\n",
       "      <td>3.504</td>\n",
       "      <td>131.884</td>\n",
       "      <td>104.661</td>\n",
       "      <td>651.958</td>\n",
       "      <td>308.9071</td>\n",
       "      <td>407.608</td>\n",
       "      <td>651.958</td>\n",
       "      <td>604.467</td>\n",
       "      <td>1</td>\n",
       "    </tr>\n",
       "  </tbody>\n",
       "</table>\n",
       "</div>"
      ],
      "text/plain": [
       "   current_assets  total_assets  cost_of_goods_sold  total_long_term_debt  \\\n",
       "0         511.267       740.998             833.107               180.447   \n",
       "1         485.856       701.854             713.811               179.987   \n",
       "2         436.656       710.199             526.477               217.699   \n",
       "3         396.412       686.621             496.747               164.658   \n",
       "4         432.204       709.292             523.302               248.666   \n",
       "\n",
       "   depreciation_and_amortization    ebit  ebitda  gross_profit  inventory  \\\n",
       "0                         18.373  70.658  89.031       191.226    336.018   \n",
       "1                         18.577  45.790  64.367       160.444    320.590   \n",
       "2                         22.496   4.711  27.207       112.244    286.588   \n",
       "3                         27.172   3.573  30.745       109.590    259.954   \n",
       "4                         26.680  20.811  47.491       128.656    247.245   \n",
       "\n",
       "   total_current_liabilities  net_income  retained_earnings  \\\n",
       "0                    163.816      35.163            201.026   \n",
       "1                    125.392      18.531            204.065   \n",
       "2                    150.464     -58.939            139.603   \n",
       "3                    203.575     -12.410            124.106   \n",
       "4                    131.261       3.504            131.884   \n",
       "\n",
       "   total_receivables  total_revenue  market_value  total_liabilities  \\\n",
       "0            128.348       1024.333      372.7519            401.483   \n",
       "1            115.187        874.255      377.1180            361.642   \n",
       "2             77.528        638.721      364.5928            399.964   \n",
       "3             66.322        606.337      143.3295            391.633   \n",
       "4            104.661        651.958      308.9071            407.608   \n",
       "\n",
       "   net_sales  total_operating_expenses  GOING_CONCERN  \n",
       "0   1024.333                   935.302              1  \n",
       "1    874.255                   809.888              1  \n",
       "2    638.721                   611.514              1  \n",
       "3    606.337                   575.592              1  \n",
       "4    651.958                   604.467              1  "
      ]
     },
     "execution_count": 54,
     "metadata": {},
     "output_type": "execute_result"
    }
   ],
   "source": [
    "# Select rows where 'GOING_CONCERN' = 0\n",
    "pos_going = data[(data['GOING_CONCERN'] == 0)]\n",
    "pos_going_status = labels[(data['GOING_CONCERN'] == 0)]\n",
    "print(pos_going_status.value_counts())\n",
    "# change all values in 'GOING_CONCERN' to 1\n",
    "pos_going['GOING_CONCERN'] = 1\n",
    "pos_going.head()"
   ]
  },
  {
   "cell_type": "code",
   "execution_count": 55,
   "metadata": {},
   "outputs": [
    {
     "name": "stdout",
     "output_type": "stream",
     "text": [
      "Not bankrupt: 35962 | Bankrupt: 1790\n"
     ]
    }
   ],
   "source": [
    "# count occurrences of 0 and 1 in the array\n",
    "neg, pos = np.bincount(pos_going_status)\n",
    "print('Not bankrupt: {} | Bankrupt: {}'.format(neg, pos))"
   ]
  },
  {
   "cell_type": "code",
   "execution_count": 56,
   "metadata": {},
   "outputs": [
    {
     "name": "stdout",
     "output_type": "stream",
     "text": [
      "1180/1180 [==============================] - 2s 1ms/step\n"
     ]
    }
   ],
   "source": [
    "# make predictions and save probabilities and binary results to csv\n",
    "pos_going_pred = going_all_data.predict(pos_going)\n",
    "np.savetxt(\"prediction_csv/pos_going_probs.csv\", pos_going_pred, delimiter=\",\")\n",
    "pos_going_round = np.argmax(pos_going_pred, axis=-1)\n",
    "np.savetxt(\"prediction_csv/pos_going_binary.csv\", pos_going_round, delimiter=\",\")"
   ]
  },
  {
   "cell_type": "code",
   "execution_count": 57,
   "metadata": {},
   "outputs": [
    {
     "name": "stdout",
     "output_type": "stream",
     "text": [
      "Not bankrupt: 27627 | Bankrupt: 10125\n"
     ]
    }
   ],
   "source": [
    "# count occurrences of 0 and 1 in the array\n",
    "neg, pos = np.bincount(pos_going_round)\n",
    "print('Not bankrupt: {} | Bankrupt: {}'.format(neg, pos))"
   ]
  },
  {
   "cell_type": "code",
   "execution_count": 91,
   "metadata": {},
   "outputs": [
    {
     "name": "stdout",
     "output_type": "stream",
     "text": [
      "Percentage Difference: 465.64%\n",
      "TP:  4.74147065056156\n",
      "FP:  26.81977113795296\n",
      "TN:  95.25852934943843\n",
      "FN:  73.18022886204704\n"
     ]
    },
    {
     "data": {
      "image/png": "[encoded data removed]",
      "text/plain": [
       "<Figure size 432x288 with 1 Axes>"
      ]
     },
     "metadata": {
      "needs_background": "light"
     },
     "output_type": "display_data"
    }
   ],
   "source": [
    "# 0 to 1\n",
    "species_invert_neg = (\n",
    "    \"Companies with a Positive \\n Going Concern Report (True Positive)\",\n",
    "    \"Companies with an Inverted-to-Negative \\n Going Concern Report (False Negative)\"\n",
    ")\n",
    "thanos_plot(pos_going_round, pos_going_status,species_invert_neg)"
   ]
  },
  {
   "cell_type": "code",
   "execution_count": 499,
   "metadata": {},
   "outputs": [
    {
     "name": "stdout",
     "output_type": "stream",
     "text": [
      "precentages:  26.81977113795296 73.18022886204704 4.74147065056156 95.25852934943843\n"
     ]
    },
    {
     "data": {
      "image/png": "[encoded data removed]",
      "text/plain": [
       "<Figure size 432x288 with 1 Axes>"
      ]
     },
     "metadata": {
      "needs_background": "light"
     },
     "output_type": "display_data"
    }
   ],
   "source": [
    "plot_going_results_stacked(pos_going_round, pos_going_status, 'Predicted vs Actual Bankruptcies: Going Concern 0 to 1')"
   ]
  },
  {
   "attachments": {},
   "cell_type": "markdown",
   "metadata": {},
   "source": [
    "### Monte Carlo Simulations"
   ]
  },
  {
   "cell_type": "code",
   "execution_count": null,
   "metadata": {},
   "outputs": [],
   "source": [
    "# Load the model\n",
    "BRUPTY = tf.keras.models.load_model('model_checkpoints/model_going/ckpt_300')"
   ]
  },
  {
   "cell_type": "code",
   "execution_count": null,
   "metadata": {},
   "outputs": [],
   "source": [
    "feature_to_change = 'GOING_CONCERN'  # feature to be modified\n",
    "range_of_values = [0, 0.3, 0.5, 0.7, 1]  # value higher to 1 means more negative going concern impact\n",
    "num_iterations = 2  # number of iterations to run the model"
   ]
  },
  {
   "cell_type": "code",
   "execution_count": null,
   "metadata": {},
   "outputs": [],
   "source": [
    "import random\n",
    "import numpy as np\n",
    "\n",
    "def bankrupt_monte_carlo(num_iterations, mod_val, data, feature_to_change):\n",
    "    bankruptcy_probabilities = []\n",
    "    for _ in range (num_iterations):\n",
    "        # copy the original dataset\n",
    "        modified_data = data.copy()\n",
    "        # change the going_concern value to the modified value\n",
    "        modified_data[feature_to_change] = mod_val\n",
    "        # make predictions using the trained neural network model on the modified input data\n",
    "        predictions = BRUPTY.predict(modified_data)\n",
    "        # record the bankruptcy probability\n",
    "        bankruptcy_probabilities.append(predictions[:, 1])\n",
    "    bankruptcy_probabilities = np.array(bankruptcy_probabilities)\n",
    "    return bankruptcy_probabilities"
   ]
  },
  {
   "cell_type": "code",
   "execution_count": null,
   "metadata": {},
   "outputs": [],
   "source": [
    "neg_og_results = bankrupt_monte_carlo(3, 1, bankrupt_neg, feature_to_change)"
   ]
  },
  {
   "cell_type": "code",
   "execution_count": null,
   "metadata": {},
   "outputs": [],
   "source": [
    "# monte carlo simulation for status = 1 and going_concern = 1\n",
    "# going_concern changed to 0\n",
    "to_pos_results = bankrupt_monte_carlo(3, 0, bankrupt_neg, feature_to_change)"
   ]
  },
  {
   "cell_type": "code",
   "execution_count": null,
   "metadata": {},
   "outputs": [],
   "source": [
    "to_pos_results = to_pos_results.flatten()"
   ]
  },
  {
   "cell_type": "code",
   "execution_count": null,
   "metadata": {},
   "outputs": [],
   "source": [
    "neg_og_results = neg_og_results.flatten()"
   ]
  },
  {
   "cell_type": "code",
   "execution_count": null,
   "metadata": {},
   "outputs": [],
   "source": [
    "pos_og_results = bankrupt_monte_carlo(3, 0, bankrupt_pos, feature_to_change)"
   ]
  },
  {
   "cell_type": "code",
   "execution_count": null,
   "metadata": {},
   "outputs": [],
   "source": [
    "to_neg_results = bankrupt_monte_carlo(3, 1, bankrupt_pos, feature_to_change)"
   ]
  },
  {
   "cell_type": "code",
   "execution_count": null,
   "metadata": {},
   "outputs": [],
   "source": [
    "pos_og_results = pos_og_results.flatten()\n",
    "to_neg_results = to_neg_results.flatten()"
   ]
  },
  {
   "cell_type": "code",
   "execution_count": null,
   "metadata": {},
   "outputs": [],
   "source": [
    "import matplotlib.pyplot as plt\n",
    "\n",
    "# Data\n",
    "stuff = [neg_og_results, to_pos_results]\n",
    "\n",
    "# Plotting\n",
    "plt.figure(figsize=(8, 6))\n",
    "plt.boxplot(stuff, labels=['Going-Concern 0', 'Going-Concern 1'])\n",
    "\n",
    "plt.xlabel('Dataset')\n",
    "plt.ylabel('Bankruptcy Probability')\n",
    "plt.title('Distribution of Bankruptcies')\n",
    "\n",
    "plt.grid(True)\n",
    "plt.show()\n"
   ]
  },
  {
   "cell_type": "code",
   "execution_count": null,
   "metadata": {},
   "outputs": [],
   "source": [
    "print(np.mean(neg_og_results))\n",
    "print(np.mean(to_pos_results))"
   ]
  },
  {
   "cell_type": "code",
   "execution_count": null,
   "metadata": {},
   "outputs": [],
   "source": [
    "# Apply the condition and convert values\n",
    "arr = np.where(neg_og_results > 0.3, 1, 0)\n",
    "arr2 = np.where(to_pos_results > 0.3, 1, 0)\n",
    "count1 = np.count_nonzero(arr)\n",
    "count2 = np.count_nonzero(arr2)\n",
    "\n",
    "# Print the modified array\n",
    "print(count1, count2)"
   ]
  },
  {
   "cell_type": "code",
   "execution_count": null,
   "metadata": {},
   "outputs": [],
   "source": [
    "import matplotlib.pyplot as plt\n",
    "\n",
    "# Data\n",
    "stuff = [pos_og_results, to_neg_results]\n",
    "\n",
    "# Plotting\n",
    "plt.figure(figsize=(8, 6))\n",
    "plt.boxplot(stuff, labels=['Going-Concern 0', 'Going-Concern 1'])\n",
    "\n",
    "plt.xlabel('Dataset')\n",
    "plt.ylabel('Bankruptcy Probability')\n",
    "plt.title('Distribution of Bankruptcies')\n",
    "\n",
    "plt.grid(True)\n",
    "plt.show()\n"
   ]
  },
  {
   "cell_type": "code",
   "execution_count": null,
   "metadata": {},
   "outputs": [],
   "source": [
    "import matplotlib.pyplot as plt\n",
    "\n",
    "# Plot the results for each iteration\n",
    "for i in range(bankruptcy_probabilities.shape[0]):\n",
    "    iteration_values = bankruptcy_probabilities[i]\n",
    "    plt.plot(range(len(iteration_values)), iteration_values, label=f'Iteration {i+1}')\n",
    "\n",
    "plt.xlabel('Index')\n",
    "plt.ylabel('Bankruptcy Probability')\n",
    "plt.title('Impact of Modified Feature on Bankruptcy Probability')\n",
    "plt.legend()\n",
    "plt.show()\n"
   ]
  },
  {
   "attachments": {},
   "cell_type": "markdown",
   "metadata": {},
   "source": [
    "## Evaluate the entries with modified GOING_CONCERN values\n",
    "GOING_CONCERN = 1 changed to 0\n",
    "GOING_CONCERN = 0 changed to 1"
   ]
  },
  {
   "cell_type": "code",
   "execution_count": null,
   "metadata": {},
   "outputs": [],
   "source": [
    "import tensorflow as tf\n",
    "# Load the saved model\n",
    "loaded_model = tf.keras.models.load_model('going_concern_impact_model')"
   ]
  },
  {
   "cell_type": "code",
   "execution_count": null,
   "metadata": {},
   "outputs": [],
   "source": [
    "# neg to pos\n",
    "neg_predictions = loaded_model.predict(bankrupt_neg)\n",
    "# neg_predictions = np.argmax(neg_predictions, axis=-1)\n",
    "neg_predictions_og = loaded_model.predict(bonk_neg)\n",
    "\n",
    "# Print the predictions\n",
    "print(neg_predictions)"
   ]
  },
  {
   "cell_type": "code",
   "execution_count": null,
   "metadata": {},
   "outputs": [],
   "source": [
    "import matplotlib.pyplot as plt\n",
    "import numpy as np\n",
    "\n",
    "# Calculate the difference in probabilities between classes\n",
    "diff_probs = (neg_predictions[:, 1] - neg_predictions_og[:, 1])\n",
    "\n",
    "# Plot the difference in probabilities\n",
    "plt.plot(diff_probs)\n",
    "plt.xlabel('Index')\n",
    "plt.ylabel('Difference in Probabilities')\n",
    "plt.title('Difference in Probabilities between Predictions')\n",
    "plt.show()"
   ]
  },
  {
   "cell_type": "code",
   "execution_count": null,
   "metadata": {},
   "outputs": [],
   "source": [
    "import matplotlib.pyplot as plt\n",
    "import numpy as np\n",
    "\n",
    "# Assuming predictions_before and predictions_after are your prediction arrays before and after changing an input parameter\n",
    "\n",
    "# Calculate the difference in predictions\n",
    "diff_predictions = neg_predictions - neg_predictions_og\n",
    "\n",
    "# Create the box and whisker plot\n",
    "plt.boxplot(diff_predictions)\n",
    "plt.xlabel('Class')\n",
    "plt.ylabel('Difference in Predictions')\n",
    "plt.title('Shift in Predictions after Changing Going-Concern from 1 to 0')\n",
    "plt.xticks(ticks=[1, 2], labels=['Not Bankrupt', 'Bankrupt'])\n",
    "plt.show()\n"
   ]
  },
  {
   "cell_type": "code",
   "execution_count": null,
   "metadata": {},
   "outputs": [],
   "source": [
    "import matplotlib.pyplot as plt\n",
    "import numpy as np\n",
    "\n",
    "# Assuming prob_array1 and prob_array2 are your 2D arrays of probabilities for two different conditions\n",
    "\n",
    "# Calculate the cumulative probabilities for each condition\n",
    "cumulative_probs1 = np.cumsum(neg_predictions, axis=0)\n",
    "cumulative_probs2 = np.cumsum(neg_predictions_og, axis=0)\n",
    "\n",
    "# Create the area plot\n",
    "x = np.arange(len(neg_predictions))  # Assuming the x-axis represents the indices\n",
    "\n",
    "plt.fill_between(x, cumulative_probs1[:, 0], alpha=0.5, label='Condition 1, Class 0')\n",
    "plt.fill_between(x, cumulative_probs1[:, 1], alpha=0.5, label='Condition 1, Class 1')\n",
    "plt.fill_between(x, cumulative_probs2[:, 0], alpha=0.5, label='Condition 2, Class 0')\n",
    "plt.fill_between(x, cumulative_probs2[:, 1], alpha=0.5, label='Condition 2, Class 1')\n",
    "\n",
    "plt.xlabel('Index')\n",
    "plt.ylabel('Cumulative Probability')\n",
    "plt.title('Comparison of Cumulative Probabilities between Conditions')\n",
    "plt.legend()\n",
    "plt.show()\n"
   ]
  },
  {
   "cell_type": "code",
   "execution_count": null,
   "metadata": {},
   "outputs": [],
   "source": [
    "# pos to neg\n",
    "pos_predictions = loaded_model.predict(bankrupt_pos)\n",
    "pos_predictions = np.argmax(pos_predictions, axis=-1)"
   ]
  },
  {
   "cell_type": "code",
   "execution_count": null,
   "metadata": {},
   "outputs": [],
   "source": [
    "# Select rows where 'status' = 1 and 'GOING_CONCERN' = 0\n",
    "neg2_predictions = loaded_model.predict(bankrupt_neg2)\n",
    "neg2_predictions = np.argmax(neg2_predictions, axis=-1)"
   ]
  },
  {
   "cell_type": "code",
   "execution_count": null,
   "metadata": {},
   "outputs": [],
   "source": [
    "# Select rows where 'status' = 0 and 'GOING_CONCERN' = 1\n",
    "pos2_predictions = loaded_model.predict(bankrupt_pos2)\n",
    "pos2_predictions = np.argmax(pos2_predictions, axis=-1)"
   ]
  },
  {
   "cell_type": "code",
   "execution_count": null,
   "metadata": {},
   "outputs": [],
   "source": [
    "import matplotlib.pyplot as plt\n",
    "import numpy as np\n",
    "\n",
    "# Assuming arr1 and arr2 are your arrays of binary values\n",
    "def plot_bar(arr1, arr2, labels, title):\n",
    "    # Count the occurrence of 1's in each array\n",
    "    count1 = np.count_nonzero(arr1 == 1)\n",
    "    count2 = np.count_nonzero(arr2 == 1)\n",
    "\n",
    "    # Create the bar graph\n",
    "    labels = labels\n",
    "    values = [count1, count2]\n",
    "    print('Predicted Bankrupt Companies: ', count1,'\\nActual Bankrupt Companies: ', count2)\n",
    "\n",
    "    plt.bar(labels, values)\n",
    "    plt.xlabel('Arrays')\n",
    "    plt.ylabel('Bankrupt Companies')\n",
    "    plt.title(title)\n",
    "    plt.show()\n"
   ]
  },
  {
   "cell_type": "code",
   "execution_count": null,
   "metadata": {},
   "outputs": [],
   "source": [
    "plot_bar(neg_predictions, bn_actual, ['Neg to Pos', 'Actual'], 'Bankrupt Companies: Going-Concern Neg to Pos vs Actual')"
   ]
  },
  {
   "cell_type": "code",
   "execution_count": null,
   "metadata": {},
   "outputs": [],
   "source": [
    "plot_bar(pos_predictions, bp_actual, ['Pos to Neg', 'Actual'], 'Bankrupt Companies: Going-Concern Pos to Neg vs Actual')"
   ]
  },
  {
   "cell_type": "code",
   "execution_count": null,
   "metadata": {},
   "outputs": [],
   "source": [
    "plot_bar(neg2_predictions, bn2_actual, ['Neg to Pos', 'Actual'], 'Bankrupt Companies: Going-Concern Neg to Pos vs Actual')"
   ]
  },
  {
   "cell_type": "code",
   "execution_count": null,
   "metadata": {},
   "outputs": [],
   "source": [
    "plot_bar(pos2_predictions, bp2_actual, ['Pos to Neg', 'Actual'], 'Bankrupt Companies: Going-Concern Pos to Neg vs Actual')"
   ]
  },
  {
   "cell_type": "code",
   "execution_count": null,
   "metadata": {},
   "outputs": [],
   "source": [
    "# load and continue training \n",
    "model_loaded = tf.keras.models.load_model('model_checkpoints/model_going/ckpt_300')\n",
    "callbacks_cont = [\n",
    "    tf.keras.callbacks.EarlyStopping(patience=6, monitor='val_loss'),\n",
    "    create_callbacks('model_checkpoints/model_going/', 'epoch', 10)    # create_callbacks('model_checkpoints/model_going/', 10, 10)\n",
    "]\n",
    "# callbacks4_continue = create_callbacks('model_checkpoints/model_going/', 'epoch', 10)\n",
    "history4_continue = model_loaded.fit(X_train, y_hot_train,\n",
    "                    validation_data=(X_val, y_hot_val),\n",
    "                    epochs=500,\n",
    "                    batch_size=24,\n",
    "                    callbacks=callbacks_cont,\n",
    "                    initial_epoch=300\n",
    "                    # class_weight=class_weight\n",
    "                    )"
   ]
  },
  {
   "cell_type": "code",
   "execution_count": null,
   "metadata": {},
   "outputs": [],
   "source": [
    "plot_history(history4_continue)"
   ]
  },
  {
   "cell_type": "code",
   "execution_count": null,
   "metadata": {},
   "outputs": [],
   "source": [
    "# Scaling by total/2 helps keep the loss to a similar magnitude.\n",
    "# The sum of the weights of all examples stays the same.\n",
    "weight_for_0 = (1 / neg) * (total / 2.0)\n",
    "weight_for_1 = (1 / pos) * (total / 2.0)\n",
    "\n",
    "class_weight = {0: weight_for_0, 1: weight_for_1}\n",
    "\n",
    "print('Weight for class 0: {:.2f}'.format(weight_for_0))\n",
    "print('Weight for class 1: {:.2f}'.format(weight_for_1))"
   ]
  },
  {
   "cell_type": "code",
   "execution_count": null,
   "metadata": {},
   "outputs": [],
   "source": [
    "weighted_model = model_thing()"
   ]
  },
  {
   "cell_type": "code",
   "execution_count": null,
   "metadata": {},
   "outputs": [],
   "source": [
    "weighted_history = weighted_model.fit(\n",
    "    train_data,\n",
    "    y_hot_train,\n",
    "    batch_size=24,\n",
    "    epochs=20,\n",
    "    # callbacks=[early_stopping],\n",
    "    validation_data=(val_data, y_hot_val),\n",
    "    # The class weights go here\n",
    "    class_weight=class_weight)"
   ]
  },
  {
   "cell_type": "code",
   "execution_count": null,
   "metadata": {},
   "outputs": [],
   "source": [
    "# Fit the model with the resampled train data\n",
    "model.fit(train_data, y_hot_train,\n",
    "          epochs=20,\n",
    "          batch_size=24,\n",
    "          validation_data=(val_data, y_hot_val),\n",
    "          #callbacks=[early_stopping]\n",
    "        )"
   ]
  },
  {
   "cell_type": "code",
   "execution_count": null,
   "metadata": {},
   "outputs": [],
   "source": [
    "results = model.evaluate(train_data, y_hot_train, batch_size=24, verbose=0)\n",
    "print(\"Loss: {:0.4f}\".format(results[0]))"
   ]
  },
  {
   "cell_type": "code",
   "execution_count": null,
   "metadata": {},
   "outputs": [],
   "source": [
    "# Evaluate the model on the test set\n",
    "test_loss, test_accuracy = model.evaluate(test_data, y_hot_test, verbose=2)\n",
    "print(\"Test Loss:\", test_loss)\n",
    "print(\"Test Accuracy:\", test_accuracy)"
   ]
  },
  {
   "attachments": {},
   "cell_type": "markdown",
   "metadata": {},
   "source": [
    "### Confusion Matrix"
   ]
  },
  {
   "cell_type": "code",
   "execution_count": null,
   "metadata": {},
   "outputs": [],
   "source": [
    "import numpy as np\n",
    "from sklearn.metrics import confusion_matrix\n",
    "\n",
    "# Make predictions on the test set\n",
    "y_pred = np.argmax(model.predict(test_data), axis=1)\n",
    "\n",
    "# Calculate the confusion matrix\n",
    "cm = confusion_matrix(test_labels, y_pred)\n",
    "print(\"Confusion Matrix:\")\n",
    "print(cm)"
   ]
  },
  {
   "attachments": {},
   "cell_type": "markdown",
   "metadata": {},
   "source": [
    "## Split Data\n",
    "\n",
    "Split data into training testing and validation.\n",
    "Remove non-numerical values."
   ]
  },
  {
   "cell_type": "code",
   "execution_count": null,
   "metadata": {},
   "outputs": [],
   "source": [
    "from sklearn.model_selection import train_test_split\n",
    "\n",
    "# split data into training (70%), validation (15%), and testing (15%) sets \n",
    "X_, X_test, y_, y_test = train_test_split(X, y, train_size=0.8, test_size=0.15, random_state=42, shuffle=True)\n",
    "X_train, X_validate, y_train, y_validate = train_test_split(X_, y_, train_size=0.82, test_size=0.18, random_state=42, shuffle=True)\n",
    "\n",
    "print(\"y_train data distribution:\\n\", y_train.value_counts())\n",
    "print(\"y_validate data distribution:\\n\", y_validate.value_counts())\n",
    "print(\"y_test data distribution:\\n\", y_test.value_counts())\n",
    "\n",
    "input_shape = (X.shape[1],)"
   ]
  },
  {
   "attachments": {},
   "cell_type": "markdown",
   "metadata": {},
   "source": [
    "## Define helper functions"
   ]
  },
  {
   "cell_type": "code",
   "execution_count": null,
   "metadata": {},
   "outputs": [],
   "source": [
    "def plot_history(history):\n",
    "    fig, axs = plt.subplots(2, 1, figsize=(24, 16))\n",
    "\n",
    "    # Plot training & validation accuracy values\n",
    "    axs[0].plot(history.history['accuracy'])\n",
    "    axs[0].plot(history.history['val_accuracy'])\n",
    "    axs[0].set_title('Model accuracy')\n",
    "    axs[0].set_ylabel('Accuracy')\n",
    "    axs[0].set_xlabel('Epoch')\n",
    "    axs[0].legend(['Training Set', 'Validation Set'], loc='upper left')\n",
    "\n",
    "    # Plot training & validation loss values\n",
    "    axs[1].plot(history.history['loss'])\n",
    "    axs[1].plot(history.history['val_loss'])\n",
    "    axs[1].set_title('Model loss')\n",
    "    axs[1].set_ylabel('Loss')\n",
    "    axs[1].set_xlabel('Epoch')\n",
    "    axs[1].legend(['Training Set', 'Validation Set'], loc='upper left')\n",
    "    \n",
    "    fig.tight_layout(pad=0.5)\n",
    "\n",
    "    plt.show()"
   ]
  },
  {
   "cell_type": "code",
   "execution_count": null,
   "metadata": {},
   "outputs": [],
   "source": [
    "# display confusion matrix\n",
    "\n",
    "def plot_cm(cm):\n",
    "    # Define class labels\n",
    "    class_labels = [\"Not Bankrupt\", \"Bankrupt\"]\n",
    "\n",
    "    # Create heatmap\n",
    "    sns.heatmap(cm, annot=True, cmap=\"Blues\", xticklabels=class_labels, yticklabels=class_labels)\n",
    "\n",
    "    # Add labels and title\n",
    "    plt.xlabel(\"Predicted labels\")\n",
    "    plt.ylabel(\"True labels\")\n",
    "    plt.title(\"Confusion Matrix\")\n",
    "\n",
    "    # Show plot\n",
    "    plt.show()"
   ]
  },
  {
   "attachments": {},
   "cell_type": "markdown",
   "metadata": {},
   "source": [
    "## Define model"
   ]
  },
  {
   "cell_type": "code",
   "execution_count": null,
   "metadata": {},
   "outputs": [],
   "source": [
    "X_validate.describe()"
   ]
  },
  {
   "cell_type": "code",
   "execution_count": null,
   "metadata": {},
   "outputs": [],
   "source": [
    "def binary_classification_model(input_shape=(20,)):\n",
    "    \n",
    "    model = tf.keras.Sequential([\n",
    "        tf.keras.layers.experimental.preprocessing.Normalization(),\n",
    "        tf.keras.layers.Dense(22, activation='relu'),\n",
    "        # tf.keras.layers.BatchNormalization(),\n",
    "        # tf.keras.layers.Dropout(0.5),\n",
    "        tf.keras.layers.Dense(10, activation='relu'),\n",
    "        # tf.keras.layers.BatchNormalization(),\n",
    "        # tf.keras.layers.Dropout(0.5),\n",
    "        tf.keras.layers.Dense(2, activation='softmax'),\n",
    "        # tf.keras.layers.Dense(1, activation='sigmoid')\n",
    "    ])\n",
    "    \n",
    "    optimizer = tf.keras.optimizers.Adam(learning_rate=0.00001)\n",
    "\n",
    "    model.compile(optimizer,\n",
    "                  loss=tf.keras.losses.BinaryCrossentropy(from_logits=False),\n",
    "                  metrics=['accuracy'])\n",
    "    \n",
    "    return model\n",
    "\n",
    "callbacks = [\n",
    "    tf.keras.callbacks.EarlyStopping(patience=6, monitor='val_loss')\n",
    "]"
   ]
  },
  {
   "attachments": {},
   "cell_type": "markdown",
   "metadata": {},
   "source": [
    "### Preform a 1 hot encoding on the binary data to create categories"
   ]
  },
  {
   "cell_type": "code",
   "execution_count": null,
   "metadata": {},
   "outputs": [],
   "source": [
    "y_hot_train = tf.one_hot(y_train, 2)\n",
    "y_hot_val = tf.one_hot(y_validate, 2)\n",
    "y_hot_test = tf.one_hot(y_test, 2)"
   ]
  },
  {
   "cell_type": "code",
   "execution_count": null,
   "metadata": {},
   "outputs": [],
   "source": [
    "model = binary_classification_model()\n",
    "# callbacks4 = create_callbacks('model_checkpoints/model4/', 'epoch', 5)\n",
    "history4 = model.fit(X_train, y_hot_train,\n",
    "                    validation_data=(X_validate, y_hot_val),\n",
    "                    epochs=400,\n",
    "                    batch_size=24,\n",
    "                    callbacks=callbacks,\n",
    "                    # class_weight=class_weight\n",
    "                    )"
   ]
  },
  {
   "cell_type": "code",
   "execution_count": null,
   "metadata": {},
   "outputs": [],
   "source": [
    "plot_history(history4)"
   ]
  },
  {
   "cell_type": "code",
   "execution_count": null,
   "metadata": {},
   "outputs": [],
   "source": [
    "model.summary()"
   ]
  },
  {
   "cell_type": "code",
   "execution_count": null,
   "metadata": {},
   "outputs": [],
   "source": [
    "y_predict_probs = model.predict(X_test)\n",
    "print(y_predict_probs)\n",
    "\n",
    "# Convert probabilities to binary predictions using a threshold of 0.5\n",
    "y_predict = np.round(y_predict_probs)\n",
    "print(y_predict)"
   ]
  },
  {
   "cell_type": "code",
   "execution_count": null,
   "metadata": {},
   "outputs": [],
   "source": [
    "# convert categorical to binary\n",
    "binary_preds_1d = np.argmax(y_predict, axis=1)\n",
    "print(binary_preds_1d)\n",
    "\n",
    "precision = precision_score(y_test, binary_preds_1d)\n",
    "recall = recall_score(y_test, binary_preds_1d)\n",
    "f1_4 = f1_score(y_test, binary_preds_1d)\n",
    "\n",
    "print( \"precision: \", precision)\n",
    "print( \"recall: \", recall)\n",
    "print(\"f1 score: \", f1_4)"
   ]
  },
  {
   "cell_type": "code",
   "execution_count": null,
   "metadata": {},
   "outputs": [],
   "source": [
    "conf_mat = confusion_matrix(y_test, binary_preds_1d)\n",
    "print(conf_mat)\n",
    "plot_cm(conf_mat)"
   ]
  }
 ],
 "metadata": {
  "kernelspec": {
   "display_name": "base",
   "language": "python",
   "name": "python3"
  },
  "language_info": {
   "codemirror_mode": {
    "name": "ipython",
    "version": 3
   },
   "file_extension": ".py",
   "mimetype": "text/x-python",
   "name": "python",
   "nbconvert_exporter": "python",
   "pygments_lexer": "ipython3",
   "version": "3.9.7"
  },
  "orig_nbformat": 4
 },
 "nbformat": 4,
 "nbformat_minor": 2
}
