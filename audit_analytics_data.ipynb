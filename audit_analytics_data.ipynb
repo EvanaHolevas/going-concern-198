{
 "cells": [
  {
   "cell_type": "code",
   "execution_count": 20,
   "metadata": {},
   "outputs": [
    {
     "name": "stderr",
     "output_type": "stream",
     "text": [
      "/opt/anaconda3/lib/python3.9/site-packages/IPython/core/interactiveshell.py:3444: DtypeWarning: Columns (178) have mixed types.Specify dtype option on import or set low_memory=False.\n",
      "  exec(code_obj, self.user_global_ns, self.user_ns)\n"
     ]
    }
   ],
   "source": [
    "import pandas as pd\n",
    "import numpy as np\n",
    "\n",
    "col_list = ['COMPANY_FKEY','GOING_CONCERN','OPINION_TEXT1','OPINION_TEXT2','OPINION_TEXT3']\n",
    "bank_data = pd.read_csv('data/Audit Analytics 01.2010.csv', usecols=col_list)\n",
    "# GOING_CONCERN"
   ]
  },
  {
   "cell_type": "code",
   "execution_count": 28,
   "metadata": {},
   "outputs": [
    {
     "data": {
      "text/html": [
       "<div>\n",
       "<style scoped>\n",
       "    .dataframe tbody tr th:only-of-type {\n",
       "        vertical-align: middle;\n",
       "    }\n",
       "\n",
       "    .dataframe tbody tr th {\n",
       "        vertical-align: top;\n",
       "    }\n",
       "\n",
       "    .dataframe thead th {\n",
       "        text-align: right;\n",
       "    }\n",
       "</style>\n",
       "<table border=\"1\" class=\"dataframe\">\n",
       "  <thead>\n",
       "    <tr style=\"text-align: right;\">\n",
       "      <th></th>\n",
       "      <th>GOING_CONCERN</th>\n",
       "      <th>COMPANY_FKEY</th>\n",
       "      <th>OPINION_TEXT1</th>\n",
       "      <th>OPINION_TEXT2</th>\n",
       "      <th>OPINION_TEXT3</th>\n",
       "    </tr>\n",
       "  </thead>\n",
       "  <tbody>\n",
       "    <tr>\n",
       "      <th>0</th>\n",
       "      <td>0.0</td>\n",
       "      <td>20.0</td>\n",
       "      <td>Report of Independent Registered Public Accoun...</td>\n",
       "      <td>NaN</td>\n",
       "      <td>NaN</td>\n",
       "    </tr>\n",
       "    <tr>\n",
       "      <th>1</th>\n",
       "      <td>0.0</td>\n",
       "      <td>1750.0</td>\n",
       "      <td>Report of Independent Registered Public Accoun...</td>\n",
       "      <td>NaN</td>\n",
       "      <td>NaN</td>\n",
       "    </tr>\n",
       "    <tr>\n",
       "      <th>2</th>\n",
       "      <td>0.0</td>\n",
       "      <td>1750.0</td>\n",
       "      <td>Report of Independent Registered Public Accoun...</td>\n",
       "      <td>NaN</td>\n",
       "      <td>NaN</td>\n",
       "    </tr>\n",
       "    <tr>\n",
       "      <th>3</th>\n",
       "      <td>0.0</td>\n",
       "      <td>1750.0</td>\n",
       "      <td>Report of Independent Registered Public Accoun...</td>\n",
       "      <td>NaN</td>\n",
       "      <td>NaN</td>\n",
       "    </tr>\n",
       "    <tr>\n",
       "      <th>4</th>\n",
       "      <td>0.0</td>\n",
       "      <td>1750.0</td>\n",
       "      <td>Report of Independent Registered Public Accoun...</td>\n",
       "      <td>NaN</td>\n",
       "      <td>NaN</td>\n",
       "    </tr>\n",
       "  </tbody>\n",
       "</table>\n",
       "</div>"
      ],
      "text/plain": [
       "   GOING_CONCERN  COMPANY_FKEY  \\\n",
       "0            0.0          20.0   \n",
       "1            0.0        1750.0   \n",
       "2            0.0        1750.0   \n",
       "3            0.0        1750.0   \n",
       "4            0.0        1750.0   \n",
       "\n",
       "                                       OPINION_TEXT1 OPINION_TEXT2  \\\n",
       "0  Report of Independent Registered Public Accoun...           NaN   \n",
       "1  Report of Independent Registered Public Accoun...           NaN   \n",
       "2  Report of Independent Registered Public Accoun...           NaN   \n",
       "3  Report of Independent Registered Public Accoun...           NaN   \n",
       "4  Report of Independent Registered Public Accoun...           NaN   \n",
       "\n",
       "   OPINION_TEXT3  \n",
       "0            NaN  \n",
       "1            NaN  \n",
       "2            NaN  \n",
       "3            NaN  \n",
       "4            NaN  "
      ]
     },
     "execution_count": 28,
     "metadata": {},
     "output_type": "execute_result"
    }
   ],
   "source": [
    "bank_data.head()"
   ]
  },
  {
   "cell_type": "code",
   "execution_count": 33,
   "metadata": {},
   "outputs": [
    {
     "name": "stdout",
     "output_type": "stream",
     "text": [
      "0.0    139699\n",
      "1.0     26915\n",
      "Name: GOING_CONCERN, dtype: int64\n",
      "Op1:  166617\n",
      "Op2:  166602\n",
      "Op2:  166614\n"
     ]
    }
   ],
   "source": [
    "val_counts = bank_data['GOING_CONCERN'].value_counts()\n",
    "print(val_counts)\n",
    "\n",
    "op1_nulls = bank_data['OPINION_TEXT1'].isnull().sum() # 166617 items\n",
    "op2_nulls = bank_data['OPINION_TEXT2'].isnull().sum() # 15 items\n",
    "op3_nulls = bank_data['OPINION_TEXT3'].isnull().sum() # 3 items\n",
    "print('Op1: ', op1_nulls)\n",
    "print('Op2: ', op2_nulls)\n",
    "print('Op2: ', op3_nulls)\n"
   ]
  },
  {
   "cell_type": "code",
   "execution_count": 40,
   "metadata": {},
   "outputs": [
    {
     "name": "stdout",
     "output_type": "stream",
     "text": [
      "        COMPANY_FKEY  GOING_CONCERN  \\\n",
      "0               20.0            0.0   \n",
      "1             1750.0            0.0   \n",
      "2             1750.0            0.0   \n",
      "3             1750.0            0.0   \n",
      "4             1750.0            0.0   \n",
      "...              ...            ...   \n",
      "166612     1931055.0            0.0   \n",
      "166613     1931691.0            1.0   \n",
      "166614     1933359.0            1.0   \n",
      "166615     1934945.0            1.0   \n",
      "166616     1936214.0            0.0   \n",
      "\n",
      "                                            OPINION_TEXT1  \n",
      "0       Report of Independent Registered Public Accoun...  \n",
      "1       Report of Independent Registered Public Accoun...  \n",
      "2       Report of Independent Registered Public Accoun...  \n",
      "3       Report of Independent Registered Public Accoun...  \n",
      "4       Report of Independent Registered Public Accoun...  \n",
      "...                                                   ...  \n",
      "166612  Report of Independent Registered Public Accoun...  \n",
      "166613  REPORT OF INDEPENDENT REGISTERED PUBLIC ACCOUN...  \n",
      "166614  REPORT OF INDEPENDENT REGISTERED PUBLIC ACCOUN...  \n",
      "166615  REPORT OF INDEPENDENT REGISTERED PUBLIC ACCOUN...  \n",
      "166616  INDEPENDENT AUDITOR’S REPORT<p>To the Board of...  \n",
      "\n",
      "[166602 rows x 3 columns]\n"
     ]
    },
    {
     "data": {
      "text/html": [
       "<div>\n",
       "<style scoped>\n",
       "    .dataframe tbody tr th:only-of-type {\n",
       "        vertical-align: middle;\n",
       "    }\n",
       "\n",
       "    .dataframe tbody tr th {\n",
       "        vertical-align: top;\n",
       "    }\n",
       "\n",
       "    .dataframe thead th {\n",
       "        text-align: right;\n",
       "    }\n",
       "</style>\n",
       "<table border=\"1\" class=\"dataframe\">\n",
       "  <thead>\n",
       "    <tr style=\"text-align: right;\">\n",
       "      <th></th>\n",
       "      <th>COMPANY_FKEY</th>\n",
       "      <th>GOING_CONCERN</th>\n",
       "      <th>OPINION_TEXT1</th>\n",
       "    </tr>\n",
       "  </thead>\n",
       "  <tbody>\n",
       "    <tr>\n",
       "      <th>0</th>\n",
       "      <td>20.0</td>\n",
       "      <td>0.0</td>\n",
       "      <td>Report of Independent Registered Public Accoun...</td>\n",
       "    </tr>\n",
       "    <tr>\n",
       "      <th>1</th>\n",
       "      <td>1750.0</td>\n",
       "      <td>0.0</td>\n",
       "      <td>Report of Independent Registered Public Accoun...</td>\n",
       "    </tr>\n",
       "    <tr>\n",
       "      <th>2</th>\n",
       "      <td>1750.0</td>\n",
       "      <td>0.0</td>\n",
       "      <td>Report of Independent Registered Public Accoun...</td>\n",
       "    </tr>\n",
       "    <tr>\n",
       "      <th>3</th>\n",
       "      <td>1750.0</td>\n",
       "      <td>0.0</td>\n",
       "      <td>Report of Independent Registered Public Accoun...</td>\n",
       "    </tr>\n",
       "    <tr>\n",
       "      <th>4</th>\n",
       "      <td>1750.0</td>\n",
       "      <td>0.0</td>\n",
       "      <td>Report of Independent Registered Public Accoun...</td>\n",
       "    </tr>\n",
       "  </tbody>\n",
       "</table>\n",
       "</div>"
      ],
      "text/plain": [
       "   COMPANY_FKEY  GOING_CONCERN  \\\n",
       "0          20.0            0.0   \n",
       "1        1750.0            0.0   \n",
       "2        1750.0            0.0   \n",
       "3        1750.0            0.0   \n",
       "4        1750.0            0.0   \n",
       "\n",
       "                                       OPINION_TEXT1  \n",
       "0  Report of Independent Registered Public Accoun...  \n",
       "1  Report of Independent Registered Public Accoun...  \n",
       "2  Report of Independent Registered Public Accoun...  \n",
       "3  Report of Independent Registered Public Accoun...  \n",
       "4  Report of Independent Registered Public Accoun...  "
      ]
     },
     "execution_count": 40,
     "metadata": {},
     "output_type": "execute_result"
    }
   ],
   "source": [
    "# get rid of all values with op2 \n",
    "df_filtered = bank_data[bank_data['OPINION_TEXT2'].isnull()]\n",
    "df_filtered = df_filtered[['COMPANY_FKEY','GOING_CONCERN','OPINION_TEXT1']]\n",
    "\n",
    "print(df_filtered)\n",
    "df_filtered.head()"
   ]
  },
  {
   "cell_type": "code",
   "execution_count": 37,
   "metadata": {},
   "outputs": [
    {
     "name": "stdout",
     "output_type": "stream",
     "text": [
      "166602\n"
     ]
    }
   ],
   "source": [
    "op1_nulls = df_filtered['OPINION_TEXT1'].count() # 166617 items\n",
    "print(op1_nulls)"
   ]
  },
  {
   "cell_type": "code",
   "execution_count": 42,
   "metadata": {},
   "outputs": [],
   "source": [
    "df_filtered.to_csv('./data/going_concerns.csv')"
   ]
  },
  {
   "cell_type": "code",
   "execution_count": 43,
   "metadata": {},
   "outputs": [],
   "source": [
    "neg, pos = np.bincount(df_filtered['GOING_CONCERN'])"
   ]
  },
  {
   "cell_type": "code",
   "execution_count": 44,
   "metadata": {},
   "outputs": [
    {
     "name": "stdout",
     "output_type": "stream",
     "text": [
      "neg:  139687\n",
      "pos:  26915\n"
     ]
    }
   ],
   "source": [
    "print('neg: ', neg)\n",
    "print('pos: ', pos)"
   ]
  },
  {
   "attachments": {},
   "cell_type": "markdown",
   "metadata": {},
   "source": [
    "Remove stopwords and symbols"
   ]
  },
  {
   "cell_type": "code",
   "execution_count": 1,
   "metadata": {},
   "outputs": [
    {
     "name": "stderr",
     "output_type": "stream",
     "text": [
      "[nltk_data] Downloading package stopwords to\n",
      "[nltk_data]     /Users/evanaholevas/nltk_data...\n",
      "[nltk_data]   Package stopwords is already up-to-date!\n"
     ]
    }
   ],
   "source": [
    "# import re\n",
    "# import csv\n",
    "# import nltk\n",
    "# from nltk.corpus import stopwords\n",
    "# nltk.download('stopwords')\n",
    "\n",
    "# reports = pd.read_csv('./data/going_concerns.csv')\n",
    "\n",
    "# stop_words = set(stopwords.words('english'))\n",
    "# pattern = r'[^\\w\\s]'\n",
    "\n",
    "# def remove_stopwords(sentence):\n",
    "#     words = nltk.word_tokenize(sentence)\n",
    "#     return ' '.join([word for word in words if word.lower() not in stopwords])\n",
    "\n",
    "# reports []\n"
   ]
  },
  {
   "cell_type": "code",
   "execution_count": 5,
   "metadata": {},
   "outputs": [
    {
     "name": "stdout",
     "output_type": "stream",
     "text": [
      "0\n"
     ]
    }
   ],
   "source": [
    "import pandas as pd\n",
    "\n",
    "concern_reports = (pd.read_csv('data/going_concerns.csv')).to_numpy()"
   ]
  },
  {
   "cell_type": "code",
   "execution_count": 19,
   "metadata": {},
   "outputs": [],
   "source": [
    "import nltk\n",
    "from nltk.corpus import stopwords\n",
    "from nltk.tokenize import word_tokenize\n",
    "stop_words = set(stopwords.words(\"english\"))\n",
    "\n",
    "for i in range(len(concern_reports)):\n",
    "    #tokenize the text into words\n",
    "    words = nltk.word_tokenize(concern_reports[i][3])\n",
    "    concern_reports[i][3] = []\n",
    "    filtered_words = [word for word in words if word.lower() not in stop_words]\n",
    "    concern_reports[i][3] = ' '.join(filtered_words)\n"
   ]
  },
  {
   "cell_type": "code",
   "execution_count": 23,
   "metadata": {},
   "outputs": [
    {
     "data": {
      "text/plain": [
       "array([[0, 20.0, 0.0,\n",
       "        'Report Independent Registered Public Accounting Firm Board Directors Shareholders K-Tron International , Inc. Subsidiaries audited accompanying consolidated balance sheets K-Tron International , Inc. ( New Jersey corporation ) Subsidiaries January 2 , 2010 January 3 , 2009 , related consolidated statements income , changes shareholders ’ equity , cash flows three fiscal years ended January 2 , 2010 , January 3 , 2009 , December 29 , 2007 . audits basic financial statements included financial statement schedule listed index appearing page S-1 . financial statements financial statement schedule responsibility Company ’ management . responsibility express opinion financial statements financial statement schedule based audits . conducted audits accordance standards Public Company Accounting Oversight Board ( United States ) . standards require plan perform audit obtain reasonable assurance whether financial statements free material misstatement . audit includes examining , test basis , evidence supporting amounts disclosures financial statements . audit also includes assessing accounting principles used significant estimates made management , well evaluating overall financial statement presentation . believe audits provide reasonable basis opinion . opinion , financial statements referred present fairly , material respects , consolidated financial position K-Tron International , Inc. Subsidiaries January 2 , 2010 January 3 , 2009 , consolidated results operations cash flows fiscal years ended January 2 , 2010 , January 3 , 2009 , December 29 , 2007 , conformity accounting principles generally accepted United States America . Also , opinion , related financial statement schedule , considered relation basic financial statements taken whole , presents fairly , material respects , information set forth therein . also audited , accordance standards Public Company Accounting Oversight Board ( United States ) , K-Tron International , Inc. Subsidiaries ’ internal control financial reporting January 2 , 2010 , based criteria established Internal Control—Integrated Framework issued Committee Sponsoring Organizations Treadway Commission ( COSO ) report dated March 15 , 2010 expressed unqualified opinion . GRANT THORNTON LLP Philadelphia , Pennsylvania March 15 , 2010'],\n",
       "       [1, 1750.0, 0.0,\n",
       "        \"Report Independent Registered Public Accounting Firm < p > STOCKHOLDERS BOARD DIRECTORS AAR CORP. : < p > audited accompanying consolidated balance sheets AAR CORP. subsidiaries ( Company ) May 31 , 2010 2009 related consolidated statements operations , changes equity cash flows years three-year period ended May 31 , 2010 . consolidated financial statements responsibility Company 's management . responsibility express opinion consolidated financial statements based audits . < p > conducted audits accordance standards Public Company Accounting Oversight Board ( United States ) . standards require plan perform audit obtain reasonable assurance whether financial statements free material misstatement . audit includes examining , test basis , evidence supporting amounts disclosures financial statements . audit also includes assessing accounting principles used significant estimates made management , well evaluating overall financial statement presentation . believe audits provide reasonable basis opinion . < p > opinion , consolidated financial statements referred present fairly , material respects , financial position AAR CORP. subsidiaries May 31 , 2010 2009 results operations cash flows years three-year period ended May 31 , 2010 , conformity U.S. generally accepted accounting principles . < p > discussed Note 1 consolidated financial statements , Company adopted new standards related accounting noncontrolling interests convertible debt June 1 , 2009 . < p > also audited , accordance standards Public Company Accounting Oversight Board ( United States ) , effectiveness Company 's internal control financial reporting May 31 , 2010 , based criteria established Internal Control—Integrated Framework issued Committee Sponsoring Organizations Treadway Commission ( COSO ) , report dated July 16 , 2010 expressed unqualified opinion effective operation internal control financial reporting . < p > /s/ KPMG LLP < p > Chicago , Illinois July 16 , 2010\"],\n",
       "       [2, 1750.0, 0.0,\n",
       "        \"Report Independent Registered Public Accounting Firm < p > STOCKHOLDERS BOARD DIRECTORS AAR CORP. : < p > audited accompanying consolidated balance sheets AAR CORP. subsidiaries ( Company ) May 31 , 2011 2010 related consolidated statements income , changes equity cash flows years three-year period ended May 31 , 2011 . consolidated financial statements responsibility Company 's management . responsibility express opinion consolidated financial statements based audits. < p > conducted audits accordance standards Public Company Accounting Oversight Board ( United States ) . standards require plan perform audit obtain reasonable assurance whether financial statements free material misstatement . audit includes examining , test basis , evidence supporting amounts disclosures financial statements . audit also includes assessing accounting principles used significant estimates made management , well evaluating overall financial statement presentation . believe audits provide reasonable basis opinion. < p > opinion , consolidated financial statements referred present fairly , material respects , financial position AAR CORP. subsidiaries May 31 , 2011 2010 results operations cash flows years three-year period ended May 31 , 2011 , conformity U.S. generally accepted accounting principles. < p > also audited , accordance standards Public Company Accounting Oversight Board ( United States ) , effectiveness Company 's internal control financial reporting May 31 , 2011 , based criteria established Internal Controlâ€ ” Integrated Framework issued Committee Sponsoring Organizations Treadway Commission ( COSO ) , report dated July 13 , 2011 expressed unqualified opinion effective operation internal control financial reporting. < p > /s/ KPMG LLP < p > Chicago , Illinois July 13 , 2011\"],\n",
       "       ...,\n",
       "       [166614, 1933359.0, 1.0,\n",
       "        \"REPORT INDEPENDENT REGISTERED PUBLIC ACCOUNTING FIRM < p > Shareholders Board Directors Natics Corp. < p > Opinion Financial Statements < p > audited accompanying balance sheet Natics Corp. ( `` Company '' ) April 30 , 2022 , related statements operations , changes stockholders ' equity , inception period ended April 30 , 2022 , related notes ( collectively referred `` financial statements '' ) . opinion , financial statements present fairly , material respects , financial position Company April 30 , 2022 results operations cash flows inception period ended April 30 , 2022 , conformity accounting principles generally accepted United States America. < p > Going Concern Uncertainty < p > Company 's financial statements prepared using generally accepted accounting principles applicable going concern , contemplates realization assets liquidation liabilities normal course business . Company accumulated deficit $ 200 negative cash flow operations amounting $ 200 inception period ended April 30 , 2022 . factors discussed Note 2 financial statements raise substantial doubt Company 's ability continue going concern . Management 's plans regard matters also described Note 2 . financial statements include adjustments might result outcome uncertainties. < p > Basis Opinion < p > financial statements responsibility Company 's management . responsibility express opinion Company 's financial statements based audits . public accounting firm registered Public Company Accounting Oversight Board ( United States ) ( `` PCAOB '' ) required independent respect Company accordance U.S. federal securities laws applicable rules regulations Securities Exchange Commission PCAOB. < p > conducted audits accordance standards PCAOB . standards require plan perform audit obtain reasonable assurance whether financial statements free material misstatement , whether due error fraud . Company required , engaged perform , audit internal control financial reporting . part audits required obtain understanding internal control financial reporting purpose expressing opinion effectiveness Company 's internal control financial reporting . Accordingly , express opinion. < p > audits included performing procedures assess risks material misstatement financial statements , whether due error fraud , performing procedures respond risks . procedures included examining , test basis , evidence regarding amounts disclosures financial statements . audits also included evaluating accounting principles used significant estimates made management , well evaluating overall presentation financial statements . believe audits provide reasonable basis opinion. < p > Critical Audit Matters < p > Critical audit matters arising current period audit financial statements communicated required communicated audit committee ( 1 ) relate accounts disclosure material financial statements ( 2 ) involve especially challenging , subjective , complex judgements . communication critical audit matters alter way opinion financial statements , taken whole , , communicating critical audit maters , providing separate opinions critical audit matters accounts disclosures relate. < p > Critical Audit Matters existed April 30 , 2022. < p > DylanFloyd Accounting & Consulting < p > DylanFloyd Accounting & Consulting < p > served Company 's auditor since 2022 . Newhall , California < p > June 09 , 2022\"],\n",
       "       [166615, 1934945.0, 1.0,\n",
       "        'REPORT INDEPENDENT REGISTERED PUBLIC ACCOUNTING FIRM Shareholder Board Directors Trailblazer Merger Corporation Opinion Financial Statements audited accompanying balance sheet Trailblazer Merger Corporation ( “ Company ” ) December 31 , 2021 , related statements operations , stockholder ’ deficit cash flows period November 12 , 2021 ( inception ) December 31 , 2021 , related notes ( collectively referred “ financial statements ” ) . opinion , financial statements present fairly , material respects , financial position Company December 31 , 2021 , results operations cash flows period ended November 12 , 2021 ( inception ) December 31 , 2021 , conformity accounting principles generally accepted United States America . Explanatory Paragraph & # 8201 ; — & # 8201 ; Going Concern accompanying financial statements prepared assuming Company continue going concern . fully described Note 1 financial statements , Company formed Special Purpose Acquisition ( “ SPAC ” ) purpose effectuating merger , capital stock exchange , asset acquisition , stock purchase , reorganization similar business combination one businesses within 24 months completion proposed registered offering . Accordingly , Company ’ ability execute business plan dependent upon completion registered offering transaction described Note 3 financial statements . Company working capital deficiency lacks financial resources needs sustain operations reasonable period time , considered one year issuance date financial statements . conditions raise substantial doubt Company ’ ability continue going concern . Management ’ plans regard matters also described Notes 1 3 . financial statements include adjustments might necessary Company unable continue going concern . Basis Opinion financial statements responsibility Company ’ management . responsibility express opinion Company ’ financial statements based audit . public accounting firm registered Public Company Accounting Oversight Board ( United States ) ( “ PCAOB ” ) required independent respect Company accordance U.S. federal securities laws applicable rules regulations Securities Exchange Commission PCAOB . conducted audit accordance standards PCAOB . standards require plan perform audit obtain reasonable assurance whether financial statements free material misstatement , whether due error fraud . Company required , engaged perform , audit internal control financial reporting . part audit required obtain understanding internal control financial reporting purpose expressing opinion effectiveness Company ’ internal control financial reporting . Accordingly , express opinion . audit included performing procedures assess risks material misstatement financial statements , whether due error fraud , performing procedures respond risks . procedures included examining , test basis , evidence regarding amounts disclosures financial statements . audit also included evaluating accounting principles used significant estimates made management , well evaluating overall presentation financial statements . believe audit provides reasonable basis opinion . /s/ Marcum LLP Marcum LLP served Company ’ auditor since 2022 . New York , NY June 29 , 2022'],\n",
       "       [166616, 1936214.0, 0.0,\n",
       "        'INDEPENDENT AUDITOR ’ REPORT < p > Board Directors Shareholder Ohanae Inc. < p > Opinion < p > audited accompanying consolidated financial statements Ohanae Inc. subsidiary ( “ Company ” ) , comprise consolidated statements financial position December 31 , 2021 2020 , related consolidated statements operations , changes shareholder ’ equity , cash flows years ended , related notes consolidated financial statements. < p > opinion , consolidated financial statements referred present fairly , material respects , financial position Company December 31 , 2021 2020 , results operations cash flows years ended accordance accounting principles generally accepted United States America. < p > Basis Opinion < p > conducted audits accordance auditing standards generally accepted United States America . responsibilities standards described Auditor ’ Responsibilities Audit Consolidated Financial Statements section report . required independent Company meet ethical responsibilities accordance relevant ethical requirements relating audits . believe audit evidence obtained sufficient appropriate provide basis audit opinion. < p > Responsibilities Management Consolidated Financial Statements < p > Management responsible preparation fair presentation consolidated financial statements accordance accounting principles generally accepted United States America , design , implementation , maintenance internal control relevant preparation fair presentation consolidated financial statements free material misstatement , whether due fraud error. < p > preparing consolidated financial statements , management required evaluate whether conditions events , considered aggregate , raise substantial doubt Company ’ ability continue going concern within one year date consolidated financial statements available issued. < p > Auditor ’ Responsibilities Audit Consolidated Financial Statements < p > objectives obtain reasonable assurance whether consolidated financial statements whole free material misstatement , whether due fraud error , issue auditor ’ report includes opinion . Reasonable assurance high level assurance absolute assurance therefore guarantee audit conducted accordance generally accepted auditing standards always detect material misstatement exists . risk detecting material misstatement resulting fraud higher one resulting error , fraud may involve collusion , forgery , intentional omissions , misrepresentations , override internal control . Misstatements , including omissions , considered material substantial likelihood , individually aggregate , would influence judgment made reasonable user based consolidated financial statements. < p > F-3 < p > performing audit accordance generally accepted auditing standards , : < p > ·Exercise professional judgment maintain professional skepticism throughout audit. < p > ·Identify assess risks material misstatement consolidated financial statements , whether due fraud error , design perform audit procedures responsive risks . procedures include examining , test basis , evidence regarding amounts disclosures consolidated financial statements. < p > ·Obtain understanding internal control relevant audit order design audit procedures appropriate circumstances , purpose expressing opinion effectiveness Company ’ internal control . Accordingly , opinion expressed. < p > ·Evaluate appropriateness accounting policies used reasonableness significant accounting estimates made management , well evaluate overall presentation consolidated financial statements. < p > ·Conclude whether , judgment , conditions events , considered aggregate , raise substantial doubt Company ’ ability continue going concern reasonable period time. < p > required communicate charged governance regarding , among matters , planned scope timing audit , significant audit findings , certain internal control related matters identified audit. < p > YSL & Associates LLC < p > New York , NY < p > March 8 , 2022']],\n",
       "      dtype=object)"
      ]
     },
     "execution_count": 23,
     "metadata": {},
     "output_type": "execute_result"
    }
   ],
   "source": [
    "concern_reports"
   ]
  },
  {
   "cell_type": "code",
   "execution_count": null,
   "metadata": {},
   "outputs": [],
   "source": []
  }
 ],
 "metadata": {
  "kernelspec": {
   "display_name": "base",
   "language": "python",
   "name": "python3"
  },
  "language_info": {
   "codemirror_mode": {
    "name": "ipython",
    "version": 3
   },
   "file_extension": ".py",
   "mimetype": "text/x-python",
   "name": "python",
   "nbconvert_exporter": "python",
   "pygments_lexer": "ipython3",
   "version": "3.9.7"
  },
  "orig_nbformat": 4
 },
 "nbformat": 4,
 "nbformat_minor": 2
}
