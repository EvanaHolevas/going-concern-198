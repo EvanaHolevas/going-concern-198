{
 "cells": [
  {
   "cell_type": "code",
   "execution_count": 1,
   "metadata": {},
   "outputs": [
    {
     "name": "stderr",
     "output_type": "stream",
     "text": [
      "/opt/anaconda3/lib/python3.9/site-packages/IPython/core/interactiveshell.py:3444: DtypeWarning: Columns (178) have mixed types.Specify dtype option on import or set low_memory=False.\n",
      "  exec(code_obj, self.user_global_ns, self.user_ns)\n"
     ]
    }
   ],
   "source": [
    "import pandas as pd\n",
    "import numpy as np\n",
    "\n",
    "col_list = ['COMPANY_FKEY','GOING_CONCERN','OPINION_TEXT1','OPINION_TEXT2','OPINION_TEXT3']\n",
    "bank_data = pd.read_csv('data/Audit Analytics 01.2010.csv', usecols=col_list)\n",
    "# GOING_CONCERN"
   ]
  },
  {
   "cell_type": "code",
   "execution_count": 28,
   "metadata": {},
   "outputs": [
    {
     "data": {
      "text/html": [
       "<div>\n",
       "<style scoped>\n",
       "    .dataframe tbody tr th:only-of-type {\n",
       "        vertical-align: middle;\n",
       "    }\n",
       "\n",
       "    .dataframe tbody tr th {\n",
       "        vertical-align: top;\n",
       "    }\n",
       "\n",
       "    .dataframe thead th {\n",
       "        text-align: right;\n",
       "    }\n",
       "</style>\n",
       "<table border=\"1\" class=\"dataframe\">\n",
       "  <thead>\n",
       "    <tr style=\"text-align: right;\">\n",
       "      <th></th>\n",
       "      <th>GOING_CONCERN</th>\n",
       "      <th>COMPANY_FKEY</th>\n",
       "      <th>OPINION_TEXT1</th>\n",
       "      <th>OPINION_TEXT2</th>\n",
       "      <th>OPINION_TEXT3</th>\n",
       "    </tr>\n",
       "  </thead>\n",
       "  <tbody>\n",
       "    <tr>\n",
       "      <th>0</th>\n",
       "      <td>0.0</td>\n",
       "      <td>20.0</td>\n",
       "      <td>Report of Independent Registered Public Accoun...</td>\n",
       "      <td>NaN</td>\n",
       "      <td>NaN</td>\n",
       "    </tr>\n",
       "    <tr>\n",
       "      <th>1</th>\n",
       "      <td>0.0</td>\n",
       "      <td>1750.0</td>\n",
       "      <td>Report of Independent Registered Public Accoun...</td>\n",
       "      <td>NaN</td>\n",
       "      <td>NaN</td>\n",
       "    </tr>\n",
       "    <tr>\n",
       "      <th>2</th>\n",
       "      <td>0.0</td>\n",
       "      <td>1750.0</td>\n",
       "      <td>Report of Independent Registered Public Accoun...</td>\n",
       "      <td>NaN</td>\n",
       "      <td>NaN</td>\n",
       "    </tr>\n",
       "    <tr>\n",
       "      <th>3</th>\n",
       "      <td>0.0</td>\n",
       "      <td>1750.0</td>\n",
       "      <td>Report of Independent Registered Public Accoun...</td>\n",
       "      <td>NaN</td>\n",
       "      <td>NaN</td>\n",
       "    </tr>\n",
       "    <tr>\n",
       "      <th>4</th>\n",
       "      <td>0.0</td>\n",
       "      <td>1750.0</td>\n",
       "      <td>Report of Independent Registered Public Accoun...</td>\n",
       "      <td>NaN</td>\n",
       "      <td>NaN</td>\n",
       "    </tr>\n",
       "  </tbody>\n",
       "</table>\n",
       "</div>"
      ],
      "text/plain": [
       "   GOING_CONCERN  COMPANY_FKEY  \\\n",
       "0            0.0          20.0   \n",
       "1            0.0        1750.0   \n",
       "2            0.0        1750.0   \n",
       "3            0.0        1750.0   \n",
       "4            0.0        1750.0   \n",
       "\n",
       "                                       OPINION_TEXT1 OPINION_TEXT2  \\\n",
       "0  Report of Independent Registered Public Accoun...           NaN   \n",
       "1  Report of Independent Registered Public Accoun...           NaN   \n",
       "2  Report of Independent Registered Public Accoun...           NaN   \n",
       "3  Report of Independent Registered Public Accoun...           NaN   \n",
       "4  Report of Independent Registered Public Accoun...           NaN   \n",
       "\n",
       "   OPINION_TEXT3  \n",
       "0            NaN  \n",
       "1            NaN  \n",
       "2            NaN  \n",
       "3            NaN  \n",
       "4            NaN  "
      ]
     },
     "execution_count": 28,
     "metadata": {},
     "output_type": "execute_result"
    }
   ],
   "source": [
    "bank_data.head()"
   ]
  },
  {
   "cell_type": "code",
   "execution_count": 33,
   "metadata": {},
   "outputs": [
    {
     "name": "stdout",
     "output_type": "stream",
     "text": [
      "0.0    139699\n",
      "1.0     26915\n",
      "Name: GOING_CONCERN, dtype: int64\n",
      "Op1:  166617\n",
      "Op2:  166602\n",
      "Op2:  166614\n"
     ]
    }
   ],
   "source": [
    "val_counts = bank_data['GOING_CONCERN'].value_counts()\n",
    "print(val_counts)\n",
    "\n",
    "op1_nulls = bank_data['OPINION_TEXT1'].isnull().sum() # 166617 items\n",
    "op2_nulls = bank_data['OPINION_TEXT2'].isnull().sum() # 15 items\n",
    "op3_nulls = bank_data['OPINION_TEXT3'].isnull().sum() # 3 items\n",
    "print('Op1: ', op1_nulls)\n",
    "print('Op2: ', op2_nulls)\n",
    "print('Op2: ', op3_nulls)\n"
   ]
  },
  {
   "attachments": {},
   "cell_type": "markdown",
   "metadata": {},
   "source": [
    "## Remove all entries that span more than one 'OPINION TEXT'"
   ]
  },
  {
   "cell_type": "code",
   "execution_count": 40,
   "metadata": {},
   "outputs": [
    {
     "name": "stdout",
     "output_type": "stream",
     "text": [
      "        COMPANY_FKEY  GOING_CONCERN  \\\n",
      "0               20.0            0.0   \n",
      "1             1750.0            0.0   \n",
      "2             1750.0            0.0   \n",
      "3             1750.0            0.0   \n",
      "4             1750.0            0.0   \n",
      "...              ...            ...   \n",
      "166612     1931055.0            0.0   \n",
      "166613     1931691.0            1.0   \n",
      "166614     1933359.0            1.0   \n",
      "166615     1934945.0            1.0   \n",
      "166616     1936214.0            0.0   \n",
      "\n",
      "                                            OPINION_TEXT1  \n",
      "0       Report of Independent Registered Public Accoun...  \n",
      "1       Report of Independent Registered Public Accoun...  \n",
      "2       Report of Independent Registered Public Accoun...  \n",
      "3       Report of Independent Registered Public Accoun...  \n",
      "4       Report of Independent Registered Public Accoun...  \n",
      "...                                                   ...  \n",
      "166612  Report of Independent Registered Public Accoun...  \n",
      "166613  REPORT OF INDEPENDENT REGISTERED PUBLIC ACCOUN...  \n",
      "166614  REPORT OF INDEPENDENT REGISTERED PUBLIC ACCOUN...  \n",
      "166615  REPORT OF INDEPENDENT REGISTERED PUBLIC ACCOUN...  \n",
      "166616  INDEPENDENT AUDITOR’S REPORT<p>To the Board of...  \n",
      "\n",
      "[166602 rows x 3 columns]\n"
     ]
    },
    {
     "data": {
      "text/html": [
       "<div>\n",
       "<style scoped>\n",
       "    .dataframe tbody tr th:only-of-type {\n",
       "        vertical-align: middle;\n",
       "    }\n",
       "\n",
       "    .dataframe tbody tr th {\n",
       "        vertical-align: top;\n",
       "    }\n",
       "\n",
       "    .dataframe thead th {\n",
       "        text-align: right;\n",
       "    }\n",
       "</style>\n",
       "<table border=\"1\" class=\"dataframe\">\n",
       "  <thead>\n",
       "    <tr style=\"text-align: right;\">\n",
       "      <th></th>\n",
       "      <th>COMPANY_FKEY</th>\n",
       "      <th>GOING_CONCERN</th>\n",
       "      <th>OPINION_TEXT1</th>\n",
       "    </tr>\n",
       "  </thead>\n",
       "  <tbody>\n",
       "    <tr>\n",
       "      <th>0</th>\n",
       "      <td>20.0</td>\n",
       "      <td>0.0</td>\n",
       "      <td>Report of Independent Registered Public Accoun...</td>\n",
       "    </tr>\n",
       "    <tr>\n",
       "      <th>1</th>\n",
       "      <td>1750.0</td>\n",
       "      <td>0.0</td>\n",
       "      <td>Report of Independent Registered Public Accoun...</td>\n",
       "    </tr>\n",
       "    <tr>\n",
       "      <th>2</th>\n",
       "      <td>1750.0</td>\n",
       "      <td>0.0</td>\n",
       "      <td>Report of Independent Registered Public Accoun...</td>\n",
       "    </tr>\n",
       "    <tr>\n",
       "      <th>3</th>\n",
       "      <td>1750.0</td>\n",
       "      <td>0.0</td>\n",
       "      <td>Report of Independent Registered Public Accoun...</td>\n",
       "    </tr>\n",
       "    <tr>\n",
       "      <th>4</th>\n",
       "      <td>1750.0</td>\n",
       "      <td>0.0</td>\n",
       "      <td>Report of Independent Registered Public Accoun...</td>\n",
       "    </tr>\n",
       "  </tbody>\n",
       "</table>\n",
       "</div>"
      ],
      "text/plain": [
       "   COMPANY_FKEY  GOING_CONCERN  \\\n",
       "0          20.0            0.0   \n",
       "1        1750.0            0.0   \n",
       "2        1750.0            0.0   \n",
       "3        1750.0            0.0   \n",
       "4        1750.0            0.0   \n",
       "\n",
       "                                       OPINION_TEXT1  \n",
       "0  Report of Independent Registered Public Accoun...  \n",
       "1  Report of Independent Registered Public Accoun...  \n",
       "2  Report of Independent Registered Public Accoun...  \n",
       "3  Report of Independent Registered Public Accoun...  \n",
       "4  Report of Independent Registered Public Accoun...  "
      ]
     },
     "execution_count": 40,
     "metadata": {},
     "output_type": "execute_result"
    }
   ],
   "source": [
    "# get rid of all values with op2 \n",
    "df_filtered = bank_data[bank_data['OPINION_TEXT2'].isnull()]\n",
    "df_filtered = df_filtered[['COMPANY_FKEY','GOING_CONCERN','OPINION_TEXT1']]\n",
    "\n",
    "print(df_filtered)\n",
    "df_filtered.head()"
   ]
  },
  {
   "cell_type": "code",
   "execution_count": 37,
   "metadata": {},
   "outputs": [
    {
     "name": "stdout",
     "output_type": "stream",
     "text": [
      "166602\n"
     ]
    }
   ],
   "source": [
    "op1_nulls = df_filtered['OPINION_TEXT1'].count() # 166617 items\n",
    "print(op1_nulls)"
   ]
  },
  {
   "cell_type": "code",
   "execution_count": 3,
   "metadata": {},
   "outputs": [
    {
     "ename": "NameError",
     "evalue": "name 'df_filtered' is not defined",
     "output_type": "error",
     "traceback": [
      "\u001b[0;31m---------------------------------------------------------------------------\u001b[0m",
      "\u001b[0;31mNameError\u001b[0m                                 Traceback (most recent call last)",
      "\u001b[0;32m/var/folders/bz/vm79k19966x72r5s425vw7zm0000gp/T/ipykernel_2920/3258321382.py\u001b[0m in \u001b[0;36m<module>\u001b[0;34m\u001b[0m\n\u001b[1;32m      1\u001b[0m \u001b[0;31m# save modified to csv\u001b[0m\u001b[0;34m\u001b[0m\u001b[0;34m\u001b[0m\u001b[0m\n\u001b[0;32m----> 2\u001b[0;31m \u001b[0mdf_filtered\u001b[0m\u001b[0;34m.\u001b[0m\u001b[0mto_csv\u001b[0m\u001b[0;34m(\u001b[0m\u001b[0;34m'./data/going_concerns.csv'\u001b[0m\u001b[0;34m)\u001b[0m\u001b[0;34m\u001b[0m\u001b[0;34m\u001b[0m\u001b[0m\n\u001b[0m",
      "\u001b[0;31mNameError\u001b[0m: name 'df_filtered' is not defined"
     ]
    }
   ],
   "source": [
    "# save modified to csv\n",
    "df_filtered.to_csv('./data/going_concerns.csv')"
   ]
  },
  {
   "cell_type": "code",
   "execution_count": 43,
   "metadata": {},
   "outputs": [],
   "source": [
    "neg, pos = np.bincount(df_filtered['GOING_CONCERN'])"
   ]
  },
  {
   "cell_type": "code",
   "execution_count": 44,
   "metadata": {},
   "outputs": [
    {
     "name": "stdout",
     "output_type": "stream",
     "text": [
      "neg:  139687\n",
      "pos:  26915\n"
     ]
    }
   ],
   "source": [
    "print('neg: ', neg)\n",
    "print('pos: ', pos)"
   ]
  },
  {
   "attachments": {},
   "cell_type": "markdown",
   "metadata": {},
   "source": [
    "Remove stopwords and symbols"
   ]
  },
  {
   "cell_type": "code",
   "execution_count": 1,
   "metadata": {},
   "outputs": [
    {
     "name": "stderr",
     "output_type": "stream",
     "text": [
      "[nltk_data] Downloading package stopwords to\n",
      "[nltk_data]     /Users/evanaholevas/nltk_data...\n",
      "[nltk_data]   Package stopwords is already up-to-date!\n"
     ]
    }
   ],
   "source": [
    "# import re\n",
    "# import csv\n",
    "# import nltk\n",
    "# from nltk.corpus import stopwords\n",
    "# nltk.download('stopwords')\n",
    "\n",
    "# reports = pd.read_csv('./data/going_concerns.csv')\n",
    "\n",
    "# stop_words = set(stopwords.words('english'))\n",
    "# pattern = r'[^\\w\\s]'\n",
    "\n",
    "# def remove_stopwords(sentence):\n",
    "#     words = nltk.word_tokenize(sentence)\n",
    "#     return ' '.join([word for word in words if word.lower() not in stopwords])\n",
    "\n",
    "# reports []\n"
   ]
  },
  {
   "cell_type": "code",
   "execution_count": 4,
   "metadata": {},
   "outputs": [],
   "source": [
    "import pandas as pd\n",
    "\n",
    "concern_reports = (pd.read_csv('data/going_concerns.csv'))"
   ]
  },
  {
   "cell_type": "code",
   "execution_count": 6,
   "metadata": {},
   "outputs": [],
   "source": [
    "# label: GOING_CONCERN (0 or 1)\n",
    "# split into testing, training, and validation\n",
    "\n",
    "X = concern_reports.drop(['GOING_CONCERN'], axis=1)\n",
    "y = concern_reports['GOING_CONCERN']"
   ]
  },
  {
   "cell_type": "code",
   "execution_count": 7,
   "metadata": {},
   "outputs": [
    {
     "name": "stdout",
     "output_type": "stream",
     "text": [
      "y_train data distribution:\n",
      " 0.0    91542\n",
      "1.0    17748\n",
      "Name: GOING_CONCERN, dtype: int64\n",
      "y_validate data distribution:\n",
      " 0.0    20174\n",
      "1.0     3817\n",
      "Name: GOING_CONCERN, dtype: int64\n",
      "y_test data distribution:\n",
      " 0.0    21047\n",
      "1.0     3944\n",
      "Name: GOING_CONCERN, dtype: int64\n"
     ]
    }
   ],
   "source": [
    "from sklearn.model_selection import train_test_split\n",
    "\n",
    "# split data into training (70%), validation (15%), and testing (15%) sets \n",
    "X_, X_test, y_, y_test = train_test_split(X, y, train_size=0.8, test_size=0.15, random_state=42, shuffle=True)\n",
    "X_train, X_validate, y_train, y_validate = train_test_split(X_, y_, train_size=0.82, test_size=0.18, random_state=42, shuffle=True)\n",
    "\n",
    "print(\"y_train data distribution:\\n\", y_train.value_counts())\n",
    "print(\"y_validate data distribution:\\n\", y_validate.value_counts())\n",
    "print(\"y_test data distribution:\\n\", y_test.value_counts())\n",
    "\n",
    "input_shape = (X.shape[1],)"
   ]
  },
  {
   "attachments": {},
   "cell_type": "markdown",
   "metadata": {},
   "source": [
    "## Label Explanation\n",
    "0=no 1=yes\t\n",
    "Indicates the auditor's opinion contains an explanatory paragraph regarding the going concern assumption.\n",
    "\n",
    "Auditors include an explanitory paragraph when they concluded there is substantial doubt in a company as a 'going concern.'"
   ]
  },
  {
   "cell_type": "code",
   "execution_count": 39,
   "metadata": {},
   "outputs": [],
   "source": [
    "import os\n",
    "import random\n",
    "import shutil\n",
    "\n",
    "import pandas as pd\n",
    "\n",
    "import tensorflow as tf\n",
    "from tensorflow.keras.preprocessing.text import Tokenizer\n",
    "from tensorflow.keras.preprocessing.sequence import pad_sequences\n",
    "\n",
    "# Load data from CSV file\n",
    "data = pd.read_csv('data/going_concerns.csv')\n",
    "\n",
    "# Shuffle data\n",
    "data = data.sample(frac=1, random_state=42).reset_index(drop=True)\n",
    "\n",
    "# Split data into training, testing sets\n",
    "train_ratio = 0.85\n",
    "test_ratio = 0.15\n",
    "\n",
    "num_samples = len(data)\n",
    "train_cutoff = int(num_samples * train_ratio)\n",
    "# test_cutoff = int((num_samples * test_ratio))\n",
    "\n",
    "train_data = data.iloc[:train_cutoff]\n",
    "test_data = data.iloc[train_cutoff:]\n",
    "# val_data = data.iloc[test_cutoff:]\n",
    "\n",
    "# Create output directories if they don't exist\n",
    "output_dir = './data/going_concern_reports'\n",
    "if not os.path.exists(output_dir):\n",
    "    os.makedirs(output_dir)\n",
    "\n",
    "train_dir = os.path.join(output_dir, 'train')\n",
    "if not os.path.exists(train_dir):\n",
    "    os.makedirs(train_dir)\n",
    "\n",
    "test_dir = os.path.join(output_dir, 'test')\n",
    "if not os.path.exists(test_dir):\n",
    "    os.makedirs(test_dir)\n",
    "\n",
    "# val_dir = os.path.join(output_dir, 'val')\n",
    "# if not os.path.exists(val_dir):\n",
    "#     os.makedirs(val_dir)\n",
    "\n",
    "# Convert data to the required directory structure\n",
    "def convert_data(data, dirname):\n",
    "    for label in [0, 1]:\n",
    "        label_data = data[data['GOING_CONCERN'] == label]\n",
    "        label_dir = os.path.join(dirname, str(label))\n",
    "        # create directory for label if it doesn't exist\n",
    "        if not os.path.exists(label_dir):\n",
    "            os.makedirs(label_dir)\n",
    "        \n",
    "        \n",
    "        # create a new text file for each report titled by company id + index\n",
    "        for idx, row in label_data.iterrows():\n",
    "            filename = f\"{row['COMPANY_FKEY']}_{idx}.txt\"\n",
    "            filepath = os.path.join(label_dir, filename)\n",
    "\n",
    "            with open(filepath, 'w', encoding='utf-8') as f:\n",
    "                f.write(row['OPINION_TEXT1'])\n",
    "\n",
    "convert_data(train_data, train_dir)\n",
    "convert_data(test_data, test_dir)\n",
    "# convert_data(val_data, val_dir)\n"
   ]
  },
  {
   "cell_type": "code",
   "execution_count": 36,
   "metadata": {},
   "outputs": [
    {
     "name": "stdout",
     "output_type": "stream",
     "text": [
      "train:  141611\n",
      "test:  24991\n"
     ]
    }
   ],
   "source": [
    "len(data)\n",
    "print(\"train: \", len(train_data))\n",
    "print(\"test: \", len(test_data))"
   ]
  },
  {
   "cell_type": "code",
   "execution_count": 41,
   "metadata": {},
   "outputs": [
    {
     "name": "stdout",
     "output_type": "stream",
     "text": [
      "Train count: 141611\n",
      "test count: 24991\n"
     ]
    }
   ],
   "source": [
    "import os\n",
    "\n",
    "# folder path\n",
    "dir_path2 = 'data/going_concern_reports/train'\n",
    "count2 = 0\n",
    "for root_dir, cur_dir, files in os.walk(dir_path2):\n",
    "    count2 += len(files)\n",
    "print('Train count:', count2)\n",
    "\n",
    "# folder path\n",
    "dir_path = 'data/going_concern_reports/test'\n",
    "count = 0\n",
    "for root_dir, cur_dir, files in os.walk(dir_path):\n",
    "    count += len(files)\n",
    "print('test count:', count)"
   ]
  },
  {
   "cell_type": "code",
   "execution_count": 43,
   "metadata": {},
   "outputs": [
    {
     "name": "stdout",
     "output_type": "stream",
     "text": [
      "Found 141611 files belonging to 2 classes.\n",
      "Using 117538 files for training.\n"
     ]
    }
   ],
   "source": [
    "# create validation set\n",
    "batch_size = 32\n",
    "seed = 42\n",
    "\n",
    "raw_train_ds = tf.keras.utils.text_dataset_from_directory(\n",
    "    'data/going_concern_reports/train', \n",
    "    batch_size=batch_size, \n",
    "    validation_split=0.17, \n",
    "    subset='training', \n",
    "    seed=seed)"
   ]
  },
  {
   "cell_type": "code",
   "execution_count": 44,
   "metadata": {},
   "outputs": [
    {
     "name": "stdout",
     "output_type": "stream",
     "text": [
      "Found 24991 files belonging to 2 classes.\n"
     ]
    }
   ],
   "source": [
    "raw_test_ds = tf.keras.utils.text_dataset_from_directory(\n",
    "    'data/going_concern_reports/test', \n",
    "    batch_size=batch_size)"
   ]
  },
  {
   "attachments": {},
   "cell_type": "markdown",
   "metadata": {},
   "source": [
    "## Preprocess and clean text\n",
    "Standardize and remove HTML elements"
   ]
  },
  {
   "cell_type": "code",
   "execution_count": 52,
   "metadata": {},
   "outputs": [],
   "source": [
    "import string \n",
    "import regex as re\n",
    "\n",
    "# remove HTML tags from the text\n",
    "# main tags: <p>, /s/,\n",
    "def custom_standardization(input_data):\n",
    "  lowercase = tf.strings.lower(input_data)\n",
    "  stripped_html = tf.strings.regex_replace(lowercase, '<p>', ' ')\n",
    "  return tf.strings.regex_replace(stripped_html,\n",
    "                                  '[%s]' % re.escape(string.punctuation),\n",
    "                                  '')"
   ]
  },
  {
   "cell_type": "code",
   "execution_count": 54,
   "metadata": {},
   "outputs": [],
   "source": [
    "max_features = 10000\n",
    "sequence_length = 250\n",
    "\n",
    "vectorize_layer = tf.keras.layers.TextVectorization(\n",
    "    standardize=custom_standardization,\n",
    "    max_tokens=max_features,\n",
    "    output_mode='int',\n",
    "    output_sequence_length=sequence_length)"
   ]
  },
  {
   "cell_type": "code",
   "execution_count": 55,
   "metadata": {},
   "outputs": [],
   "source": [
    "# convert text to numbers without labels, then adapt to the data\n",
    "train_text = raw_train_ds.map(lambda x, y: x)\n",
    "vectorize_layer.adapt(train_text)"
   ]
  },
  {
   "cell_type": "code",
   "execution_count": 56,
   "metadata": {},
   "outputs": [],
   "source": [
    "# preview the preprocessed data\n",
    "def vectorize_text(text, label):\n",
    "  text = tf.expand_dims(text, -1)\n",
    "  return vectorize_layer(text), label"
   ]
  },
  {
   "cell_type": "code",
   "execution_count": 57,
   "metadata": {},
   "outputs": [
    {
     "name": "stdout",
     "output_type": "stream",
     "text": [
      "Review tf.Tensor(b\"Report of Independent Registered Public Accounting Firm<p>Board of Directors and Shareholders  U.S. Concrete, Inc.  We have audited the accompanying consolidated balance sheet of U.S. Concrete, Inc. (a Delaware corporation) and subsidiaries (the \\xe2\\x80\\x9cCompany\\xe2\\x80\\x9d) as of December 31, 2012, and the related consolidated statements of operations, changes in equity, and cash flows for the year then ended. These financial statements are the responsibility of the Company's management. Our responsibility is to express an opinion on these financial statements based on our audit.<p>We conducted our audit in accordance with the standards of the Public Company Accounting Oversight Board (United States). Those standards require that we plan and perform the audit to obtain reasonable assurance about whether the financial statements are free of material misstatement. The Company is not required to have, nor were we engaged to perform an audit of its internal control over financial reporting. Our audit included consideration of internal control over financial reporting as a basis for designing audit procedures that are appropriate in the circumstances, but not for the purpose of expressing an opinion on the effectiveness of the Company's internal control over financial reporting. Accordingly, we express no such opinion. An audit also includes examining, on a test basis, evidence supporting the amounts and disclosures in the financial statements, assessing the accounting principles used and significant estimates made by management, as well as evaluating the overall financial statement presentation. We believe that our audit provides a reasonable basis for our opinion.<p>In our opinion, the consolidated financial statements referred to above present fairly, in all material respects, the financial position of U.S. Concrete, Inc. and subsidiaries as of December 31, 2012, and the results of their operations and their cash flows for the year then ended in conformity with accounting principles generally accepted in the United States of America.<p>/s/ GRANT THORNTON LLP  Dallas, Texas  March 8, 2013\", shape=(), dtype=string)\n",
      "Label 0\n",
      "Vectorized review (<tf.Tensor: shape=(1, 250), dtype=int64, numpy=\n",
      "array([[  71,    3,   72,   75,   33,   15,   74,   47,    3,  130,    4,\n",
      "         188,  139, 5737,   92,   11,   39,   82,    2,   83,   26,  153,\n",
      "         416,    3,  139, 5737,   92,   17,  736,  246,    4,  177,    2,\n",
      "         276,   10,    3,   32,   24,  145,    4,    2,   62,   26,    9,\n",
      "           3,   56,  113,    6,  138,    4,   64,   69,   12,    2,  134,\n",
      "         100,   34,   46,    5,    9,   20,    2,   51,    3,    2,  163,\n",
      "          42,    8,   51,   41,    7,   66,   22,   14,   13,   46,    5,\n",
      "           9,   68,   13,    8,   16,   11,  108,    8,   16,    6,   52,\n",
      "          18,    2,   37,    3,    2,   33,   27,   15,   97,   47,   53,\n",
      "          54,   65,   37,  109,   19,   11,  104,    4,   67,    2,   16,\n",
      "           7,   81,   38,   78,   84,   49,    2,    5,    9,   20,  105,\n",
      "           3,   30,   70,    2,   27,   41,   57,   91,    7,   39,  185,\n",
      "         128,   11,  172,    7,   67,   22,   16,    3,   43,   23,   25,\n",
      "          29,    5,   28,    8,   16,   35,  197,    3,   23,   25,   29,\n",
      "           5,   28,   10,   17,   31,   12,  219,   16,   36,   19,   20,\n",
      "         184,    6,    2,  183,  158,   57,   12,    2,  169,    3,  171,\n",
      "          22,   14,   13,    2,  118,    3,    2,  163,   23,   25,   29,\n",
      "           5,   28,  170,   11,   66,  151,   87,   14,   22,   16,   59,\n",
      "         119,  114,   13,   17,  107,   31,   96,  144,    2,  102,    4,\n",
      "          88,    6,    2,    5,    9,  133,    2,   15,   44,   80,    4,\n",
      "          77,   93,   95,   40,   42,   10,  124,   10,   63,    2,  106,\n",
      "           5,   48,  101,   11,  111,   19,    8,   16,  303,   17,   38,\n",
      "          31,   12,    8,   14,    6,    8,   14,    2]])>, <tf.Tensor: shape=(), dtype=int32, numpy=0>)\n"
     ]
    }
   ],
   "source": [
    "# retrieve a batch of 32 going concern reports and labels from the dataset\n",
    "text_batch, label_batch = next(iter(raw_train_ds))\n",
    "first_review, first_label = text_batch[0], label_batch[0]\n",
    "print(\"Review\", first_review)\n",
    "print(\"Label\", raw_train_ds.class_names[first_label])\n",
    "print(\"Vectorized review\", vectorize_text(first_review, first_label))"
   ]
  },
  {
   "cell_type": "code",
   "execution_count": null,
   "metadata": {},
   "outputs": [],
   "source": [
    "import pandas as pd\n",
    "import os\n",
    "\n",
    "# Split the data into training, testing, and validation sets\n",
    "train_df, test_df, val_df = np.split(concern_reports.sample(frac=1, random_state=42), [int(.6*len(concern_reports)), int(.8*len(concern_reports))])\n",
    "\n",
    "# Create folders for each label in the train, test and validation sets\n",
    "for label in ['pos', 'neg']:\n",
    "    os.makedirs(f'data/going_concerns/train/{label}', exist_ok=True)\n",
    "    os.makedirs(f'data/going_concerns/test/{label}', exist_ok=True)\n",
    "    os.makedirs(f'data/going_concerns/val/{label}', exist_ok=True)\n",
    "\n",
    "# Save the training data to the appropriate folder\n",
    "for _, row in train_df.iterrows():\n",
    "    label = 'pos' if row['GOING_CONCERN'] == 0 else 'neg'\n",
    "    with open(f'data/going_concerns/train/{label}/{row[\"COMPANY_FKEY\"]}.txt', 'w') as f:\n",
    "        f.write(row['OPINION_TEXT1'])\n",
    "\n",
    "# Save the testing data to the appropriate folder\n",
    "for _, row in test_df.iterrows():\n",
    "    label = 'pos' if row['GOING_CONCERN'] == 0 else 'neg'\n",
    "    with open(f'data/going_concerns/test/{label}/{row[\"COMPANY_FKEY\"]}.txt', 'w') as f:\n",
    "        f.write(row['OPINION_TEXT1'])\n",
    "\n",
    "# Save the validation data to the appropriate folder\n",
    "for _, row in val_df.iterrows():\n",
    "    label = 'pos' if row['GOING_CONCERN'] == 0 else 'neg'\n",
    "    with open(f'data/going_concerns/val/{label}/{row[\"COMPANY_FKEY\"]}.txt', 'w') as f:\n",
    "        f.write(row['OPINION_TEXT1'])\n"
   ]
  },
  {
   "cell_type": "code",
   "execution_count": 19,
   "metadata": {},
   "outputs": [],
   "source": [
    "import nltk\n",
    "from nltk.corpus import stopwords\n",
    "from nltk.tokenize import word_tokenize\n",
    "stop_words = set(stopwords.words(\"english\"))\n",
    "\n",
    "for i in range(len(concern_reports)):\n",
    "    #tokenize the text into words\n",
    "    words = nltk.word_tokenize(concern_reports[i][3])\n",
    "    concern_reports[i][3] = []\n",
    "    filtered_words = [word for word in words if word.lower() not in stop_words]\n",
    "    concern_reports[i][3] = ' '.join(filtered_words)\n"
   ]
  },
  {
   "cell_type": "code",
   "execution_count": 23,
   "metadata": {},
   "outputs": [
    {
     "data": {
      "text/plain": [
       "array([[0, 20.0, 0.0,\n",
       "        'Report Independent Registered Public Accounting Firm Board Directors Shareholders K-Tron International , Inc. Subsidiaries audited accompanying consolidated balance sheets K-Tron International , Inc. ( New Jersey corporation ) Subsidiaries January 2 , 2010 January 3 , 2009 , related consolidated statements income , changes shareholders ’ equity , cash flows three fiscal years ended January 2 , 2010 , January 3 , 2009 , December 29 , 2007 . audits basic financial statements included financial statement schedule listed index appearing page S-1 . financial statements financial statement schedule responsibility Company ’ management . responsibility express opinion financial statements financial statement schedule based audits . conducted audits accordance standards Public Company Accounting Oversight Board ( United States ) . standards require plan perform audit obtain reasonable assurance whether financial statements free material misstatement . audit includes examining , test basis , evidence supporting amounts disclosures financial statements . audit also includes assessing accounting principles used significant estimates made management , well evaluating overall financial statement presentation . believe audits provide reasonable basis opinion . opinion , financial statements referred present fairly , material respects , consolidated financial position K-Tron International , Inc. Subsidiaries January 2 , 2010 January 3 , 2009 , consolidated results operations cash flows fiscal years ended January 2 , 2010 , January 3 , 2009 , December 29 , 2007 , conformity accounting principles generally accepted United States America . Also , opinion , related financial statement schedule , considered relation basic financial statements taken whole , presents fairly , material respects , information set forth therein . also audited , accordance standards Public Company Accounting Oversight Board ( United States ) , K-Tron International , Inc. Subsidiaries ’ internal control financial reporting January 2 , 2010 , based criteria established Internal Control—Integrated Framework issued Committee Sponsoring Organizations Treadway Commission ( COSO ) report dated March 15 , 2010 expressed unqualified opinion . GRANT THORNTON LLP Philadelphia , Pennsylvania March 15 , 2010'],\n",
       "       [1, 1750.0, 0.0,\n",
       "        \"Report Independent Registered Public Accounting Firm < p > STOCKHOLDERS BOARD DIRECTORS AAR CORP. : < p > audited accompanying consolidated balance sheets AAR CORP. subsidiaries ( Company ) May 31 , 2010 2009 related consolidated statements operations , changes equity cash flows years three-year period ended May 31 , 2010 . consolidated financial statements responsibility Company 's management . responsibility express opinion consolidated financial statements based audits . < p > conducted audits accordance standards Public Company Accounting Oversight Board ( United States ) . standards require plan perform audit obtain reasonable assurance whether financial statements free material misstatement . audit includes examining , test basis , evidence supporting amounts disclosures financial statements . audit also includes assessing accounting principles used significant estimates made management , well evaluating overall financial statement presentation . believe audits provide reasonable basis opinion . < p > opinion , consolidated financial statements referred present fairly , material respects , financial position AAR CORP. subsidiaries May 31 , 2010 2009 results operations cash flows years three-year period ended May 31 , 2010 , conformity U.S. generally accepted accounting principles . < p > discussed Note 1 consolidated financial statements , Company adopted new standards related accounting noncontrolling interests convertible debt June 1 , 2009 . < p > also audited , accordance standards Public Company Accounting Oversight Board ( United States ) , effectiveness Company 's internal control financial reporting May 31 , 2010 , based criteria established Internal Control—Integrated Framework issued Committee Sponsoring Organizations Treadway Commission ( COSO ) , report dated July 16 , 2010 expressed unqualified opinion effective operation internal control financial reporting . < p > /s/ KPMG LLP < p > Chicago , Illinois July 16 , 2010\"],\n",
       "       [2, 1750.0, 0.0,\n",
       "        \"Report Independent Registered Public Accounting Firm < p > STOCKHOLDERS BOARD DIRECTORS AAR CORP. : < p > audited accompanying consolidated balance sheets AAR CORP. subsidiaries ( Company ) May 31 , 2011 2010 related consolidated statements income , changes equity cash flows years three-year period ended May 31 , 2011 . consolidated financial statements responsibility Company 's management . responsibility express opinion consolidated financial statements based audits. < p > conducted audits accordance standards Public Company Accounting Oversight Board ( United States ) . standards require plan perform audit obtain reasonable assurance whether financial statements free material misstatement . audit includes examining , test basis , evidence supporting amounts disclosures financial statements . audit also includes assessing accounting principles used significant estimates made management , well evaluating overall financial statement presentation . believe audits provide reasonable basis opinion. < p > opinion , consolidated financial statements referred present fairly , material respects , financial position AAR CORP. subsidiaries May 31 , 2011 2010 results operations cash flows years three-year period ended May 31 , 2011 , conformity U.S. generally accepted accounting principles. < p > also audited , accordance standards Public Company Accounting Oversight Board ( United States ) , effectiveness Company 's internal control financial reporting May 31 , 2011 , based criteria established Internal Controlâ€ ” Integrated Framework issued Committee Sponsoring Organizations Treadway Commission ( COSO ) , report dated July 13 , 2011 expressed unqualified opinion effective operation internal control financial reporting. < p > /s/ KPMG LLP < p > Chicago , Illinois July 13 , 2011\"],\n",
       "       ...,\n",
       "       [166614, 1933359.0, 1.0,\n",
       "        \"REPORT INDEPENDENT REGISTERED PUBLIC ACCOUNTING FIRM < p > Shareholders Board Directors Natics Corp. < p > Opinion Financial Statements < p > audited accompanying balance sheet Natics Corp. ( `` Company '' ) April 30 , 2022 , related statements operations , changes stockholders ' equity , inception period ended April 30 , 2022 , related notes ( collectively referred `` financial statements '' ) . opinion , financial statements present fairly , material respects , financial position Company April 30 , 2022 results operations cash flows inception period ended April 30 , 2022 , conformity accounting principles generally accepted United States America. < p > Going Concern Uncertainty < p > Company 's financial statements prepared using generally accepted accounting principles applicable going concern , contemplates realization assets liquidation liabilities normal course business . Company accumulated deficit $ 200 negative cash flow operations amounting $ 200 inception period ended April 30 , 2022 . factors discussed Note 2 financial statements raise substantial doubt Company 's ability continue going concern . Management 's plans regard matters also described Note 2 . financial statements include adjustments might result outcome uncertainties. < p > Basis Opinion < p > financial statements responsibility Company 's management . responsibility express opinion Company 's financial statements based audits . public accounting firm registered Public Company Accounting Oversight Board ( United States ) ( `` PCAOB '' ) required independent respect Company accordance U.S. federal securities laws applicable rules regulations Securities Exchange Commission PCAOB. < p > conducted audits accordance standards PCAOB . standards require plan perform audit obtain reasonable assurance whether financial statements free material misstatement , whether due error fraud . Company required , engaged perform , audit internal control financial reporting . part audits required obtain understanding internal control financial reporting purpose expressing opinion effectiveness Company 's internal control financial reporting . Accordingly , express opinion. < p > audits included performing procedures assess risks material misstatement financial statements , whether due error fraud , performing procedures respond risks . procedures included examining , test basis , evidence regarding amounts disclosures financial statements . audits also included evaluating accounting principles used significant estimates made management , well evaluating overall presentation financial statements . believe audits provide reasonable basis opinion. < p > Critical Audit Matters < p > Critical audit matters arising current period audit financial statements communicated required communicated audit committee ( 1 ) relate accounts disclosure material financial statements ( 2 ) involve especially challenging , subjective , complex judgements . communication critical audit matters alter way opinion financial statements , taken whole , , communicating critical audit maters , providing separate opinions critical audit matters accounts disclosures relate. < p > Critical Audit Matters existed April 30 , 2022. < p > DylanFloyd Accounting & Consulting < p > DylanFloyd Accounting & Consulting < p > served Company 's auditor since 2022 . Newhall , California < p > June 09 , 2022\"],\n",
       "       [166615, 1934945.0, 1.0,\n",
       "        'REPORT INDEPENDENT REGISTERED PUBLIC ACCOUNTING FIRM Shareholder Board Directors Trailblazer Merger Corporation Opinion Financial Statements audited accompanying balance sheet Trailblazer Merger Corporation ( “ Company ” ) December 31 , 2021 , related statements operations , stockholder ’ deficit cash flows period November 12 , 2021 ( inception ) December 31 , 2021 , related notes ( collectively referred “ financial statements ” ) . opinion , financial statements present fairly , material respects , financial position Company December 31 , 2021 , results operations cash flows period ended November 12 , 2021 ( inception ) December 31 , 2021 , conformity accounting principles generally accepted United States America . Explanatory Paragraph & # 8201 ; — & # 8201 ; Going Concern accompanying financial statements prepared assuming Company continue going concern . fully described Note 1 financial statements , Company formed Special Purpose Acquisition ( “ SPAC ” ) purpose effectuating merger , capital stock exchange , asset acquisition , stock purchase , reorganization similar business combination one businesses within 24 months completion proposed registered offering . Accordingly , Company ’ ability execute business plan dependent upon completion registered offering transaction described Note 3 financial statements . Company working capital deficiency lacks financial resources needs sustain operations reasonable period time , considered one year issuance date financial statements . conditions raise substantial doubt Company ’ ability continue going concern . Management ’ plans regard matters also described Notes 1 3 . financial statements include adjustments might necessary Company unable continue going concern . Basis Opinion financial statements responsibility Company ’ management . responsibility express opinion Company ’ financial statements based audit . public accounting firm registered Public Company Accounting Oversight Board ( United States ) ( “ PCAOB ” ) required independent respect Company accordance U.S. federal securities laws applicable rules regulations Securities Exchange Commission PCAOB . conducted audit accordance standards PCAOB . standards require plan perform audit obtain reasonable assurance whether financial statements free material misstatement , whether due error fraud . Company required , engaged perform , audit internal control financial reporting . part audit required obtain understanding internal control financial reporting purpose expressing opinion effectiveness Company ’ internal control financial reporting . Accordingly , express opinion . audit included performing procedures assess risks material misstatement financial statements , whether due error fraud , performing procedures respond risks . procedures included examining , test basis , evidence regarding amounts disclosures financial statements . audit also included evaluating accounting principles used significant estimates made management , well evaluating overall presentation financial statements . believe audit provides reasonable basis opinion . /s/ Marcum LLP Marcum LLP served Company ’ auditor since 2022 . New York , NY June 29 , 2022'],\n",
       "       [166616, 1936214.0, 0.0,\n",
       "        'INDEPENDENT AUDITOR ’ REPORT < p > Board Directors Shareholder Ohanae Inc. < p > Opinion < p > audited accompanying consolidated financial statements Ohanae Inc. subsidiary ( “ Company ” ) , comprise consolidated statements financial position December 31 , 2021 2020 , related consolidated statements operations , changes shareholder ’ equity , cash flows years ended , related notes consolidated financial statements. < p > opinion , consolidated financial statements referred present fairly , material respects , financial position Company December 31 , 2021 2020 , results operations cash flows years ended accordance accounting principles generally accepted United States America. < p > Basis Opinion < p > conducted audits accordance auditing standards generally accepted United States America . responsibilities standards described Auditor ’ Responsibilities Audit Consolidated Financial Statements section report . required independent Company meet ethical responsibilities accordance relevant ethical requirements relating audits . believe audit evidence obtained sufficient appropriate provide basis audit opinion. < p > Responsibilities Management Consolidated Financial Statements < p > Management responsible preparation fair presentation consolidated financial statements accordance accounting principles generally accepted United States America , design , implementation , maintenance internal control relevant preparation fair presentation consolidated financial statements free material misstatement , whether due fraud error. < p > preparing consolidated financial statements , management required evaluate whether conditions events , considered aggregate , raise substantial doubt Company ’ ability continue going concern within one year date consolidated financial statements available issued. < p > Auditor ’ Responsibilities Audit Consolidated Financial Statements < p > objectives obtain reasonable assurance whether consolidated financial statements whole free material misstatement , whether due fraud error , issue auditor ’ report includes opinion . Reasonable assurance high level assurance absolute assurance therefore guarantee audit conducted accordance generally accepted auditing standards always detect material misstatement exists . risk detecting material misstatement resulting fraud higher one resulting error , fraud may involve collusion , forgery , intentional omissions , misrepresentations , override internal control . Misstatements , including omissions , considered material substantial likelihood , individually aggregate , would influence judgment made reasonable user based consolidated financial statements. < p > F-3 < p > performing audit accordance generally accepted auditing standards , : < p > ·Exercise professional judgment maintain professional skepticism throughout audit. < p > ·Identify assess risks material misstatement consolidated financial statements , whether due fraud error , design perform audit procedures responsive risks . procedures include examining , test basis , evidence regarding amounts disclosures consolidated financial statements. < p > ·Obtain understanding internal control relevant audit order design audit procedures appropriate circumstances , purpose expressing opinion effectiveness Company ’ internal control . Accordingly , opinion expressed. < p > ·Evaluate appropriateness accounting policies used reasonableness significant accounting estimates made management , well evaluate overall presentation consolidated financial statements. < p > ·Conclude whether , judgment , conditions events , considered aggregate , raise substantial doubt Company ’ ability continue going concern reasonable period time. < p > required communicate charged governance regarding , among matters , planned scope timing audit , significant audit findings , certain internal control related matters identified audit. < p > YSL & Associates LLC < p > New York , NY < p > March 8 , 2022']],\n",
       "      dtype=object)"
      ]
     },
     "execution_count": 23,
     "metadata": {},
     "output_type": "execute_result"
    }
   ],
   "source": [
    "concern_reports"
   ]
  },
  {
   "cell_type": "code",
   "execution_count": null,
   "metadata": {},
   "outputs": [],
   "source": []
  }
 ],
 "metadata": {
  "kernelspec": {
   "display_name": "base",
   "language": "python",
   "name": "python3"
  },
  "language_info": {
   "codemirror_mode": {
    "name": "ipython",
    "version": 3
   },
   "file_extension": ".py",
   "mimetype": "text/x-python",
   "name": "python",
   "nbconvert_exporter": "python",
   "pygments_lexer": "ipython3",
   "version": "3.9.7"
  },
  "orig_nbformat": 4
 },
 "nbformat": 4,
 "nbformat_minor": 2
}
