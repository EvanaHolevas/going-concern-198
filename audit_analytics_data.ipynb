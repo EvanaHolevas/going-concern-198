{
 "cells": [
  {
   "cell_type": "code",
   "execution_count": 41,
   "metadata": {},
   "outputs": [
    {
     "name": "stderr",
     "output_type": "stream",
     "text": [
      "/opt/anaconda3/lib/python3.9/site-packages/IPython/core/interactiveshell.py:3444: DtypeWarning: Columns (178) have mixed types.Specify dtype option on import or set low_memory=False.\n",
      "  exec(code_obj, self.user_global_ns, self.user_ns)\n"
     ]
    }
   ],
   "source": [
    "import pandas as pd\n",
    "import numpy as np\n",
    "\n",
    "col_list = ['COMPANY_FKEY','GOING_CONCERN','OPINION_TEXT1','OPINION_TEXT2','OPINION_TEXT3']\n",
    "bank_data = pd.read_csv('data/Audit Analytics 01.2010.csv', usecols=col_list)\n",
    "# GOING_CONCERN"
   ]
  },
  {
   "cell_type": "code",
   "execution_count": 28,
   "metadata": {},
   "outputs": [
    {
     "data": {
      "text/html": [
       "<div>\n",
       "<style scoped>\n",
       "    .dataframe tbody tr th:only-of-type {\n",
       "        vertical-align: middle;\n",
       "    }\n",
       "\n",
       "    .dataframe tbody tr th {\n",
       "        vertical-align: top;\n",
       "    }\n",
       "\n",
       "    .dataframe thead th {\n",
       "        text-align: right;\n",
       "    }\n",
       "</style>\n",
       "<table border=\"1\" class=\"dataframe\">\n",
       "  <thead>\n",
       "    <tr style=\"text-align: right;\">\n",
       "      <th></th>\n",
       "      <th>GOING_CONCERN</th>\n",
       "      <th>COMPANY_FKEY</th>\n",
       "      <th>OPINION_TEXT1</th>\n",
       "      <th>OPINION_TEXT2</th>\n",
       "      <th>OPINION_TEXT3</th>\n",
       "    </tr>\n",
       "  </thead>\n",
       "  <tbody>\n",
       "    <tr>\n",
       "      <th>0</th>\n",
       "      <td>0.0</td>\n",
       "      <td>20.0</td>\n",
       "      <td>Report of Independent Registered Public Accoun...</td>\n",
       "      <td>NaN</td>\n",
       "      <td>NaN</td>\n",
       "    </tr>\n",
       "    <tr>\n",
       "      <th>1</th>\n",
       "      <td>0.0</td>\n",
       "      <td>1750.0</td>\n",
       "      <td>Report of Independent Registered Public Accoun...</td>\n",
       "      <td>NaN</td>\n",
       "      <td>NaN</td>\n",
       "    </tr>\n",
       "    <tr>\n",
       "      <th>2</th>\n",
       "      <td>0.0</td>\n",
       "      <td>1750.0</td>\n",
       "      <td>Report of Independent Registered Public Accoun...</td>\n",
       "      <td>NaN</td>\n",
       "      <td>NaN</td>\n",
       "    </tr>\n",
       "    <tr>\n",
       "      <th>3</th>\n",
       "      <td>0.0</td>\n",
       "      <td>1750.0</td>\n",
       "      <td>Report of Independent Registered Public Accoun...</td>\n",
       "      <td>NaN</td>\n",
       "      <td>NaN</td>\n",
       "    </tr>\n",
       "    <tr>\n",
       "      <th>4</th>\n",
       "      <td>0.0</td>\n",
       "      <td>1750.0</td>\n",
       "      <td>Report of Independent Registered Public Accoun...</td>\n",
       "      <td>NaN</td>\n",
       "      <td>NaN</td>\n",
       "    </tr>\n",
       "  </tbody>\n",
       "</table>\n",
       "</div>"
      ],
      "text/plain": [
       "   GOING_CONCERN  COMPANY_FKEY  \\\n",
       "0            0.0          20.0   \n",
       "1            0.0        1750.0   \n",
       "2            0.0        1750.0   \n",
       "3            0.0        1750.0   \n",
       "4            0.0        1750.0   \n",
       "\n",
       "                                       OPINION_TEXT1 OPINION_TEXT2  \\\n",
       "0  Report of Independent Registered Public Accoun...           NaN   \n",
       "1  Report of Independent Registered Public Accoun...           NaN   \n",
       "2  Report of Independent Registered Public Accoun...           NaN   \n",
       "3  Report of Independent Registered Public Accoun...           NaN   \n",
       "4  Report of Independent Registered Public Accoun...           NaN   \n",
       "\n",
       "   OPINION_TEXT3  \n",
       "0            NaN  \n",
       "1            NaN  \n",
       "2            NaN  \n",
       "3            NaN  \n",
       "4            NaN  "
      ]
     },
     "execution_count": 28,
     "metadata": {},
     "output_type": "execute_result"
    }
   ],
   "source": [
    "bank_data.head()"
   ]
  },
  {
   "cell_type": "code",
   "execution_count": 3,
   "metadata": {},
   "outputs": [
    {
     "name": "stdout",
     "output_type": "stream",
     "text": [
      "0.0    139699\n",
      "1.0     26915\n",
      "Name: GOING_CONCERN, dtype: int64\n",
      "Op1:  0\n",
      "Op2:  166602\n",
      "Op2:  166614\n"
     ]
    }
   ],
   "source": [
    "val_counts = bank_data['GOING_CONCERN'].value_counts()\n",
    "print(val_counts)\n",
    "\n",
    "op1_nulls = bank_data['OPINION_TEXT1'].isnull().sum() # 166617 items\n",
    "op2_nulls = bank_data['OPINION_TEXT2'].isnull().sum() # 15 items\n",
    "op3_nulls = bank_data['OPINION_TEXT3'].isnull().sum() # 3 items\n",
    "print('Op1: ', op1_nulls)\n",
    "print('Op2: ', op2_nulls)\n",
    "print('Op2: ', op3_nulls)\n"
   ]
  },
  {
   "attachments": {},
   "cell_type": "markdown",
   "metadata": {},
   "source": [
    "## Remove all entries that span more than one 'OPINION TEXT'"
   ]
  },
  {
   "cell_type": "code",
   "execution_count": 40,
   "metadata": {},
   "outputs": [
    {
     "name": "stdout",
     "output_type": "stream",
     "text": [
      "        COMPANY_FKEY  GOING_CONCERN  \\\n",
      "0               20.0            0.0   \n",
      "1             1750.0            0.0   \n",
      "2             1750.0            0.0   \n",
      "3             1750.0            0.0   \n",
      "4             1750.0            0.0   \n",
      "...              ...            ...   \n",
      "166612     1931055.0            0.0   \n",
      "166613     1931691.0            1.0   \n",
      "166614     1933359.0            1.0   \n",
      "166615     1934945.0            1.0   \n",
      "166616     1936214.0            0.0   \n",
      "\n",
      "                                            OPINION_TEXT1  \n",
      "0       Report of Independent Registered Public Accoun...  \n",
      "1       Report of Independent Registered Public Accoun...  \n",
      "2       Report of Independent Registered Public Accoun...  \n",
      "3       Report of Independent Registered Public Accoun...  \n",
      "4       Report of Independent Registered Public Accoun...  \n",
      "...                                                   ...  \n",
      "166612  Report of Independent Registered Public Accoun...  \n",
      "166613  REPORT OF INDEPENDENT REGISTERED PUBLIC ACCOUN...  \n",
      "166614  REPORT OF INDEPENDENT REGISTERED PUBLIC ACCOUN...  \n",
      "166615  REPORT OF INDEPENDENT REGISTERED PUBLIC ACCOUN...  \n",
      "166616  INDEPENDENT AUDITOR’S REPORT<p>To the Board of...  \n",
      "\n",
      "[166602 rows x 3 columns]\n"
     ]
    },
    {
     "data": {
      "text/html": [
       "<div>\n",
       "<style scoped>\n",
       "    .dataframe tbody tr th:only-of-type {\n",
       "        vertical-align: middle;\n",
       "    }\n",
       "\n",
       "    .dataframe tbody tr th {\n",
       "        vertical-align: top;\n",
       "    }\n",
       "\n",
       "    .dataframe thead th {\n",
       "        text-align: right;\n",
       "    }\n",
       "</style>\n",
       "<table border=\"1\" class=\"dataframe\">\n",
       "  <thead>\n",
       "    <tr style=\"text-align: right;\">\n",
       "      <th></th>\n",
       "      <th>COMPANY_FKEY</th>\n",
       "      <th>GOING_CONCERN</th>\n",
       "      <th>OPINION_TEXT1</th>\n",
       "    </tr>\n",
       "  </thead>\n",
       "  <tbody>\n",
       "    <tr>\n",
       "      <th>0</th>\n",
       "      <td>20.0</td>\n",
       "      <td>0.0</td>\n",
       "      <td>Report of Independent Registered Public Accoun...</td>\n",
       "    </tr>\n",
       "    <tr>\n",
       "      <th>1</th>\n",
       "      <td>1750.0</td>\n",
       "      <td>0.0</td>\n",
       "      <td>Report of Independent Registered Public Accoun...</td>\n",
       "    </tr>\n",
       "    <tr>\n",
       "      <th>2</th>\n",
       "      <td>1750.0</td>\n",
       "      <td>0.0</td>\n",
       "      <td>Report of Independent Registered Public Accoun...</td>\n",
       "    </tr>\n",
       "    <tr>\n",
       "      <th>3</th>\n",
       "      <td>1750.0</td>\n",
       "      <td>0.0</td>\n",
       "      <td>Report of Independent Registered Public Accoun...</td>\n",
       "    </tr>\n",
       "    <tr>\n",
       "      <th>4</th>\n",
       "      <td>1750.0</td>\n",
       "      <td>0.0</td>\n",
       "      <td>Report of Independent Registered Public Accoun...</td>\n",
       "    </tr>\n",
       "  </tbody>\n",
       "</table>\n",
       "</div>"
      ],
      "text/plain": [
       "   COMPANY_FKEY  GOING_CONCERN  \\\n",
       "0          20.0            0.0   \n",
       "1        1750.0            0.0   \n",
       "2        1750.0            0.0   \n",
       "3        1750.0            0.0   \n",
       "4        1750.0            0.0   \n",
       "\n",
       "                                       OPINION_TEXT1  \n",
       "0  Report of Independent Registered Public Accoun...  \n",
       "1  Report of Independent Registered Public Accoun...  \n",
       "2  Report of Independent Registered Public Accoun...  \n",
       "3  Report of Independent Registered Public Accoun...  \n",
       "4  Report of Independent Registered Public Accoun...  "
      ]
     },
     "execution_count": 40,
     "metadata": {},
     "output_type": "execute_result"
    }
   ],
   "source": [
    "# get rid of all values with op2 \n",
    "df_filtered = bank_data[bank_data['OPINION_TEXT2'].isnull()]\n",
    "df_filtered = df_filtered[['COMPANY_FKEY','GOING_CONCERN','OPINION_TEXT1']]\n",
    "\n",
    "print(df_filtered)\n",
    "df_filtered.head()"
   ]
  },
  {
   "cell_type": "code",
   "execution_count": 48,
   "metadata": {},
   "outputs": [
    {
     "ename": "NameError",
     "evalue": "name 'df_filtered' is not defined",
     "output_type": "error",
     "traceback": [
      "\u001b[0;31m---------------------------------------------------------------------------\u001b[0m",
      "\u001b[0;31mNameError\u001b[0m                                 Traceback (most recent call last)",
      "\u001b[0;32m/var/folders/bz/vm79k19966x72r5s425vw7zm0000gp/T/ipykernel_16592/692784165.py\u001b[0m in \u001b[0;36m<module>\u001b[0;34m\u001b[0m\n\u001b[0;32m----> 1\u001b[0;31m \u001b[0mop1_nulls\u001b[0m \u001b[0;34m=\u001b[0m \u001b[0mdf_filtered\u001b[0m\u001b[0;34m[\u001b[0m\u001b[0;34m'OPINION_TEXT1'\u001b[0m\u001b[0;34m]\u001b[0m\u001b[0;34m.\u001b[0m\u001b[0mcount\u001b[0m\u001b[0;34m(\u001b[0m\u001b[0;34m)\u001b[0m \u001b[0;31m# 166617 items\u001b[0m\u001b[0;34m\u001b[0m\u001b[0;34m\u001b[0m\u001b[0m\n\u001b[0m\u001b[1;32m      2\u001b[0m \u001b[0mprint\u001b[0m\u001b[0;34m(\u001b[0m\u001b[0mop1_nulls\u001b[0m\u001b[0;34m)\u001b[0m\u001b[0;34m\u001b[0m\u001b[0;34m\u001b[0m\u001b[0m\n",
      "\u001b[0;31mNameError\u001b[0m: name 'df_filtered' is not defined"
     ]
    }
   ],
   "source": [
    "op1_nulls = df_filtered['OPINION_TEXT1'].count() # 166617 items\n",
    "print(op1_nulls)"
   ]
  },
  {
   "cell_type": "code",
   "execution_count": 3,
   "metadata": {},
   "outputs": [
    {
     "ename": "NameError",
     "evalue": "name 'df_filtered' is not defined",
     "output_type": "error",
     "traceback": [
      "\u001b[0;31m---------------------------------------------------------------------------\u001b[0m",
      "\u001b[0;31mNameError\u001b[0m                                 Traceback (most recent call last)",
      "\u001b[0;32m/var/folders/bz/vm79k19966x72r5s425vw7zm0000gp/T/ipykernel_2920/3258321382.py\u001b[0m in \u001b[0;36m<module>\u001b[0;34m\u001b[0m\n\u001b[1;32m      1\u001b[0m \u001b[0;31m# save modified to csv\u001b[0m\u001b[0;34m\u001b[0m\u001b[0;34m\u001b[0m\u001b[0m\n\u001b[0;32m----> 2\u001b[0;31m \u001b[0mdf_filtered\u001b[0m\u001b[0;34m.\u001b[0m\u001b[0mto_csv\u001b[0m\u001b[0;34m(\u001b[0m\u001b[0;34m'./data/going_concerns.csv'\u001b[0m\u001b[0;34m)\u001b[0m\u001b[0;34m\u001b[0m\u001b[0;34m\u001b[0m\u001b[0m\n\u001b[0m",
      "\u001b[0;31mNameError\u001b[0m: name 'df_filtered' is not defined"
     ]
    }
   ],
   "source": [
    "# save modified to csv\n",
    "df_filtered.to_csv('./data/going_concerns.csv')"
   ]
  },
  {
   "cell_type": "code",
   "execution_count": 43,
   "metadata": {},
   "outputs": [],
   "source": [
    "neg, pos = np.bincount(df_filtered['GOING_CONCERN'])"
   ]
  },
  {
   "cell_type": "code",
   "execution_count": 44,
   "metadata": {},
   "outputs": [
    {
     "name": "stdout",
     "output_type": "stream",
     "text": [
      "neg:  139687\n",
      "pos:  26915\n"
     ]
    }
   ],
   "source": [
    "print('neg: ', neg)\n",
    "print('pos: ', pos)"
   ]
  },
  {
   "attachments": {},
   "cell_type": "markdown",
   "metadata": {},
   "source": [
    "## Label Explanation\n",
    "0=no 1=yes\t\n",
    "Indicates the auditor's opinion contains an explanatory paragraph regarding the going concern assumption.\n",
    "\n",
    "Auditors include an explanitory paragraph when they conclude there is substantial doubt in a company as a 'going concern.'"
   ]
  },
  {
   "cell_type": "code",
   "execution_count": 60,
   "metadata": {},
   "outputs": [
    {
     "name": "stderr",
     "output_type": "stream",
     "text": [
      "[nltk_data] Downloading package stopwords to\n",
      "[nltk_data]     /Users/evanaholevas/nltk_data...\n",
      "[nltk_data]   Package stopwords is already up-to-date!\n"
     ]
    }
   ],
   "source": [
    "import os\n",
    "import random\n",
    "import shutil\n",
    "\n",
    "import pandas as pd\n",
    "\n",
    "import tensorflow as tf\n",
    "from tensorflow.keras.preprocessing.text import Tokenizer\n",
    "from tensorflow.keras.preprocessing.sequence import pad_sequences\n",
    "\n",
    "# Load data from CSV file\n",
    "data = pd.read_csv('data/going_concerns.csv')\n",
    "\n",
    "# Shuffle data\n",
    "data = data.sample(frac=1, random_state=42).reset_index(drop=True)\n",
    "\n",
    "# Split data into training and testing sets\n",
    "train_ratio = 0.85\n",
    "test_ratio = 0.15\n",
    "\n",
    "num_samples = len(data)\n",
    "train_cutoff = int(num_samples * train_ratio)\n",
    "# test_cutoff = int((num_samples * test_ratio))\n",
    "\n",
    "train_data = data.iloc[:train_cutoff]\n",
    "test_data = data.iloc[train_cutoff:]\n",
    "# val_data = data.iloc[test_cutoff:]\n",
    "\n",
    "# Create output directories if they don't exist\n",
    "output_dir = './data/going_concern_reports'\n",
    "if not os.path.exists(output_dir):\n",
    "    os.makedirs(output_dir)\n",
    "\n",
    "train_dir = os.path.join(output_dir, 'train')\n",
    "if not os.path.exists(train_dir):\n",
    "    os.makedirs(train_dir)\n",
    "\n",
    "test_dir = os.path.join(output_dir, 'test')\n",
    "if not os.path.exists(test_dir):\n",
    "    os.makedirs(test_dir)\n",
    "\n",
    "# val_dir = os.path.join(output_dir, 'val')\n",
    "# if not os.path.exists(val_dir):\n",
    "#     os.makedirs(val_dir)\n",
    "\n",
    "# Convert data to the required directory structure\n",
    "def convert_data(data, dirname):\n",
    "    for label in [0, 1]:\n",
    "        label_data = data[data['GOING_CONCERN'] == label]\n",
    "        label_dir = os.path.join(dirname, str(label))\n",
    "        # create directory for label if it doesn't exist\n",
    "        if not os.path.exists(label_dir):\n",
    "            os.makedirs(label_dir)\n",
    "        \n",
    "        \n",
    "        # create a new text file for each report titled by company id + index\n",
    "        for idx, row in label_data.iterrows():\n",
    "            filename = f\"{row['COMPANY_FKEY']}_{idx}.txt\"\n",
    "            filepath = os.path.join(label_dir, filename)\n",
    "\n",
    "            with open(filepath, 'w', encoding='utf-8') as f:\n",
    "                f.write(row['OPINION_TEXT1'])\n",
    "\n",
    "convert_data(train_data, train_dir)\n",
    "convert_data(test_data, test_dir)\n",
    "# convert_data(val_data, val_dir)\n"
   ]
  },
  {
   "cell_type": "code",
   "execution_count": 36,
   "metadata": {},
   "outputs": [
    {
     "name": "stdout",
     "output_type": "stream",
     "text": [
      "train:  141611\n",
      "test:  24991\n"
     ]
    }
   ],
   "source": [
    "len(data)\n",
    "print(\"train: \", len(train_data))\n",
    "print(\"test: \", len(test_data))"
   ]
  },
  {
   "attachments": {},
   "cell_type": "markdown",
   "metadata": {},
   "source": [
    "## Set testing, training, and validation data"
   ]
  },
  {
   "cell_type": "code",
   "execution_count": 3,
   "metadata": {},
   "outputs": [
    {
     "name": "stdout",
     "output_type": "stream",
     "text": [
      "Train count: 141611\n",
      "test count: 24992\n"
     ]
    }
   ],
   "source": [
    "import os\n",
    "from sklearn.metrics import accuracy_score\n",
    "\n",
    "# folder path\n",
    "dir_path2 = 'data/going_concern_reports/train'\n",
    "count2 = 0\n",
    "for root_dir, cur_dir, files in os.walk(dir_path2):\n",
    "    count2 += len(files)\n",
    "print('Train count:', count2)\n",
    "\n",
    "# folder path\n",
    "dir_path = 'data/going_concern_reports/test'\n",
    "count = 0\n",
    "for root_dir, cur_dir, files in os.walk(dir_path):\n",
    "    count += len(files)\n",
    "print('test count:', count)"
   ]
  },
  {
   "cell_type": "code",
   "execution_count": 23,
   "metadata": {},
   "outputs": [
    {
     "name": "stdout",
     "output_type": "stream",
     "text": [
      "Found 141611 files belonging to 2 classes.\n",
      "Using 117538 files for training.\n"
     ]
    }
   ],
   "source": [
    "import tensorflow as tf\n",
    "\n",
    "# create validation set\n",
    "batch_size = 32\n",
    "seed = 43\n",
    "\n",
    "raw_train_ds = tf.keras.utils.text_dataset_from_directory(\n",
    "    'data/going_concern_reports/train', \n",
    "    batch_size=batch_size, \n",
    "    validation_split=0.17, \n",
    "    subset='training', \n",
    "    seed=seed)"
   ]
  },
  {
   "cell_type": "code",
   "execution_count": 5,
   "metadata": {},
   "outputs": [
    {
     "name": "stdout",
     "output_type": "stream",
     "text": [
      "Review b'REPORT OF INDEPENDENT REGISTERED PUBLIC ACCOUNTING FIRM        To the Board of Directors and Shareholders of  China Soar Information Technology, Inc.     Opinion on the Financial Statements     We have audited the accompanying consolidated balance sheets of China Soar Information Technology, Inc. (the Company) as of July 31, 2018 and 2017, and the related consolidated statements of operations and comprehensive loss, changes in stockholders\\xe2\\x80\\x99 deficit, and cash flows for each of the years in the two-year period ended July 31, 2018, and the related notes (collectively referred to as the consolidated financial statements). In our opinion, the consolidated financial statements present fairly, in all material respects, the financial position of the Company as of July 31, 2018 and 2017, and the results of its operations and its cash flows for each of the years in the two-year period ended July 31, 2018, in conformity with accounting principles generally accepted in the United States of America.     Going Concern     The accompanying consolidated financial statements have been prepared assuming that the Company will continue as a going concern. As discussed in Note 3 to the consolidated financial statements, the Company\\xe2\\x80\\x99s losses from development activities raise substantial doubt about its ability to continue as a going concern. Management\\xe2\\x80\\x99s plans in regard to these matters are also described in Note 3. The consolidated financial statements do not include any adjustments that might result from the outcome of this uncertainty.     Basis for Opinion     These consolidated financial statements are the responsibility of the Company\\xe2\\x80\\x99s management. Our responsibility is to express an opinion on the Company\\xe2\\x80\\x99s consolidated financial statements based on our audits. We are a public accounting firm registered with the Public Company Accounting Oversight Board (United States) (PCAOB) and are required to be independent with respect to the Company in accordance with the U.S. federal securities laws and the applicable rules and regulations of the Securities and Exchange Commission and the PCAOB.     We conducted our audits in accordance with the standards of the PCAOB. Those standards require that we plan and perform the audit to obtain reasonable assurance about whether the consolidated financial statements are free of material misstatement, whether due to error or fraud. The Company is not required to have, nor were we engaged to perform, an audit of its internal control over financial reporting. As part of our audits, we are required to obtain an understanding of internal control over financial reporting, but not for the purpose of expressing an opinion on the effectiveness of the Company\\xe2\\x80\\x99s internal control over financial reporting. Accordingly, we express no such opinion.     Our audits included performing procedures to assess the risks of material misstatement of the consolidated financial statements, whether due to error or fraud, and performing procedures that respond to those risks. Such procedures included examining, on a test basis, evidence regarding the amounts and disclosures in the consolidated financial statements. Our audits also included evaluating the accounting principles used and significant estimates made by management, as well as evaluating the overall presentation of the consolidated financial statements. We believe that our audits provide a reasonable basis for our opinion.        /s/ Morison Cogen LLP     We have served as the Company\\xe2\\x80\\x99s auditor since 2017.     Blue Bell, Pennsylvania  November 14, 2018'\n",
      "Label 1\n",
      "Review b'Report of Independent              Registered Public Accounting Firm  The Sponsor, First Trust Portfolios L.P., and Unit Holders  FT 3752<p>  We have audited the accompanying statement of net assets, including the  schedule of investments, of FT 3752, comprising Senior Loan & Limited  Duration Plus Closed-End Portfolio, Series 64 (the \"Trust\"), as of the  opening of business on September 19, 2012 (Initial Date of Deposit).  This statement of net assets is the responsibility of the Trust\\'s  Sponsor. Our responsibility is to express an opinion on this statement  of net assets based on our audit.<p>We conducted our audit in accordance with the standards of the Public  Company Accounting Oversight Board (United States). Those standards  require that we plan and perform the audit to obtain reasonable  assurance about whether the statement of net assets is free of material  misstatement. The Trust is not required to have, nor were we engaged to  perform, an audit of the Trust\\'s internal control over financial  reporting. Our audit included consideration of internal control over  financial reporting as a basis for designing audit procedures that are  appropriate in the circumstances, but not for the purpose of expressing  an opinion on the effectiveness of the Trust\\'s internal control over  financial reporting. Accordingly, we express no such opinion. An audit  also includes examining, on a test basis, evidence supporting the  amounts and disclosures in the statement of net assets, assessing the  accounting principles used and significant estimates made by the Trust\\'s  Sponsor, as well as evaluating the overall presentation of the statement  of net assets. Our procedures included confirmation of the irrevocable  letter of credit held by The Bank of New York Mellon, the Trustee, and  deposited in the Trust for the purchase of Securities, as shown in the  statement of net assets, as of the opening of business on September 19,  2012, by correspondence with the Trustee. We believe that our audit  provides a reasonable basis for our opinion.<p>In our opinion, the statement of net assets referred to above presents  fairly, in all material respects, the financial position of FT 3752,  comprising Senior Loan & Limited Duration Plus Closed-End Portfolio,  Series 64, as of the opening of business on September 19, 2012 (Initial  Date of Deposit), in conformity with accounting principles generally  accepted in the United States of America.<p>  /s/ DELOITTE & TOUCHE LLP  Chicago, Illinois  September 19, 2012'\n",
      "Label 0\n",
      "Review b'REPORT OF INDEPENDENT REGISTERED PUBLIC ACCOUNTING FIRM     To the Board of Directors & Stockholders\\xe2\\x80\\x99  Chee Corp.      Opinion on the Financial Statements  We have audited the accompanying balance sheets of Chee Corp. as of January 31, 2020 and 2019 and the related statements of operations, changes in stockholder\\xe2\\x80\\x99s equity, cash flows, and the related notes (collectively referred to as \\xe2\\x80\\x9cfinancial statements\\xe2\\x80\\x9d) for the fiscal years then ended. In our opinion, the financial statements present fairly, in all material respects, the financial position of the Company as of January 31, 2020 and 2019 and the results of its operations and its cash flows for the periods then ended, in conformity with accounting principles generally accepted in the United States of America.     Going Concern  The accompanying financial statements have been prepared assuming the Company will continue as a going concern. As discussed in Note #2 to the financial statements, although the Company has limited operations it has yet to attain profitability. This raises substantial doubt about its ability to continue as a going concern. Management\\xe2\\x80\\x99s plan in regard to these matters is also described in Note #2. The financial statements do not include any adjustments that might result from the outcome of this uncertainty.     Basis for Opinion  These financial statements are the responsibility of the Company\\xe2\\x80\\x99s management. Our responsibility is to express an opinion on the Company\\xe2\\x80\\x99s financial statements based on our audit. We are a public accounting firm registered with the Public Company Accounting Oversight Board (United States) (PCAOB) and are required to be independent with respect to the Company in accordance with the U.S. federal securities laws and the applicable rules and regulations of the Securities and Exchange Commission and the PCAOB.  We conducted our audits in accordance with the standards of the PCAOB. Those standards require that we plan and perform the audit to obtain reasonable assurance about whether the financial statements are free of material misstatement, whether due to error or fraud. The Company is not required to have, nor were we engaged to perform, an audit of its internal control over financial reporting. As part of our audit, we are required to obtain an understanding of internal control over financial reporting, but not for the purpose of expressing an opinion on the effectiveness of the Company\\xe2\\x80\\x99s internal control over financial reporting. Accordingly, we express no such opinion.  Our audit included performing procedures to assess the risks of material misstatement of the financial statements, whether due to error or fraud, and performing procedures that respond to those risks. Such procedures included examining, on a test basis, evidence regarding the amounts and disclosures in the financial statements. Our audit also included evaluating the accounting principles used and significant estimates made by management, as well as evaluating the overall presentation of the financial statements. We believe that our audit provide a reasonable basis for our opinion.     /S/ MICHAEL GILLESPIE & ASSOCIATES, PLLC  We have served as the Company\\xe2\\x80\\x99s auditor since 2018.     Seattle, Washington  April 21, 2020'\n",
      "Label 1\n"
     ]
    }
   ],
   "source": [
    "for text_batch, label_batch in raw_train_ds.take(1):\n",
    "  for i in range(3):\n",
    "    print(\"Review\", text_batch.numpy()[i])\n",
    "    print(\"Label\", label_batch.numpy()[i])"
   ]
  },
  {
   "cell_type": "code",
   "execution_count": 6,
   "metadata": {},
   "outputs": [
    {
     "name": "stdout",
     "output_type": "stream",
     "text": [
      "Found 141611 files belonging to 2 classes.\n",
      "Using 24073 files for validation.\n"
     ]
    }
   ],
   "source": [
    "raw_val_ds = tf.keras.utils.text_dataset_from_directory(\n",
    "    'data/going_concern_reports/train', \n",
    "    batch_size=batch_size, \n",
    "    validation_split=0.17,\n",
    "    subset='validation', \n",
    "    seed=seed)"
   ]
  },
  {
   "cell_type": "code",
   "execution_count": 7,
   "metadata": {},
   "outputs": [
    {
     "name": "stdout",
     "output_type": "stream",
     "text": [
      "Found 24991 files belonging to 2 classes.\n"
     ]
    }
   ],
   "source": [
    "raw_test_ds = tf.keras.utils.text_dataset_from_directory(\n",
    "    'data/going_concern_reports/test', \n",
    "    batch_size=batch_size)"
   ]
  },
  {
   "attachments": {},
   "cell_type": "markdown",
   "metadata": {},
   "source": [
    "## Preprocess and clean text\n",
    "Standardize, vectorize, and remove HTML elements."
   ]
  },
  {
   "cell_type": "code",
   "execution_count": 8,
   "metadata": {},
   "outputs": [],
   "source": [
    "import string \n",
    "import regex as re\n",
    "\n",
    "# remove HTML tags from the text, remove punctuation, and convert to lowercase\n",
    "def custom_standardization(input_data):\n",
    "  lowercase = tf.strings.lower(input_data)\n",
    "  stripped_html = tf.strings.regex_replace(lowercase, '<p>', ' ')\n",
    "  return tf.strings.regex_replace(stripped_html,\n",
    "                                  '[%s]' % re.escape(string.punctuation),\n",
    "                                  '')"
   ]
  },
  {
   "cell_type": "code",
   "execution_count": 9,
   "metadata": {},
   "outputs": [],
   "source": [
    "max_features = 10000\n",
    "sequence_length = 250\n",
    "\n",
    "vectorize_layer = tf.keras.layers.TextVectorization(\n",
    "    standardize=custom_standardization,\n",
    "    max_tokens=max_features,\n",
    "    output_mode='int',\n",
    "    output_sequence_length=sequence_length)"
   ]
  },
  {
   "cell_type": "code",
   "execution_count": 10,
   "metadata": {},
   "outputs": [
    {
     "name": "stdout",
     "output_type": "stream",
     "text": [
      "WARNING:tensorflow:From /opt/anaconda3/lib/python3.9/site-packages/tensorflow/python/autograph/pyct/static_analysis/liveness.py:83: Analyzer.lamba_check (from tensorflow.python.autograph.pyct.static_analysis.liveness) is deprecated and will be removed after 2023-09-23.\n",
      "Instructions for updating:\n",
      "Lambda fuctions will be no more assumed to be used in the statement where they are used, or at least in the same block. https://github.com/tensorflow/tensorflow/issues/56089\n"
     ]
    }
   ],
   "source": [
    "# convert text to numbers without labels, then adapt to the data\n",
    "train_text = raw_train_ds.map(lambda x, y: x)\n",
    "vectorize_layer.adapt(train_text)"
   ]
  },
  {
   "cell_type": "code",
   "execution_count": 13,
   "metadata": {},
   "outputs": [],
   "source": [
    "# preview the preprocessed data\n",
    "def vectorize_text(text, label):\n",
    "  text = tf.expand_dims(text, -1)\n",
    "  return vectorize_layer(text), label"
   ]
  },
  {
   "cell_type": "code",
   "execution_count": 12,
   "metadata": {},
   "outputs": [
    {
     "name": "stdout",
     "output_type": "stream",
     "text": [
      "Review tf.Tensor(b'REPORT OF INDEPENDENT REGISTERED PUBLIC ACCOUNTING FIRM  To the Board of Directors and Stockholders of Technis, Inc.<p><p><p>I have audited the accompanying balance sheet of Technis, Inc. (the \\xe2\\x80\\x9cCompany\\xe2\\x80\\x9d), a development stage company, as of November 30, 2010 and the related statements of operations, stockholders\\xe2\\x80\\x99 equity, and cash flows for the period from September 15, 2010 (inception) to November 30, 2010. These financial statements are the responsibility of the Company\\xe2\\x80\\x99s management.  My responsibility is to express an opinion on these financial statements based on my audit.<p><p>  I conducted my audit in accordance with the standards of the Public Company Accounting Oversight Board (United States). Those standards require that I plan and perform the audit to obtain reasonable assurance about whether the financial statements are free of material misstatement.  An audit includes examining, on a test basis, evidence supporting the amounts and disclosures in the financial statements.  An audit also includes assessing the accounting principles used and significant estimates made by management, as well as evaluating the overall financial statement presentation.  I believe that my audit provides a reasonable basis for my opinion.<p><p>  In my opinion, the financial statements referred to above present fairly, in all material respects, the financial position of Technis, Inc., a development stage company, as of November 30, 2010 and the results of its operations and cash flows for the period from September 15, 2010 (inception) to November 30, 2010 in conformity with accounting principles generally accepted in the United States.<p><p>  The accompanying financial statements referred to above have been prepared assuming that the Company will continue as a going concern. As discussed in Note 2 to the financial statements, the Company\\xe2\\x80\\x99s present financial condition raises substantial doubt about its ability to continue as a going concern. Management\\xe2\\x80\\x99s plans in regard to this matter are also described in Note 2. The financial statements do not include any adjustments that might result from the outcome of this uncertainty.   <p>   <p>                  /s/ MICHAEL T. STUDER CPA  P.C.               Michael T. Studer CPA P.C.  Freeport, New York  August 16, 2011', shape=(), dtype=string)\n",
      "Label 1\n"
     ]
    },
    {
     "ename": "NameError",
     "evalue": "name 'vectorize_text' is not defined",
     "output_type": "error",
     "traceback": [
      "\u001b[0;31m---------------------------------------------------------------------------\u001b[0m",
      "\u001b[0;31mNameError\u001b[0m                                 Traceback (most recent call last)",
      "\u001b[0;32m/var/folders/bz/vm79k19966x72r5s425vw7zm0000gp/T/ipykernel_15158/1727397326.py\u001b[0m in \u001b[0;36m<module>\u001b[0;34m\u001b[0m\n\u001b[1;32m      4\u001b[0m \u001b[0mprint\u001b[0m\u001b[0;34m(\u001b[0m\u001b[0;34m\"Review\"\u001b[0m\u001b[0;34m,\u001b[0m \u001b[0mfirst_review\u001b[0m\u001b[0;34m)\u001b[0m\u001b[0;34m\u001b[0m\u001b[0;34m\u001b[0m\u001b[0m\n\u001b[1;32m      5\u001b[0m \u001b[0mprint\u001b[0m\u001b[0;34m(\u001b[0m\u001b[0;34m\"Label\"\u001b[0m\u001b[0;34m,\u001b[0m \u001b[0mraw_train_ds\u001b[0m\u001b[0;34m.\u001b[0m\u001b[0mclass_names\u001b[0m\u001b[0;34m[\u001b[0m\u001b[0mfirst_label\u001b[0m\u001b[0;34m]\u001b[0m\u001b[0;34m)\u001b[0m\u001b[0;34m\u001b[0m\u001b[0;34m\u001b[0m\u001b[0m\n\u001b[0;32m----> 6\u001b[0;31m \u001b[0mprint\u001b[0m\u001b[0;34m(\u001b[0m\u001b[0;34m\"Vectorized review\"\u001b[0m\u001b[0;34m,\u001b[0m \u001b[0mvectorize_text\u001b[0m\u001b[0;34m(\u001b[0m\u001b[0mfirst_review\u001b[0m\u001b[0;34m,\u001b[0m \u001b[0mfirst_label\u001b[0m\u001b[0;34m)\u001b[0m\u001b[0;34m)\u001b[0m\u001b[0;34m\u001b[0m\u001b[0;34m\u001b[0m\u001b[0m\n\u001b[0m",
      "\u001b[0;31mNameError\u001b[0m: name 'vectorize_text' is not defined"
     ]
    }
   ],
   "source": [
    "# retrieve a batch of 32 going concern reports and labels from the dataset\n",
    "text_batch, label_batch = next(iter(raw_train_ds))\n",
    "first_review, first_label = text_batch[0], label_batch[0]\n",
    "print(\"Review\", first_review)\n",
    "print(\"Label\", raw_train_ds.class_names[first_label])\n",
    "print(\"Vectorized review\", vectorize_text(first_review, first_label))"
   ]
  },
  {
   "cell_type": "code",
   "execution_count": 16,
   "metadata": {},
   "outputs": [
    {
     "name": "stdout",
     "output_type": "stream",
     "text": [
      "1287 --->  of\n",
      " 313 --->  the\n",
      "Vocabulary size: 10000\n"
     ]
    }
   ],
   "source": [
    "print(\"1287 ---> \",vectorize_layer.get_vocabulary()[3])\n",
    "print(\" 313 ---> \",vectorize_layer.get_vocabulary()[2])\n",
    "print('Vocabulary size: {}'.format(len(vectorize_layer.get_vocabulary())))"
   ]
  },
  {
   "cell_type": "code",
   "execution_count": 14,
   "metadata": {},
   "outputs": [],
   "source": [
    "# apply text vectorization layer\n",
    "\n",
    "train_ds = raw_train_ds.map(vectorize_text)\n",
    "val_ds = raw_val_ds.map(vectorize_text)\n",
    "test_ds = raw_test_ds.map(vectorize_text)"
   ]
  },
  {
   "cell_type": "code",
   "execution_count": 15,
   "metadata": {},
   "outputs": [],
   "source": [
    "AUTOTUNE = tf.data.AUTOTUNE\n",
    "\n",
    "train_ds = train_ds.cache().prefetch(buffer_size=AUTOTUNE)\n",
    "val_ds = val_ds.cache().prefetch(buffer_size=AUTOTUNE)\n",
    "test_ds = test_ds.cache().prefetch(buffer_size=AUTOTUNE)"
   ]
  },
  {
   "attachments": {},
   "cell_type": "markdown",
   "metadata": {},
   "source": [
    "## Create Neural Network\n",
    "Text Classification"
   ]
  },
  {
   "cell_type": "code",
   "execution_count": 32,
   "metadata": {},
   "outputs": [],
   "source": [
    "embedding_dim = 16"
   ]
  },
  {
   "cell_type": "code",
   "execution_count": 33,
   "metadata": {},
   "outputs": [
    {
     "name": "stdout",
     "output_type": "stream",
     "text": [
      "Model: \"sequential_4\"\n",
      "_________________________________________________________________\n",
      " Layer (type)                Output Shape              Param #   \n",
      "=================================================================\n",
      " embedding_5 (Embedding)     (None, None, 16)          160016    \n",
      "                                                                 \n",
      " dropout_10 (Dropout)        (None, None, 16)          0         \n",
      "                                                                 \n",
      " global_average_pooling1d_5   (None, 16)               0         \n",
      " (GlobalAveragePooling1D)                                        \n",
      "                                                                 \n",
      " dropout_11 (Dropout)        (None, 16)                0         \n",
      "                                                                 \n",
      " dense_5 (Dense)             (None, 1)                 17        \n",
      "                                                                 \n",
      "=================================================================\n",
      "Total params: 160,033\n",
      "Trainable params: 160,033\n",
      "Non-trainable params: 0\n",
      "_________________________________________________________________\n"
     ]
    }
   ],
   "source": [
    "# define the model\n",
    "model = tf.keras.Sequential([\n",
    "  tf.keras.layers.Embedding(max_features + 1, embedding_dim),\n",
    "  tf.keras.layers.Dropout(0.2),\n",
    "  tf.keras.layers.GlobalAveragePooling1D(),\n",
    "  tf.keras.layers.Dropout(0.2),\n",
    "  tf.keras.layers.Dense(1)])\n",
    "\n",
    "model.summary()"
   ]
  },
  {
   "cell_type": "code",
   "execution_count": 34,
   "metadata": {},
   "outputs": [],
   "source": [
    "# binary cross entropy loss function for binary classification of text\n",
    "model.compile(loss=tf.keras.losses.BinaryCrossentropy(from_logits=True),\n",
    "              optimizer='adam',\n",
    "              metrics=tf.metrics.BinaryAccuracy(threshold=0.5))"
   ]
  },
  {
   "cell_type": "code",
   "execution_count": 35,
   "metadata": {},
   "outputs": [
    {
     "name": "stdout",
     "output_type": "stream",
     "text": [
      "Epoch 1/10\n",
      "3674/3674 [==============================] - 20s 5ms/step - loss: 0.2284 - binary_accuracy: 0.8960 - val_loss: 0.1419 - val_binary_accuracy: 0.9388\n",
      "Epoch 2/10\n",
      "3674/3674 [==============================] - 18s 5ms/step - loss: 0.1318 - binary_accuracy: 0.9433 - val_loss: 0.1222 - val_binary_accuracy: 0.9510\n",
      "Epoch 3/10\n",
      "3674/3674 [==============================] - 18s 5ms/step - loss: 0.1187 - binary_accuracy: 0.9509 - val_loss: 0.1147 - val_binary_accuracy: 0.9548\n",
      "Epoch 4/10\n",
      "3674/3674 [==============================] - 18s 5ms/step - loss: 0.1126 - binary_accuracy: 0.9546 - val_loss: 0.1108 - val_binary_accuracy: 0.9568\n",
      "Epoch 5/10\n",
      "3674/3674 [==============================] - 18s 5ms/step - loss: 0.1087 - binary_accuracy: 0.9560 - val_loss: 0.1085 - val_binary_accuracy: 0.9583\n",
      "Epoch 6/10\n",
      "3674/3674 [==============================] - 18s 5ms/step - loss: 0.1052 - binary_accuracy: 0.9577 - val_loss: 0.1067 - val_binary_accuracy: 0.9597\n",
      "Epoch 7/10\n",
      "3674/3674 [==============================] - 19s 5ms/step - loss: 0.1035 - binary_accuracy: 0.9582 - val_loss: 0.1055 - val_binary_accuracy: 0.9601\n",
      "Epoch 8/10\n",
      "3674/3674 [==============================] - 19s 5ms/step - loss: 0.1012 - binary_accuracy: 0.9591 - val_loss: 0.1041 - val_binary_accuracy: 0.9610\n",
      "Epoch 9/10\n",
      "3674/3674 [==============================] - 19s 5ms/step - loss: 0.0998 - binary_accuracy: 0.9596 - val_loss: 0.1034 - val_binary_accuracy: 0.9614\n",
      "Epoch 10/10\n",
      "3674/3674 [==============================] - 19s 5ms/step - loss: 0.0981 - binary_accuracy: 0.9606 - val_loss: 0.1025 - val_binary_accuracy: 0.9616\n"
     ]
    }
   ],
   "source": [
    "# train the model\n",
    "epochs = 10\n",
    "history = model.fit(\n",
    "    train_ds,\n",
    "    validation_data=val_ds,\n",
    "    epochs=epochs)"
   ]
  },
  {
   "attachments": {},
   "cell_type": "markdown",
   "metadata": {},
   "source": [
    "## Evaluate the Model"
   ]
  },
  {
   "cell_type": "code",
   "execution_count": 36,
   "metadata": {},
   "outputs": [
    {
     "name": "stdout",
     "output_type": "stream",
     "text": [
      "781/781 [==============================] - 3s 4ms/step - loss: 0.1050 - binary_accuracy: 0.9566\n",
      "Loss:  0.10498160123825073\n",
      "Accuracy:  0.9565843939781189\n"
     ]
    }
   ],
   "source": [
    "loss, accuracy = model.evaluate(test_ds)\n",
    "\n",
    "print(\"Loss: \", loss)\n",
    "print(\"Accuracy: \", accuracy)"
   ]
  },
  {
   "attachments": {},
   "cell_type": "markdown",
   "metadata": {},
   "source": [
    "## Plot accuracy and loss over time"
   ]
  },
  {
   "cell_type": "code",
   "execution_count": 37,
   "metadata": {},
   "outputs": [
    {
     "data": {
      "text/plain": [
       "dict_keys(['loss', 'binary_accuracy', 'val_loss', 'val_binary_accuracy'])"
      ]
     },
     "execution_count": 37,
     "metadata": {},
     "output_type": "execute_result"
    }
   ],
   "source": [
    "history_dict = history.history\n",
    "history_dict.keys()"
   ]
  },
  {
   "cell_type": "code",
   "execution_count": 38,
   "metadata": {},
   "outputs": [
    {
     "data": {
      "image/png": "[encoded data removed]",
      "text/plain": [
       "<Figure size 432x288 with 1 Axes>"
      ]
     },
     "metadata": {
      "needs_background": "light"
     },
     "output_type": "display_data"
    }
   ],
   "source": [
    "import matplotlib.pyplot as plt\n",
    "\n",
    "acc = history_dict['binary_accuracy']\n",
    "val_acc = history_dict['val_binary_accuracy']\n",
    "loss = history_dict['loss']\n",
    "val_loss = history_dict['val_loss']\n",
    "\n",
    "epochs = range(1, len(acc) + 1)\n",
    "\n",
    "# \"bo\" is for \"blue dot\"\n",
    "plt.plot(epochs, loss, 'bo', label='Training loss')\n",
    "# b is for \"solid blue line\"\n",
    "plt.plot(epochs, val_loss, 'b', label='Validation loss')\n",
    "plt.title('Training and validation loss')\n",
    "plt.xlabel('Epochs')\n",
    "plt.ylabel('Loss')\n",
    "plt.legend()\n",
    "\n",
    "plt.show()"
   ]
  },
  {
   "cell_type": "code",
   "execution_count": 39,
   "metadata": {},
   "outputs": [
    {
     "data": {
      "image/png": "[encoded data removed]",
      "text/plain": [
       "<Figure size 432x288 with 1 Axes>"
      ]
     },
     "metadata": {
      "needs_background": "light"
     },
     "output_type": "display_data"
    }
   ],
   "source": [
    "plt.plot(epochs, acc, 'bo', label='Training acc')\n",
    "plt.plot(epochs, val_acc, 'b', label='Validation acc')\n",
    "plt.title('Training and validation accuracy')\n",
    "plt.xlabel('Epochs')\n",
    "plt.ylabel('Accuracy')\n",
    "plt.legend(loc='lower right')\n",
    "\n",
    "plt.show()"
   ]
  },
  {
   "attachments": {},
   "cell_type": "markdown",
   "metadata": {},
   "source": [
    "## Export Model\n",
    "Include text vectorization inside of the model as a layer"
   ]
  },
  {
   "cell_type": "code",
   "execution_count": 40,
   "metadata": {},
   "outputs": [
    {
     "name": "stderr",
     "output_type": "stream",
     "text": [
      "WARNING:absl:Found untraced functions such as _update_step_xla, _update_step_xla while saving (showing 2 of 2). These functions will not be directly callable after loading.\n"
     ]
    },
    {
     "name": "stdout",
     "output_type": "stream",
     "text": [
      "INFO:tensorflow:Assets written to: trained_models/going_concern_sentiment_model/assets\n"
     ]
    },
    {
     "name": "stderr",
     "output_type": "stream",
     "text": [
      "INFO:tensorflow:Assets written to: trained_models/going_concern_sentiment_model/assets\n"
     ]
    },
    {
     "name": "stdout",
     "output_type": "stream",
     "text": [
      "781/781 [==============================] - 5s 6ms/step - loss: 0.1050 - accuracy: 0.9591\n",
      "0.9591453075408936\n"
     ]
    }
   ],
   "source": [
    "export_model = tf.keras.Sequential([\n",
    "  vectorize_layer,\n",
    "  model,\n",
    "  tf.keras.layers.Activation('sigmoid')\n",
    "])\n",
    "\n",
    "export_model.compile(\n",
    "    loss=tf.keras.losses.BinaryCrossentropy(from_logits=False), optimizer=\"adam\", metrics=['accuracy']\n",
    ")\n",
    "\n",
    "model_dir = 'trained_models/going_concern_sentiment_model'\n",
    "tf.saved_model.save(export_model, model_dir)\n",
    "\n",
    "# Testing with the raw input `raw_test_ds`\n",
    "loss, accuracy = export_model.evaluate(raw_test_ds)\n",
    "print(accuracy)"
   ]
  },
  {
   "cell_type": "code",
   "execution_count": 53,
   "metadata": {},
   "outputs": [
    {
     "name": "stdout",
     "output_type": "stream",
     "text": [
      "       GOING_CONCERN  COMPANY_FKEY  \\\n",
      "12734            0.0      313807.0   \n",
      "25487            0.0      806968.0   \n",
      "26256            0.0      811809.0   \n",
      "31747            0.0      856341.0   \n",
      "31748            0.0      856341.0   \n",
      "31749            0.0      856341.0   \n",
      "31750            0.0      856341.0   \n",
      "31751            NaN           NaN   \n",
      "31752            0.0      856341.0   \n",
      "31753            NaN           NaN   \n",
      "31754            0.0      856341.0   \n",
      "31755            NaN           NaN   \n",
      "40620            0.0      906564.0   \n",
      "40621            0.0      906564.0   \n",
      "40622            0.0      906564.0   \n",
      "\n",
      "                                           OPINION_TEXT1  \\\n",
      "12734  Consolidated financial statements of the bp gr...   \n",
      "25487  INDEPENDENT AUDITOR'S REPORT  TO THE MEMBERS O...   \n",
      "26256  3.6 Independent Auditors' reports  Independent...   \n",
      "31747  REPORT OF INDEPENDENT REGISTERED PUBLIC ACCOUN...   \n",
      "31748  REPORT OF INDEPENDENT REGISTERED PUBLIC ACCOUN...   \n",
      "31749  REPORT OF INDEPENDENT REGISTERED PUBLIC ACCOUN...   \n",
      "31750  Report of Independent Registered Public Accoun...   \n",
      "31751                                             Marion   \n",
      "31752  Report of Independent Registered Public Accoun...   \n",
      "31753                                             Marion   \n",
      "31754  Report of Independent Registered Public Accoun...   \n",
      "31755                                             Marion   \n",
      "40620  Report of Independent Registered Public Accoun...   \n",
      "40621  Report of Independent Registered Public Accoun...   \n",
      "40622  Report of Independent Registered Public Accoun...   \n",
      "\n",
      "                                           OPINION_TEXT2  OPINION_TEXT3  \n",
      "12734  There is an audit risk that management judgeme...            NaN  \n",
      "25487  In our opinion, based on the work undertaken i...            NaN  \n",
      "26256  - the work was performed and documented to a s...            NaN  \n",
      "31747  Rowe Price MidCap Value Fund Advisor Class (1)...            NaN  \n",
      "31748  Rowe Price Blue Chip Growth - R Class (1)  Cla...            NaN  \n",
      "31749  - R6 Class (16)<p>11<p>Columbia Emerging Marke...            NaN  \n",
      "31750  Small Company Fund R6 Class - 06-FYN (1)<p>Ame...            NaN  \n",
      "31751                                                  0            0.0  \n",
      "31752  Small Company Fund R6 Class - 06-FYN (1)(18)<p...            NaN  \n",
      "31753                                                  0            0.0  \n",
      "31754  Government Securities Fund R6 Class - 06-3TK (...            NaN  \n",
      "31755                                                  0            0.0  \n",
      "40620  - iShares Equity  Fixed Income Fund (1)       ...            NaN  \n",
      "40621  Government Plus (1)  Opportunities Fund (1)  -...            NaN  \n",
      "40622  - Global Dynamic                              ...            NaN  \n"
     ]
    }
   ],
   "source": [
    "# grab the unseen data from the set (Reports that spanned more than one OPINION_TEXT)\n",
    "# select where the OPINION_TEXT2 is not null\n",
    "\n",
    "df_unseen = bank_data[bank_data['OPINION_TEXT2'].notnull()]\n",
    "\n",
    "# create a new text file that combines the OPINION_TEXT columns\n",
    "# Convert data to the required directory structure\n",
    "def convert_unseen(data, dirname):\n",
    "    \n",
    "    for label in [0, 1]:\n",
    "        label_data = data[data['GOING_CONCERN'] == label]\n",
    "        label_dir = os.path.join(dirname, str(label))\n",
    "        # create directory for label if it doesn't exist\n",
    "        if not os.path.exists(label_dir):\n",
    "            os.makedirs(label_dir)\n",
    "        \n",
    "        \n",
    "        # create a new text file for each report titled by company id + index\n",
    "        for idx, row in label_data.iterrows():\n",
    "            temp_data = row['OPINION_TEXT1'] + ' ' + row['OPINION_TEXT2']\n",
    "            # if row['OPINION_TEXT3'].notnull():\n",
    "            #     temp_data = temp_data + ' ' + row['OPINION_TEXT3']\n",
    "            filename = f\"{row['COMPANY_FKEY']}_{idx}.txt\"\n",
    "            filepath = os.path.join(label_dir, filename)\n",
    "\n",
    "            with open(filepath, 'w', encoding='utf-8') as f:\n",
    "                f.write(temp_data)\n",
    "\n",
    "convert_unseen(df_unseen, 'data/unseen_going_concern')"
   ]
  },
  {
   "cell_type": "code",
   "execution_count": 69,
   "metadata": {},
   "outputs": [
    {
     "name": "stdout",
     "output_type": "stream",
     "text": [
      "Found 24991 files belonging to 2 classes.\n",
      "781/781 [==============================] - 4s 6ms/step\n"
     ]
    }
   ],
   "source": [
    "import tensorflow as tf\n",
    "from sklearn.metrics import confusion_matrix\n",
    "\n",
    "# Set up the test data\n",
    "test_dir = 'data/going_concern_reports/test'\n",
    "batch_size = 32\n",
    "test_data = tf.keras.preprocessing.text_dataset_from_directory(\n",
    "    test_dir,\n",
    "    batch_size=batch_size)\n",
    "\n",
    "# Make predictions on the test set\n",
    "y_pred = export_model.predict(raw_test_ds)\n",
    "\n",
    "# Get the true labels\n",
    "y_true = []\n",
    "for _, labels in test_data:\n",
    "    y_true.extend(labels.numpy())"
   ]
  },
  {
   "cell_type": "code",
   "execution_count": 21,
   "metadata": {},
   "outputs": [
    {
     "name": "stdout",
     "output_type": "stream",
     "text": [
      "Found 24991 files belonging to 2 classes.\n",
      "781/781 [==============================] - 4s 5ms/step\n",
      "Precision: 0.16006959547629404\n",
      "Recall: 0.08977799463283728\n",
      "F1 score: 0.11503594873397938\n"
     ]
    }
   ],
   "source": [
    "import tensorflow as tf\n",
    "from sklearn.metrics import confusion_matrix\n",
    "\n",
    "# Set up the test data\n",
    "test_dir = 'data/going_concern_reports/test'\n",
    "batch_size = 32\n",
    "test_data = tf.keras.preprocessing.text_dataset_from_directory(\n",
    "    test_dir,\n",
    "    batch_size=batch_size)\n",
    "\n",
    "# Make predictions on the test set\n",
    "y_pred = export_model.predict(raw_test_ds)\n",
    "\n",
    "# Get the true labels\n",
    "y_true = []\n",
    "for _, labels in test_data:\n",
    "    y_true.extend(labels.numpy())\n",
    "\n",
    "# Convert probabilities to binary labels\n",
    "y_pred = [1 if p >= 0.5 else 0 for p in y_pred]\n",
    "\n",
    "# Create confusion matrix\n",
    "cm = confusion_matrix(y_true, y_pred)\n",
    "\n",
    "# Calculate precision, recall, and f1 score\n",
    "TN, FP, FN, TP = cm.ravel()\n",
    "precision = TP / (TP + FP)\n",
    "recall = TP / (TP + FN)\n",
    "f1 = 2 * precision * recall / (precision + recall)\n",
    "\n",
    "print(\"Precision:\", precision)\n",
    "print(\"Recall:\", recall)\n",
    "print(\"F1 score:\", f1)\n"
   ]
  },
  {
   "cell_type": "code",
   "execution_count": 22,
   "metadata": {},
   "outputs": [
    {
     "name": "stdout",
     "output_type": "stream",
     "text": [
      "Found 24991 files belonging to 2 classes.\n",
      "781/781 [==============================] - 4s 6ms/step\n",
      "Precision: 0.1605045672031318\n",
      "Recall: 0.09002195657477434\n",
      "F1 score: 0.11534854642075651\n"
     ]
    }
   ],
   "source": [
    "import tensorflow as tf\n",
    "from sklearn.metrics import confusion_matrix\n",
    "\n",
    "# Set up the test data\n",
    "test_dir = 'data/going_concern_reports/test'\n",
    "batch_size = 32\n",
    "test_data = tf.keras.preprocessing.text_dataset_from_directory(\n",
    "    test_dir,\n",
    "    batch_size=batch_size)\n",
    "\n",
    "# Make predictions on the test set\n",
    "y_pred = export_model.predict(raw_test_ds)\n",
    "\n",
    "# Get the true labels\n",
    "y_true = []\n",
    "for _, labels in test_data:\n",
    "    y_true.extend(labels.numpy())\n",
    "\n",
    "# Convert probabilities to binary labels\n",
    "y_pred = [1 if p >= 0.5 else 0 for p in y_pred]\n",
    "\n",
    "# Create confusion matrix\n",
    "cm = confusion_matrix(y_true, y_pred)\n",
    "\n",
    "# Calculate precision, recall, and f1 score\n",
    "TN, FP, FN, TP = cm.ravel()\n",
    "precision = TP / (TP + FP)\n",
    "recall = TP / (TP + FN)\n",
    "f1 = 2 * precision * recall / (precision + recall)\n",
    "\n",
    "print(\"Precision:\", precision)\n",
    "print(\"Recall:\", recall)\n",
    "print(\"F1 score:\", f1)"
   ]
  }
 ],
 "metadata": {
  "kernelspec": {
   "display_name": "base",
   "language": "python",
   "name": "python3"
  },
  "language_info": {
   "codemirror_mode": {
    "name": "ipython",
    "version": 3
   },
   "file_extension": ".py",
   "mimetype": "text/x-python",
   "name": "python",
   "nbconvert_exporter": "python",
   "pygments_lexer": "ipython3",
   "version": "3.9.7"
  },
  "orig_nbformat": 4
 },
 "nbformat": 4,
 "nbformat_minor": 2
}
