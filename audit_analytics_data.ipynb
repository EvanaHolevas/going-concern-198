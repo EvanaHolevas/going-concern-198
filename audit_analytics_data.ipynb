{
 "cells": [
  {
   "cell_type": "code",
   "execution_count": 41,
   "metadata": {},
   "outputs": [
    {
     "name": "stderr",
     "output_type": "stream",
     "text": [
      "/opt/anaconda3/lib/python3.9/site-packages/IPython/core/interactiveshell.py:3444: DtypeWarning: Columns (178) have mixed types.Specify dtype option on import or set low_memory=False.\n",
      "  exec(code_obj, self.user_global_ns, self.user_ns)\n"
     ]
    }
   ],
   "source": [
    "import pandas as pd\n",
    "import numpy as np\n",
    "\n",
    "col_list = ['COMPANY_FKEY','GOING_CONCERN','OPINION_TEXT1','OPINION_TEXT2','OPINION_TEXT3']\n",
    "bank_data = pd.read_csv('data/Audit Analytics 01.2010.csv', usecols=col_list)\n",
    "# GOING_CONCERN"
   ]
  },
  {
   "cell_type": "code",
   "execution_count": 28,
   "metadata": {},
   "outputs": [
    {
     "data": {
      "text/html": [
       "<div>\n",
       "<style scoped>\n",
       "    .dataframe tbody tr th:only-of-type {\n",
       "        vertical-align: middle;\n",
       "    }\n",
       "\n",
       "    .dataframe tbody tr th {\n",
       "        vertical-align: top;\n",
       "    }\n",
       "\n",
       "    .dataframe thead th {\n",
       "        text-align: right;\n",
       "    }\n",
       "</style>\n",
       "<table border=\"1\" class=\"dataframe\">\n",
       "  <thead>\n",
       "    <tr style=\"text-align: right;\">\n",
       "      <th></th>\n",
       "      <th>GOING_CONCERN</th>\n",
       "      <th>COMPANY_FKEY</th>\n",
       "      <th>OPINION_TEXT1</th>\n",
       "      <th>OPINION_TEXT2</th>\n",
       "      <th>OPINION_TEXT3</th>\n",
       "    </tr>\n",
       "  </thead>\n",
       "  <tbody>\n",
       "    <tr>\n",
       "      <th>0</th>\n",
       "      <td>0.0</td>\n",
       "      <td>20.0</td>\n",
       "      <td>Report of Independent Registered Public Accoun...</td>\n",
       "      <td>NaN</td>\n",
       "      <td>NaN</td>\n",
       "    </tr>\n",
       "    <tr>\n",
       "      <th>1</th>\n",
       "      <td>0.0</td>\n",
       "      <td>1750.0</td>\n",
       "      <td>Report of Independent Registered Public Accoun...</td>\n",
       "      <td>NaN</td>\n",
       "      <td>NaN</td>\n",
       "    </tr>\n",
       "    <tr>\n",
       "      <th>2</th>\n",
       "      <td>0.0</td>\n",
       "      <td>1750.0</td>\n",
       "      <td>Report of Independent Registered Public Accoun...</td>\n",
       "      <td>NaN</td>\n",
       "      <td>NaN</td>\n",
       "    </tr>\n",
       "    <tr>\n",
       "      <th>3</th>\n",
       "      <td>0.0</td>\n",
       "      <td>1750.0</td>\n",
       "      <td>Report of Independent Registered Public Accoun...</td>\n",
       "      <td>NaN</td>\n",
       "      <td>NaN</td>\n",
       "    </tr>\n",
       "    <tr>\n",
       "      <th>4</th>\n",
       "      <td>0.0</td>\n",
       "      <td>1750.0</td>\n",
       "      <td>Report of Independent Registered Public Accoun...</td>\n",
       "      <td>NaN</td>\n",
       "      <td>NaN</td>\n",
       "    </tr>\n",
       "  </tbody>\n",
       "</table>\n",
       "</div>"
      ],
      "text/plain": [
       "   GOING_CONCERN  COMPANY_FKEY  \\\n",
       "0            0.0          20.0   \n",
       "1            0.0        1750.0   \n",
       "2            0.0        1750.0   \n",
       "3            0.0        1750.0   \n",
       "4            0.0        1750.0   \n",
       "\n",
       "                                       OPINION_TEXT1 OPINION_TEXT2  \\\n",
       "0  Report of Independent Registered Public Accoun...           NaN   \n",
       "1  Report of Independent Registered Public Accoun...           NaN   \n",
       "2  Report of Independent Registered Public Accoun...           NaN   \n",
       "3  Report of Independent Registered Public Accoun...           NaN   \n",
       "4  Report of Independent Registered Public Accoun...           NaN   \n",
       "\n",
       "   OPINION_TEXT3  \n",
       "0            NaN  \n",
       "1            NaN  \n",
       "2            NaN  \n",
       "3            NaN  \n",
       "4            NaN  "
      ]
     },
     "execution_count": 28,
     "metadata": {},
     "output_type": "execute_result"
    }
   ],
   "source": [
    "bank_data.head()"
   ]
  },
  {
   "cell_type": "code",
   "execution_count": 3,
   "metadata": {},
   "outputs": [
    {
     "name": "stdout",
     "output_type": "stream",
     "text": [
      "0.0    139699\n",
      "1.0     26915\n",
      "Name: GOING_CONCERN, dtype: int64\n",
      "Op1:  0\n",
      "Op2:  166602\n",
      "Op2:  166614\n"
     ]
    }
   ],
   "source": [
    "val_counts = bank_data['GOING_CONCERN'].value_counts()\n",
    "print(val_counts)\n",
    "\n",
    "op1_nulls = bank_data['OPINION_TEXT1'].isnull().sum() # 166617 items\n",
    "op2_nulls = bank_data['OPINION_TEXT2'].isnull().sum() # 15 items\n",
    "op3_nulls = bank_data['OPINION_TEXT3'].isnull().sum() # 3 items\n",
    "print('Op1: ', op1_nulls)\n",
    "print('Op2: ', op2_nulls)\n",
    "print('Op2: ', op3_nulls)\n"
   ]
  },
  {
   "attachments": {},
   "cell_type": "markdown",
   "metadata": {},
   "source": [
    "## Remove all entries that span more than one 'OPINION TEXT'"
   ]
  },
  {
   "cell_type": "code",
   "execution_count": 40,
   "metadata": {},
   "outputs": [
    {
     "name": "stdout",
     "output_type": "stream",
     "text": [
      "        COMPANY_FKEY  GOING_CONCERN  \\\n",
      "0               20.0            0.0   \n",
      "1             1750.0            0.0   \n",
      "2             1750.0            0.0   \n",
      "3             1750.0            0.0   \n",
      "4             1750.0            0.0   \n",
      "...              ...            ...   \n",
      "166612     1931055.0            0.0   \n",
      "166613     1931691.0            1.0   \n",
      "166614     1933359.0            1.0   \n",
      "166615     1934945.0            1.0   \n",
      "166616     1936214.0            0.0   \n",
      "\n",
      "                                            OPINION_TEXT1  \n",
      "0       Report of Independent Registered Public Accoun...  \n",
      "1       Report of Independent Registered Public Accoun...  \n",
      "2       Report of Independent Registered Public Accoun...  \n",
      "3       Report of Independent Registered Public Accoun...  \n",
      "4       Report of Independent Registered Public Accoun...  \n",
      "...                                                   ...  \n",
      "166612  Report of Independent Registered Public Accoun...  \n",
      "166613  REPORT OF INDEPENDENT REGISTERED PUBLIC ACCOUN...  \n",
      "166614  REPORT OF INDEPENDENT REGISTERED PUBLIC ACCOUN...  \n",
      "166615  REPORT OF INDEPENDENT REGISTERED PUBLIC ACCOUN...  \n",
      "166616  INDEPENDENT AUDITOR’S REPORT<p>To the Board of...  \n",
      "\n",
      "[166602 rows x 3 columns]\n"
     ]
    },
    {
     "data": {
      "text/html": [
       "<div>\n",
       "<style scoped>\n",
       "    .dataframe tbody tr th:only-of-type {\n",
       "        vertical-align: middle;\n",
       "    }\n",
       "\n",
       "    .dataframe tbody tr th {\n",
       "        vertical-align: top;\n",
       "    }\n",
       "\n",
       "    .dataframe thead th {\n",
       "        text-align: right;\n",
       "    }\n",
       "</style>\n",
       "<table border=\"1\" class=\"dataframe\">\n",
       "  <thead>\n",
       "    <tr style=\"text-align: right;\">\n",
       "      <th></th>\n",
       "      <th>COMPANY_FKEY</th>\n",
       "      <th>GOING_CONCERN</th>\n",
       "      <th>OPINION_TEXT1</th>\n",
       "    </tr>\n",
       "  </thead>\n",
       "  <tbody>\n",
       "    <tr>\n",
       "      <th>0</th>\n",
       "      <td>20.0</td>\n",
       "      <td>0.0</td>\n",
       "      <td>Report of Independent Registered Public Accoun...</td>\n",
       "    </tr>\n",
       "    <tr>\n",
       "      <th>1</th>\n",
       "      <td>1750.0</td>\n",
       "      <td>0.0</td>\n",
       "      <td>Report of Independent Registered Public Accoun...</td>\n",
       "    </tr>\n",
       "    <tr>\n",
       "      <th>2</th>\n",
       "      <td>1750.0</td>\n",
       "      <td>0.0</td>\n",
       "      <td>Report of Independent Registered Public Accoun...</td>\n",
       "    </tr>\n",
       "    <tr>\n",
       "      <th>3</th>\n",
       "      <td>1750.0</td>\n",
       "      <td>0.0</td>\n",
       "      <td>Report of Independent Registered Public Accoun...</td>\n",
       "    </tr>\n",
       "    <tr>\n",
       "      <th>4</th>\n",
       "      <td>1750.0</td>\n",
       "      <td>0.0</td>\n",
       "      <td>Report of Independent Registered Public Accoun...</td>\n",
       "    </tr>\n",
       "  </tbody>\n",
       "</table>\n",
       "</div>"
      ],
      "text/plain": [
       "   COMPANY_FKEY  GOING_CONCERN  \\\n",
       "0          20.0            0.0   \n",
       "1        1750.0            0.0   \n",
       "2        1750.0            0.0   \n",
       "3        1750.0            0.0   \n",
       "4        1750.0            0.0   \n",
       "\n",
       "                                       OPINION_TEXT1  \n",
       "0  Report of Independent Registered Public Accoun...  \n",
       "1  Report of Independent Registered Public Accoun...  \n",
       "2  Report of Independent Registered Public Accoun...  \n",
       "3  Report of Independent Registered Public Accoun...  \n",
       "4  Report of Independent Registered Public Accoun...  "
      ]
     },
     "execution_count": 40,
     "metadata": {},
     "output_type": "execute_result"
    }
   ],
   "source": [
    "# get rid of all values with op2 \n",
    "df_filtered = bank_data[bank_data['OPINION_TEXT2'].isnull()]\n",
    "df_filtered = df_filtered[['COMPANY_FKEY','GOING_CONCERN','OPINION_TEXT1']]\n",
    "\n",
    "print(df_filtered)\n",
    "df_filtered.head()"
   ]
  },
  {
   "cell_type": "code",
   "execution_count": 48,
   "metadata": {},
   "outputs": [
    {
     "ename": "NameError",
     "evalue": "name 'df_filtered' is not defined",
     "output_type": "error",
     "traceback": [
      "\u001b[0;31m---------------------------------------------------------------------------\u001b[0m",
      "\u001b[0;31mNameError\u001b[0m                                 Traceback (most recent call last)",
      "\u001b[0;32m/var/folders/bz/vm79k19966x72r5s425vw7zm0000gp/T/ipykernel_16592/692784165.py\u001b[0m in \u001b[0;36m<module>\u001b[0;34m\u001b[0m\n\u001b[0;32m----> 1\u001b[0;31m \u001b[0mop1_nulls\u001b[0m \u001b[0;34m=\u001b[0m \u001b[0mdf_filtered\u001b[0m\u001b[0;34m[\u001b[0m\u001b[0;34m'OPINION_TEXT1'\u001b[0m\u001b[0;34m]\u001b[0m\u001b[0;34m.\u001b[0m\u001b[0mcount\u001b[0m\u001b[0;34m(\u001b[0m\u001b[0;34m)\u001b[0m \u001b[0;31m# 166617 items\u001b[0m\u001b[0;34m\u001b[0m\u001b[0;34m\u001b[0m\u001b[0m\n\u001b[0m\u001b[1;32m      2\u001b[0m \u001b[0mprint\u001b[0m\u001b[0;34m(\u001b[0m\u001b[0mop1_nulls\u001b[0m\u001b[0;34m)\u001b[0m\u001b[0;34m\u001b[0m\u001b[0;34m\u001b[0m\u001b[0m\n",
      "\u001b[0;31mNameError\u001b[0m: name 'df_filtered' is not defined"
     ]
    }
   ],
   "source": [
    "op1_nulls = df_filtered['OPINION_TEXT1'].count() # 166617 items\n",
    "print(op1_nulls)"
   ]
  },
  {
   "cell_type": "code",
   "execution_count": 3,
   "metadata": {},
   "outputs": [
    {
     "ename": "NameError",
     "evalue": "name 'df_filtered' is not defined",
     "output_type": "error",
     "traceback": [
      "\u001b[0;31m---------------------------------------------------------------------------\u001b[0m",
      "\u001b[0;31mNameError\u001b[0m                                 Traceback (most recent call last)",
      "\u001b[0;32m/var/folders/bz/vm79k19966x72r5s425vw7zm0000gp/T/ipykernel_2920/3258321382.py\u001b[0m in \u001b[0;36m<module>\u001b[0;34m\u001b[0m\n\u001b[1;32m      1\u001b[0m \u001b[0;31m# save modified to csv\u001b[0m\u001b[0;34m\u001b[0m\u001b[0;34m\u001b[0m\u001b[0m\n\u001b[0;32m----> 2\u001b[0;31m \u001b[0mdf_filtered\u001b[0m\u001b[0;34m.\u001b[0m\u001b[0mto_csv\u001b[0m\u001b[0;34m(\u001b[0m\u001b[0;34m'./data/going_concerns.csv'\u001b[0m\u001b[0;34m)\u001b[0m\u001b[0;34m\u001b[0m\u001b[0;34m\u001b[0m\u001b[0m\n\u001b[0m",
      "\u001b[0;31mNameError\u001b[0m: name 'df_filtered' is not defined"
     ]
    }
   ],
   "source": [
    "# save modified to csv\n",
    "df_filtered.to_csv('./data/going_concerns.csv')"
   ]
  },
  {
   "cell_type": "code",
   "execution_count": 43,
   "metadata": {},
   "outputs": [],
   "source": [
    "neg, pos = np.bincount(df_filtered['GOING_CONCERN'])"
   ]
  },
  {
   "cell_type": "code",
   "execution_count": 44,
   "metadata": {},
   "outputs": [
    {
     "name": "stdout",
     "output_type": "stream",
     "text": [
      "neg:  139687\n",
      "pos:  26915\n"
     ]
    }
   ],
   "source": [
    "print('neg: ', neg)\n",
    "print('pos: ', pos)"
   ]
  },
  {
   "attachments": {},
   "cell_type": "markdown",
   "metadata": {},
   "source": [
    "## Label Explanation\n",
    "0=no 1=yes\t\n",
    "Indicates the auditor's opinion contains an explanatory paragraph regarding the going concern assumption.\n",
    "\n",
    "Auditors include an explanitory paragraph when they conclude there is substantial doubt in a company as a 'going concern.'"
   ]
  },
  {
   "cell_type": "code",
   "execution_count": 60,
   "metadata": {},
   "outputs": [
    {
     "name": "stderr",
     "output_type": "stream",
     "text": [
      "[nltk_data] Downloading package stopwords to\n",
      "[nltk_data]     /Users/evanaholevas/nltk_data...\n",
      "[nltk_data]   Package stopwords is already up-to-date!\n"
     ]
    }
   ],
   "source": [
    "import os\n",
    "import random\n",
    "import shutil\n",
    "\n",
    "import pandas as pd\n",
    "\n",
    "import tensorflow as tf\n",
    "from tensorflow.keras.preprocessing.text import Tokenizer\n",
    "from tensorflow.keras.preprocessing.sequence import pad_sequences\n",
    "\n",
    "# Load data from CSV file\n",
    "data = pd.read_csv('data/going_concerns.csv')\n",
    "\n",
    "# Shuffle data\n",
    "data = data.sample(frac=1, random_state=42).reset_index(drop=True)\n",
    "\n",
    "# Split data into training and testing sets\n",
    "train_ratio = 0.85\n",
    "test_ratio = 0.15\n",
    "\n",
    "num_samples = len(data)\n",
    "train_cutoff = int(num_samples * train_ratio)\n",
    "# test_cutoff = int((num_samples * test_ratio))\n",
    "\n",
    "train_data = data.iloc[:train_cutoff]\n",
    "test_data = data.iloc[train_cutoff:]\n",
    "# val_data = data.iloc[test_cutoff:]\n",
    "\n",
    "# Create output directories if they don't exist\n",
    "output_dir = './data/going_concern_reports'\n",
    "if not os.path.exists(output_dir):\n",
    "    os.makedirs(output_dir)\n",
    "\n",
    "train_dir = os.path.join(output_dir, 'train')\n",
    "if not os.path.exists(train_dir):\n",
    "    os.makedirs(train_dir)\n",
    "\n",
    "test_dir = os.path.join(output_dir, 'test')\n",
    "if not os.path.exists(test_dir):\n",
    "    os.makedirs(test_dir)\n",
    "\n",
    "# val_dir = os.path.join(output_dir, 'val')\n",
    "# if not os.path.exists(val_dir):\n",
    "#     os.makedirs(val_dir)\n",
    "\n",
    "# Convert data to the required directory structure\n",
    "def convert_data(data, dirname):\n",
    "    for label in [0, 1]:\n",
    "        label_data = data[data['GOING_CONCERN'] == label]\n",
    "        label_dir = os.path.join(dirname, str(label))\n",
    "        # create directory for label if it doesn't exist\n",
    "        if not os.path.exists(label_dir):\n",
    "            os.makedirs(label_dir)\n",
    "        \n",
    "        \n",
    "        # create a new text file for each report titled by company id + index\n",
    "        for idx, row in label_data.iterrows():\n",
    "            filename = f\"{row['COMPANY_FKEY']}_{idx}.txt\"\n",
    "            filepath = os.path.join(label_dir, filename)\n",
    "\n",
    "            with open(filepath, 'w', encoding='utf-8') as f:\n",
    "                f.write(row['OPINION_TEXT1'])\n",
    "\n",
    "convert_data(train_data, train_dir)\n",
    "convert_data(test_data, test_dir)\n",
    "# convert_data(val_data, val_dir)\n"
   ]
  },
  {
   "cell_type": "code",
   "execution_count": 36,
   "metadata": {},
   "outputs": [
    {
     "name": "stdout",
     "output_type": "stream",
     "text": [
      "train:  141611\n",
      "test:  24991\n"
     ]
    }
   ],
   "source": [
    "len(data)\n",
    "print(\"train: \", len(train_data))\n",
    "print(\"test: \", len(test_data))"
   ]
  },
  {
   "attachments": {},
   "cell_type": "markdown",
   "metadata": {},
   "source": [
    "## Set testing, training, and validation data"
   ]
  },
  {
   "cell_type": "code",
   "execution_count": 1,
   "metadata": {},
   "outputs": [
    {
     "name": "stdout",
     "output_type": "stream",
     "text": [
      "Train count: 141611\n",
      "test count: 24992\n"
     ]
    }
   ],
   "source": [
    "import os\n",
    "from sklearn.metrics import accuracy_score\n",
    "\n",
    "# folder path\n",
    "dir_path2 = 'data/going_concern_reports/train'\n",
    "count2 = 0\n",
    "for root_dir, cur_dir, files in os.walk(dir_path2):\n",
    "    count2 += len(files)\n",
    "print('Train count:', count2)\n",
    "\n",
    "# folder path\n",
    "dir_path = 'data/going_concern_reports/test'\n",
    "count = 0\n",
    "for root_dir, cur_dir, files in os.walk(dir_path):\n",
    "    count += len(files)\n",
    "print('test count:', count)"
   ]
  },
  {
   "cell_type": "code",
   "execution_count": 2,
   "metadata": {},
   "outputs": [
    {
     "name": "stdout",
     "output_type": "stream",
     "text": [
      "Found 141611 files belonging to 2 classes.\n",
      "Using 117538 files for training.\n"
     ]
    }
   ],
   "source": [
    "import tensorflow as tf\n",
    "\n",
    "# create validation set\n",
    "batch_size = 32\n",
    "seed = 43\n",
    "\n",
    "raw_train_ds = tf.keras.utils.text_dataset_from_directory(\n",
    "    'data/going_concern_reports/train', \n",
    "    batch_size=batch_size, \n",
    "    validation_split=0.17, \n",
    "    subset='training', \n",
    "    seed=seed)"
   ]
  },
  {
   "cell_type": "code",
   "execution_count": 5,
   "metadata": {},
   "outputs": [
    {
     "ename": "AttributeError",
     "evalue": "'BatchDataset' object has no attribute 'info'",
     "output_type": "error",
     "traceback": [
      "\u001b[0;31m---------------------------------------------------------------------------\u001b[0m",
      "\u001b[0;31mAttributeError\u001b[0m                            Traceback (most recent call last)",
      "\u001b[0;32m/var/folders/bz/vm79k19966x72r5s425vw7zm0000gp/T/ipykernel_7457/74280801.py\u001b[0m in \u001b[0;36m<module>\u001b[0;34m\u001b[0m\n\u001b[0;32m----> 1\u001b[0;31m \u001b[0mraw_train_ds\u001b[0m\u001b[0;34m.\u001b[0m\u001b[0minfo\u001b[0m\u001b[0;34m\u001b[0m\u001b[0;34m\u001b[0m\u001b[0m\n\u001b[0m",
      "\u001b[0;31mAttributeError\u001b[0m: 'BatchDataset' object has no attribute 'info'"
     ]
    }
   ],
   "source": [
    "raw_train_ds.info"
   ]
  },
  {
   "cell_type": "code",
   "execution_count": 15,
   "metadata": {},
   "outputs": [
    {
     "name": "stdout",
     "output_type": "stream",
     "text": [
      "Review b'Report of Independent Registered Public Accounting Firm   <p> <p>   The Board of Directors and Stockholders  Summit Hotel Properties, Inc.:     We have audited the accompanying consolidated balance sheets of Summit Hotel Properties, Inc. and subsidiaries (the Company) as of December 31, 2012 and 2011, and the related consolidated statements of operations, comprehensive income (loss), and changes in equity for the year ended December 31, 2012 and the period from February 14, 2011 (commencement of operations) through December 31, 2011, the related consolidated statements of operations, comprehensive income (loss) and changes in equity of Summit Hotel Properties, LLC and subsidiaries (Predecessor) for the period from January 1, 2011 through February 13, 2011 and the year ended December 31, 2010, the related consolidated statement of cash flows of Summit Hotel Properties, Inc. and subsidiaries for the year ended December 31, 2012, the related combined consolidated statement of cash flows of Summit Hotel Properties, Inc. and subsidiaries and Summit Hotel Properties, LLC and subsidiaries (Predecessor) for the year ended December 31, 2011, and the related consolidated statement of cash flows of Summit Hotel Properties, LLC and subsidiaries (Predecessor) for the year ended December 31, 2010. In connection with our audits of the consolidated financial statements, we also have audited the financial statement schedule III. These consolidated financial statements and financial statement schedule are the responsibility of the Company\\xe2\\x80\\x99s management. Our responsibility is to express an opinion on these consolidated financial statements and financial statement schedule based on our audits.     We conducted our audits in accordance with the standards of the Public Company Accounting Oversight Board (United States). Those standards require that we plan and perform the audit to obtain reasonable assurance about whether the financial statements are free of material misstatement. An audit includes examining, on a test basis, evidence supporting the amounts and disclosures in the financial statements, assessing the accounting principles used and significant estimates made by management, as well as evaluating the overall financial statement presentation. We believe that our audits provide a reasonable basis for our opinion.     In our opinion, the consolidated financial statements referred to above present fairly, in all material respects, the financial position of Summit Hotel Properties, Inc. and subsidiaries as of December 31, 2012 and 2011, and the results of Summit Hotel Properties, Inc. and subsidiaries operations for the year ended December 31, 2012 and the period from February 14, 2011 (commencement of operations) through December 31, 2011, the results of Summit Hotel Properties, LLC and subsidiaries (Predecessor) operations for the period January 1, 2011 through February 13, 2011 and the year ended December 31, 2010, and Summit Hotel Properties and subsidiaries cash flows for the year ended December 31, 2012, Summit Hotel Properties, Inc. and Summit Hotel Properties, LLC and subsidiaries (Predecessor) combined cash flows for the year ended December 31, 2011 and Summit Hotel Properties, LLC and subsidiaries (Predecessor) cash flows for the year ended December 31, 2010, in conformity with U.S. generally accepted accounting principles.  Also in our opinion, the related financial statement schedule III, when considered in relation to the basic consolidated financial statements taken as a whole, presents fairly, in all material respects, the information set forth therein.     We also have audited, in accordance with the standards of the Public Company Accounting Oversight Board (United States), Summit Hotel Properties, Inc.\\xe2\\x80\\x99s internal control over financial reporting as of December 31, 2012, based on criteria established in Internal Control \\xe2\\x80\\x93 Integrated Framework issued by the Committee of Sponsoring Organizations of the Treadway Commission (COSO), and our report dated February 26, 2013, expressed an unqualified opinion on the effectiveness of the Summit Hotel Properties, Inc.\\xe2\\x80\\x99s internal control over financial reporting.     Our audit report on the effectiveness of internal control over financial reporting as of December 31, 2012, contains an explanatory paragraph that states consolidated subsidiaries of Summit Hotel Properties, Inc. acquired 19 hotels (the Acquired Hotels) in 2012, and management excluded from its assessment of the effectiveness of Summit Hotel Properties, Inc.\\xe2\\x80\\x99s internal control over financial reporting as of December 31, 2012, the Acquired Hotels\\xe2\\x80\\x99 internal control over financial reporting associated with total revenue of $24.9 million included in the consolidated financial statements of Summit Hotel Properties, Inc. and subsidiaries for the year ended December 31, 2012. Our audit of internal control over financial reporting of Summit Hotel Properties, Inc. also excluded an evaluation of the internal control over financial reporting of the Acquired Hotels.      <p>   /s/ KPMG LLP        Chicago, Illinois  February 26, 2013'\n",
      "Label 0\n",
      "Review b\"REPORT OF INDEPENDENT REGISTERED PUBLIC ACCOUNTING FIRM  To the Board of Directors and Stockholders  of Yummies, Inc.  We have audited the accompanying balance sheets of Yummies, Inc. (a Nevada corporation) as of September 30, 2017 and 2016, and the related statements of operations, stockholders' equity and cash flows for each of the years in the two-year period ended September 30, 2017. Yummies, Inc.'s management is responsible for these financial statements. Our responsibility is to express an opinion on these financial statements based on our audits.  We conducted our audits in accordance with the standards of the Public Company Accounting Oversight Board (United States). Those standards require that we plan and perform the audit to obtain reasonable assurance about whether the financial statements are free of material misstatement. The company is not required to have, nor were we engaged to perform, an audit of its internal control over financial reporting. Our audit included consideration of internal control over financial reporting as a basis for designing audit procedures that are appropriate in the circumstances, but not for the purpose of expressing an opinion on the effectiveness of the company's internal control over financial reporting. Accordingly, we express no such opinion. An audit also includes examining, on a test basis, evidence supporting the amounts and disclosures in the financial statements, assessing the accounting principles used and significant estimates made by management, as well as evaluating the overall financial statement presentation. We believe that our audits provide a reasonable basis for our opinion.  In our opinion, the financial statements referred to above present fairly, in all material respects, the financial position of Yummies, Inc. as of September 30, 2017 and 2016, and the results of its operations and its cash flows for each of the years in the two-year period ended September 30, 2017, in conformity with accounting principles generally accepted in the United States of America.  The accompanying financial statements have been prepared assuming that the Company will continue as a going concern. As disclosed in Note 7 to the financial statements, the Company incurred a net loss of $26,126, and $23,156, respectively, during the years ended September 30, 2017 and 2016, and as of September 30, 2017, the Company's current liabilities exceeded its current assets by $46,785. These factors create an uncertainty as to the Company's ability to continue as a going concern. The ability of the Company to continue as a going concern is dependent upon additional capital contributions from the sale of stock and the ability to generate operating revenue. The financial statements do not include any adjustments that might be necessary should the Company be unable to continue as a going concern.  /s/ Burnham & Schumm PC  Salt Lake City, Utah  December 15, 2017\"\n",
      "Label 1\n",
      "Review b'REPORT OF INDEPENDENT REGISTERED PUBLIC ACCOUNTING FIRM  To the Shareholder and Board of Directors of  Arbor Rapha Capital Bioholdings Corp. I  Opinion on the Financial Statements  We have audited the accompanying balance sheet of Arbor Rapha Capital Bioholdings Corp. I (the \\xe2\\x80\\x9cCompany\\xe2\\x80\\x9d) as of March 31, 2021, the related statements of operations, changes in stockholder\\xe2\\x80\\x99s equity and cash flows for the period from March 4, 2021 (inception) through March 31, 2021, and the related notes (collectively referred to as the \\xe2\\x80\\x9cfinancial statements\\xe2\\x80\\x9d). In our opinion, the financial statements present fairly, in all material respects, the financial position of the Company as of March 31, 2021, and the results of its operations and its cash flows for the period from March 4, 2021 (inception) through March 31, 2021, in conformity with accounting principles generally accepted in the United States of America.  Explanatory Paragraph &#8201;\\xe2\\x80\\x94&#8201; Going Concern  The accompanying financial statements have been prepared assuming that the Company will continue as a going concern. As more fully described in Note 1 to the financial statements, the Company\\xe2\\x80\\x99s ability to execute its business plan is dependent upon its completion of the proposed initial public offering described in Note 3 to the financial statements. The Company has a working capital deficiency as of March 31, 2021 and lacks the financial resources it needs to sustain operations for a reasonable period of time, which is considered to be one year from the issuance date of the financial statements. These conditions raise substantial doubt about the Company\\xe2\\x80\\x99s ability to continue as a going concern. Management\\xe2\\x80\\x99s plans about these matters are also described in Notes 1 and 3. The financial statements do not include any adjustments that might become necessary should the Company be unable to continue as a going concern.  Basis for Opinion  These financial statements are the responsibility of the Company\\xe2\\x80\\x99s management. Our responsibility is to express an opinion on the Company\\xe2\\x80\\x99s financial statements based on our audit. We are a public accounting firm registered with the Public Company Accounting Oversight Board (United States) (\\xe2\\x80\\x9cPCAOB\\xe2\\x80\\x9d) and are required to be independent with respect to the Company in accordance with the U.S. federal securities laws and the applicable rules and regulations of the Securities and Exchange Commission and the PCAOB.  We conducted our audit in accordance with the standards of the PCAOB and in accordance with auditing standards generally accepted in the United States of America. Those standards require that we plan and perform the audit to obtain reasonable assurance about whether the financial statements are free of material misstatement, whether due to error or fraud. The Company is not required to have, nor were we engaged to perform, an audit of its internal control over financial reporting. As part of our audit we are required to obtain an understanding of internal control over financial reporting but not for the purpose of expressing an opinion on the effectiveness of the Company\\xe2\\x80\\x99s internal control over financial reporting. Accordingly, we express no such opinion.  Our audit included performing procedures to assess the risks of material misstatement of the financial statements, whether due to error or fraud, and performing procedures that respond to those risks. Such procedures included examining, on a test basis, evidence regarding the amounts and disclosures in the financial statements. Our audit also included evaluating the accounting principles used and significant estimates made by management, as well as evaluating the overall presentation of the financial statements. We believe that our audit provides a reasonable basis for our opinion.  /s/ Marcum LLP  Marcum LLP  We have served as the Company\\xe2\\x80\\x99s auditor since 2021.  Hartford, CT  May 26, 2021'\n",
      "Label 1\n"
     ]
    }
   ],
   "source": [
    "for text_batch, label_batch in raw_train_ds.take(1):\n",
    "  for i in range(3):\n",
    "    print(\"Review\", text_batch.numpy()[i])\n",
    "    print(\"Label\", label_batch.numpy()[i])"
   ]
  },
  {
   "cell_type": "code",
   "execution_count": 3,
   "metadata": {},
   "outputs": [
    {
     "name": "stdout",
     "output_type": "stream",
     "text": [
      "Found 141611 files belonging to 2 classes.\n",
      "Using 24073 files for validation.\n"
     ]
    }
   ],
   "source": [
    "raw_val_ds = tf.keras.utils.text_dataset_from_directory(\n",
    "    'data/going_concern_reports/train', \n",
    "    batch_size=batch_size, \n",
    "    validation_split=0.17,\n",
    "    subset='validation', \n",
    "    seed=seed)"
   ]
  },
  {
   "cell_type": "code",
   "execution_count": 8,
   "metadata": {},
   "outputs": [
    {
     "name": "stdout",
     "output_type": "stream",
     "text": [
      "Found 24991 files belonging to 2 classes.\n"
     ]
    }
   ],
   "source": [
    "raw_test_ds = tf.keras.utils.text_dataset_from_directory(\n",
    "    'data/going_concern_reports/test', \n",
    "    batch_size=batch_size)"
   ]
  },
  {
   "attachments": {},
   "cell_type": "markdown",
   "metadata": {},
   "source": [
    "## Preprocess and clean text\n",
    "Standardize, vectorize, and remove HTML elements."
   ]
  },
  {
   "cell_type": "code",
   "execution_count": 59,
   "metadata": {},
   "outputs": [],
   "source": [
    "import string \n",
    "import regex as re\n",
    "\n",
    "# remove HTML tags from the text, remove punctuation, and convert to lowercase\n",
    "def custom_standardization(input_data):\n",
    "  lowercase = tf.strings.lower(input_data)\n",
    "  stripped_html = tf.strings.regex_replace(lowercase, '<p>', ' ')\n",
    "  return tf.strings.regex_replace(stripped_html,\n",
    "                                  '[%s]' % re.escape(string.punctuation),\n",
    "                                  '')"
   ]
  },
  {
   "cell_type": "code",
   "execution_count": 57,
   "metadata": {},
   "outputs": [],
   "source": [
    "max_features = 10000\n",
    "sequence_length = 250\n",
    "\n",
    "vectorize_layer = tf.keras.layers.TextVectorization(\n",
    "    standardize=custom_standardization,\n",
    "    max_tokens=max_features,\n",
    "    output_mode='int',\n",
    "    output_sequence_length=sequence_length)"
   ]
  },
  {
   "cell_type": "code",
   "execution_count": 58,
   "metadata": {},
   "outputs": [
    {
     "ename": "ValueError",
     "evalue": "in user code:\n\n    File \"/opt/anaconda3/lib/python3.9/site-packages/keras/engine/base_preprocessing_layer.py\", line 122, in adapt_step  *\n        self._adapt_maybe_build(data)\n    File \"/opt/anaconda3/lib/python3.9/site-packages/keras/engine/base_preprocessing_layer.py\", line 284, in _adapt_maybe_build  **\n        data_shape_nones = tuple([None] * len(data.shape))\n\n    ValueError: Cannot take the length of shape with unknown rank.\n",
     "output_type": "error",
     "traceback": [
      "\u001b[0;31m---------------------------------------------------------------------------\u001b[0m",
      "\u001b[0;31mValueError\u001b[0m                                Traceback (most recent call last)",
      "\u001b[0;32m/var/folders/bz/vm79k19966x72r5s425vw7zm0000gp/T/ipykernel_34749/3101666585.py\u001b[0m in \u001b[0;36m<module>\u001b[0;34m\u001b[0m\n\u001b[1;32m      2\u001b[0m \u001b[0mtrain_text\u001b[0m \u001b[0;34m=\u001b[0m \u001b[0mraw_train_ds\u001b[0m\u001b[0;34m.\u001b[0m\u001b[0mmap\u001b[0m\u001b[0;34m(\u001b[0m\u001b[0;32mlambda\u001b[0m \u001b[0mx\u001b[0m\u001b[0;34m,\u001b[0m \u001b[0my\u001b[0m\u001b[0;34m:\u001b[0m \u001b[0mx\u001b[0m\u001b[0;34m)\u001b[0m\u001b[0;34m\u001b[0m\u001b[0;34m\u001b[0m\u001b[0m\n\u001b[1;32m      3\u001b[0m \u001b[0mtrain_text\u001b[0m \u001b[0;34m=\u001b[0m \u001b[0mtrain_text\u001b[0m\u001b[0;34m.\u001b[0m\u001b[0mmap\u001b[0m\u001b[0;34m(\u001b[0m\u001b[0;32mlambda\u001b[0m \u001b[0mx\u001b[0m\u001b[0;34m:\u001b[0m \u001b[0mtf\u001b[0m\u001b[0;34m.\u001b[0m\u001b[0msqueeze\u001b[0m\u001b[0;34m(\u001b[0m\u001b[0mx\u001b[0m\u001b[0;34m)\u001b[0m\u001b[0;34m)\u001b[0m\u001b[0;34m\u001b[0m\u001b[0;34m\u001b[0m\u001b[0m\n\u001b[0;32m----> 4\u001b[0;31m \u001b[0mvectorize_layer\u001b[0m\u001b[0;34m.\u001b[0m\u001b[0madapt\u001b[0m\u001b[0;34m(\u001b[0m\u001b[0mtrain_text\u001b[0m\u001b[0;34m)\u001b[0m\u001b[0;34m\u001b[0m\u001b[0;34m\u001b[0m\u001b[0m\n\u001b[0m",
      "\u001b[0;32m/opt/anaconda3/lib/python3.9/site-packages/keras/layers/preprocessing/text_vectorization.py\u001b[0m in \u001b[0;36madapt\u001b[0;34m(self, data, batch_size, steps)\u001b[0m\n\u001b[1;32m    470\u001b[0m               \u001b[0margument\u001b[0m \u001b[0;32mis\u001b[0m \u001b[0;32mnot\u001b[0m \u001b[0msupported\u001b[0m \u001b[0;32mwith\u001b[0m \u001b[0marray\u001b[0m \u001b[0minputs\u001b[0m\u001b[0;34m.\u001b[0m\u001b[0;34m\u001b[0m\u001b[0;34m\u001b[0m\u001b[0m\n\u001b[1;32m    471\u001b[0m         \"\"\"\n\u001b[0;32m--> 472\u001b[0;31m         \u001b[0msuper\u001b[0m\u001b[0;34m(\u001b[0m\u001b[0;34m)\u001b[0m\u001b[0;34m.\u001b[0m\u001b[0madapt\u001b[0m\u001b[0;34m(\u001b[0m\u001b[0mdata\u001b[0m\u001b[0;34m,\u001b[0m \u001b[0mbatch_size\u001b[0m\u001b[0;34m=\u001b[0m\u001b[0mbatch_size\u001b[0m\u001b[0;34m,\u001b[0m \u001b[0msteps\u001b[0m\u001b[0;34m=\u001b[0m\u001b[0msteps\u001b[0m\u001b[0;34m)\u001b[0m\u001b[0;34m\u001b[0m\u001b[0;34m\u001b[0m\u001b[0m\n\u001b[0m\u001b[1;32m    473\u001b[0m \u001b[0;34m\u001b[0m\u001b[0m\n\u001b[1;32m    474\u001b[0m     \u001b[0;32mdef\u001b[0m \u001b[0mupdate_state\u001b[0m\u001b[0;34m(\u001b[0m\u001b[0mself\u001b[0m\u001b[0;34m,\u001b[0m \u001b[0mdata\u001b[0m\u001b[0;34m)\u001b[0m\u001b[0;34m:\u001b[0m\u001b[0;34m\u001b[0m\u001b[0;34m\u001b[0m\u001b[0m\n",
      "\u001b[0;32m/opt/anaconda3/lib/python3.9/site-packages/keras/engine/base_preprocessing_layer.py\u001b[0m in \u001b[0;36madapt\u001b[0;34m(self, data, batch_size, steps)\u001b[0m\n\u001b[1;32m    256\u001b[0m             \u001b[0;32mwith\u001b[0m \u001b[0mdata_handler\u001b[0m\u001b[0;34m.\u001b[0m\u001b[0mcatch_stop_iteration\u001b[0m\u001b[0;34m(\u001b[0m\u001b[0;34m)\u001b[0m\u001b[0;34m:\u001b[0m\u001b[0;34m\u001b[0m\u001b[0;34m\u001b[0m\u001b[0m\n\u001b[1;32m    257\u001b[0m                 \u001b[0;32mfor\u001b[0m \u001b[0m_\u001b[0m \u001b[0;32min\u001b[0m \u001b[0mdata_handler\u001b[0m\u001b[0;34m.\u001b[0m\u001b[0msteps\u001b[0m\u001b[0;34m(\u001b[0m\u001b[0;34m)\u001b[0m\u001b[0;34m:\u001b[0m\u001b[0;34m\u001b[0m\u001b[0;34m\u001b[0m\u001b[0m\n\u001b[0;32m--> 258\u001b[0;31m                     \u001b[0mself\u001b[0m\u001b[0;34m.\u001b[0m\u001b[0m_adapt_function\u001b[0m\u001b[0;34m(\u001b[0m\u001b[0miterator\u001b[0m\u001b[0;34m)\u001b[0m\u001b[0;34m\u001b[0m\u001b[0;34m\u001b[0m\u001b[0m\n\u001b[0m\u001b[1;32m    259\u001b[0m                     \u001b[0;32mif\u001b[0m \u001b[0mdata_handler\u001b[0m\u001b[0;34m.\u001b[0m\u001b[0mshould_sync\u001b[0m\u001b[0;34m:\u001b[0m\u001b[0;34m\u001b[0m\u001b[0;34m\u001b[0m\u001b[0m\n\u001b[1;32m    260\u001b[0m                         \u001b[0mcontext\u001b[0m\u001b[0;34m.\u001b[0m\u001b[0masync_wait\u001b[0m\u001b[0;34m(\u001b[0m\u001b[0;34m)\u001b[0m\u001b[0;34m\u001b[0m\u001b[0;34m\u001b[0m\u001b[0m\n",
      "\u001b[0;32m/opt/anaconda3/lib/python3.9/site-packages/tensorflow/python/util/traceback_utils.py\u001b[0m in \u001b[0;36merror_handler\u001b[0;34m(*args, **kwargs)\u001b[0m\n\u001b[1;32m    151\u001b[0m     \u001b[0;32mexcept\u001b[0m \u001b[0mException\u001b[0m \u001b[0;32mas\u001b[0m \u001b[0me\u001b[0m\u001b[0;34m:\u001b[0m\u001b[0;34m\u001b[0m\u001b[0;34m\u001b[0m\u001b[0m\n\u001b[1;32m    152\u001b[0m       \u001b[0mfiltered_tb\u001b[0m \u001b[0;34m=\u001b[0m \u001b[0m_process_traceback_frames\u001b[0m\u001b[0;34m(\u001b[0m\u001b[0me\u001b[0m\u001b[0;34m.\u001b[0m\u001b[0m__traceback__\u001b[0m\u001b[0;34m)\u001b[0m\u001b[0;34m\u001b[0m\u001b[0;34m\u001b[0m\u001b[0m\n\u001b[0;32m--> 153\u001b[0;31m       \u001b[0;32mraise\u001b[0m \u001b[0me\u001b[0m\u001b[0;34m.\u001b[0m\u001b[0mwith_traceback\u001b[0m\u001b[0;34m(\u001b[0m\u001b[0mfiltered_tb\u001b[0m\u001b[0;34m)\u001b[0m \u001b[0;32mfrom\u001b[0m \u001b[0;32mNone\u001b[0m\u001b[0;34m\u001b[0m\u001b[0;34m\u001b[0m\u001b[0m\n\u001b[0m\u001b[1;32m    154\u001b[0m     \u001b[0;32mfinally\u001b[0m\u001b[0;34m:\u001b[0m\u001b[0;34m\u001b[0m\u001b[0;34m\u001b[0m\u001b[0m\n\u001b[1;32m    155\u001b[0m       \u001b[0;32mdel\u001b[0m \u001b[0mfiltered_tb\u001b[0m\u001b[0;34m\u001b[0m\u001b[0;34m\u001b[0m\u001b[0m\n",
      "\u001b[0;32m/opt/anaconda3/lib/python3.9/site-packages/keras/engine/base_preprocessing_layer.py\u001b[0m in \u001b[0;36mtf__adapt_step\u001b[0;34m(iterator)\u001b[0m\n\u001b[1;32m      8\u001b[0m             \u001b[0;32mwith\u001b[0m \u001b[0mag__\u001b[0m\u001b[0;34m.\u001b[0m\u001b[0mFunctionScope\u001b[0m\u001b[0;34m(\u001b[0m\u001b[0;34m'adapt_step'\u001b[0m\u001b[0;34m,\u001b[0m \u001b[0;34m'fscope'\u001b[0m\u001b[0;34m,\u001b[0m \u001b[0mag__\u001b[0m\u001b[0;34m.\u001b[0m\u001b[0mConversionOptions\u001b[0m\u001b[0;34m(\u001b[0m\u001b[0mrecursive\u001b[0m\u001b[0;34m=\u001b[0m\u001b[0;32mTrue\u001b[0m\u001b[0;34m,\u001b[0m \u001b[0muser_requested\u001b[0m\u001b[0;34m=\u001b[0m\u001b[0;32mTrue\u001b[0m\u001b[0;34m,\u001b[0m \u001b[0moptional_features\u001b[0m\u001b[0;34m=\u001b[0m\u001b[0;34m(\u001b[0m\u001b[0;34m)\u001b[0m\u001b[0;34m,\u001b[0m \u001b[0minternal_convert_user_code\u001b[0m\u001b[0;34m=\u001b[0m\u001b[0;32mTrue\u001b[0m\u001b[0;34m)\u001b[0m\u001b[0;34m)\u001b[0m \u001b[0;32mas\u001b[0m \u001b[0mfscope\u001b[0m\u001b[0;34m:\u001b[0m\u001b[0;34m\u001b[0m\u001b[0;34m\u001b[0m\u001b[0m\n\u001b[1;32m      9\u001b[0m                 \u001b[0mdata\u001b[0m \u001b[0;34m=\u001b[0m \u001b[0mag__\u001b[0m\u001b[0;34m.\u001b[0m\u001b[0mconverted_call\u001b[0m\u001b[0;34m(\u001b[0m\u001b[0mag__\u001b[0m\u001b[0;34m.\u001b[0m\u001b[0mld\u001b[0m\u001b[0;34m(\u001b[0m\u001b[0mnext\u001b[0m\u001b[0;34m)\u001b[0m\u001b[0;34m,\u001b[0m \u001b[0;34m(\u001b[0m\u001b[0mag__\u001b[0m\u001b[0;34m.\u001b[0m\u001b[0mld\u001b[0m\u001b[0;34m(\u001b[0m\u001b[0miterator\u001b[0m\u001b[0;34m)\u001b[0m\u001b[0;34m,\u001b[0m\u001b[0;34m)\u001b[0m\u001b[0;34m,\u001b[0m \u001b[0;32mNone\u001b[0m\u001b[0;34m,\u001b[0m \u001b[0mfscope\u001b[0m\u001b[0;34m)\u001b[0m\u001b[0;34m\u001b[0m\u001b[0;34m\u001b[0m\u001b[0m\n\u001b[0;32m---> 10\u001b[0;31m                 \u001b[0mag__\u001b[0m\u001b[0;34m.\u001b[0m\u001b[0mconverted_call\u001b[0m\u001b[0;34m(\u001b[0m\u001b[0mag__\u001b[0m\u001b[0;34m.\u001b[0m\u001b[0mld\u001b[0m\u001b[0;34m(\u001b[0m\u001b[0mself\u001b[0m\u001b[0;34m)\u001b[0m\u001b[0;34m.\u001b[0m\u001b[0m_adapt_maybe_build\u001b[0m\u001b[0;34m,\u001b[0m \u001b[0;34m(\u001b[0m\u001b[0mag__\u001b[0m\u001b[0;34m.\u001b[0m\u001b[0mld\u001b[0m\u001b[0;34m(\u001b[0m\u001b[0mdata\u001b[0m\u001b[0;34m)\u001b[0m\u001b[0;34m,\u001b[0m\u001b[0;34m)\u001b[0m\u001b[0;34m,\u001b[0m \u001b[0;32mNone\u001b[0m\u001b[0;34m,\u001b[0m \u001b[0mfscope\u001b[0m\u001b[0;34m)\u001b[0m\u001b[0;34m\u001b[0m\u001b[0;34m\u001b[0m\u001b[0m\n\u001b[0m\u001b[1;32m     11\u001b[0m                 \u001b[0mag__\u001b[0m\u001b[0;34m.\u001b[0m\u001b[0mconverted_call\u001b[0m\u001b[0;34m(\u001b[0m\u001b[0mag__\u001b[0m\u001b[0;34m.\u001b[0m\u001b[0mld\u001b[0m\u001b[0;34m(\u001b[0m\u001b[0mself\u001b[0m\u001b[0;34m)\u001b[0m\u001b[0;34m.\u001b[0m\u001b[0mupdate_state\u001b[0m\u001b[0;34m,\u001b[0m \u001b[0;34m(\u001b[0m\u001b[0mag__\u001b[0m\u001b[0;34m.\u001b[0m\u001b[0mld\u001b[0m\u001b[0;34m(\u001b[0m\u001b[0mdata\u001b[0m\u001b[0;34m)\u001b[0m\u001b[0;34m,\u001b[0m\u001b[0;34m)\u001b[0m\u001b[0;34m,\u001b[0m \u001b[0;32mNone\u001b[0m\u001b[0;34m,\u001b[0m \u001b[0mfscope\u001b[0m\u001b[0;34m)\u001b[0m\u001b[0;34m\u001b[0m\u001b[0;34m\u001b[0m\u001b[0m\n\u001b[1;32m     12\u001b[0m         \u001b[0;32mreturn\u001b[0m \u001b[0mtf__adapt_step\u001b[0m\u001b[0;34m\u001b[0m\u001b[0;34m\u001b[0m\u001b[0m\n",
      "\u001b[0;32m/opt/anaconda3/lib/python3.9/site-packages/keras/engine/base_preprocessing_layer.py\u001b[0m in \u001b[0;36m_adapt_maybe_build\u001b[0;34m(self, data)\u001b[0m\n\u001b[1;32m    282\u001b[0m                 \u001b[0;31m# .shape.  If not, an attribute error will be thrown.\u001b[0m\u001b[0;34m\u001b[0m\u001b[0;34m\u001b[0m\u001b[0m\n\u001b[1;32m    283\u001b[0m                 \u001b[0mdata_shape\u001b[0m \u001b[0;34m=\u001b[0m \u001b[0mdata\u001b[0m\u001b[0;34m.\u001b[0m\u001b[0mshape\u001b[0m\u001b[0;34m\u001b[0m\u001b[0;34m\u001b[0m\u001b[0m\n\u001b[0;32m--> 284\u001b[0;31m                 \u001b[0mdata_shape_nones\u001b[0m \u001b[0;34m=\u001b[0m \u001b[0mtuple\u001b[0m\u001b[0;34m(\u001b[0m\u001b[0;34m[\u001b[0m\u001b[0;32mNone\u001b[0m\u001b[0;34m]\u001b[0m \u001b[0;34m*\u001b[0m \u001b[0mlen\u001b[0m\u001b[0;34m(\u001b[0m\u001b[0mdata\u001b[0m\u001b[0;34m.\u001b[0m\u001b[0mshape\u001b[0m\u001b[0;34m)\u001b[0m\u001b[0;34m)\u001b[0m\u001b[0;34m\u001b[0m\u001b[0;34m\u001b[0m\u001b[0m\n\u001b[0m\u001b[1;32m    285\u001b[0m             \u001b[0;32mexcept\u001b[0m \u001b[0mAttributeError\u001b[0m\u001b[0;34m:\u001b[0m\u001b[0;34m\u001b[0m\u001b[0;34m\u001b[0m\u001b[0m\n\u001b[1;32m    286\u001b[0m                 \u001b[0;31m# The input has an unknown number of dimensions.\u001b[0m\u001b[0;34m\u001b[0m\u001b[0;34m\u001b[0m\u001b[0m\n",
      "\u001b[0;31mValueError\u001b[0m: in user code:\n\n    File \"/opt/anaconda3/lib/python3.9/site-packages/keras/engine/base_preprocessing_layer.py\", line 122, in adapt_step  *\n        self._adapt_maybe_build(data)\n    File \"/opt/anaconda3/lib/python3.9/site-packages/keras/engine/base_preprocessing_layer.py\", line 284, in _adapt_maybe_build  **\n        data_shape_nones = tuple([None] * len(data.shape))\n\n    ValueError: Cannot take the length of shape with unknown rank.\n"
     ]
    }
   ],
   "source": [
    "# convert text to numbers without labels, then adapt to the data\n",
    "train_text = raw_train_ds.map(lambda x, y: x)\n",
    "vectorize_layer.adapt(train_text)"
   ]
  },
  {
   "cell_type": "code",
   "execution_count": 7,
   "metadata": {},
   "outputs": [],
   "source": [
    "# preview the preprocessed data\n",
    "def vectorize_text(text, label):\n",
    "  text = tf.expand_dims(text, -1)\n",
    "  return vectorize_layer(text), label"
   ]
  },
  {
   "cell_type": "code",
   "execution_count": 8,
   "metadata": {},
   "outputs": [
    {
     "name": "stdout",
     "output_type": "stream",
     "text": [
      "Review tf.Tensor(b'REPORT OF INDEPENDENT REGISTERED PUBLIC ACCOUNTING FIRM<p>To the Shareholders and the Board of Directors of BNY Mellon Strategic Municipals, Inc.<p>Opinion on the Financial Statements<p>We have audited the accompanying statement of assets and liabilities of BNY Mellon Strategic Municipals, Inc. (the \\xe2\\x80\\x9cFund\\xe2\\x80\\x9d), including the statement of investments, as of September 30, 2020, and the related statements of operations and cash flows for the year then ended, the statements of changes in net assets for each of the two years in the period then ended, the financial highlights for each of the five years in the period then ended and the related notes (collectively referred to as the \\xe2\\x80\\x9cfinancial statements\\xe2\\x80\\x9d). In our opinion, the financial statements present fairly, in all material respects, the financial position of the Fund at September 30, 2020, the results of its operations and its cash flows for the year then ended, the changes in its net assets for each of the two years in the period then ended and its financial highlights for each of the five years in the period then ended, in conformity with U.S. generally accepted accounting principles.<p>Basis for Opinion<p>These financial statements are the responsibility of the Fund\\xe2\\x80\\x99s management. Our responsibility is to express an opinion on the Fund\\xe2\\x80\\x99s financial statements based on our audits. We are a public accounting firm registered with the Public Company Accounting Oversight Board (United States) (\\xe2\\x80\\x9cPCAOB\\xe2\\x80\\x9d) and are required to be independent with respect to the Fund in accordance with the U.S. federal securities laws and the applicable rules and regulations of the Securities and Exchange Commission and the PCAOB.<p>We conducted our audits in accordance with the standards of the PCAOB. Those standards require that we plan and perform the audit to obtain reasonable assurance about whether the financial statements are free of material misstatement, whether due to error or fraud. The Fund is not required to have, nor were we engaged to perform, an audit of the Fund\\xe2\\x80\\x99s internal control over financial reporting. As part of our audits, we are required to obtain an understanding of internal control over financial reporting, but not for the purpose of expressing an opinion on the effectiveness of the Fund\\xe2\\x80\\x99s internal control over financial reporting. Accordingly, we express no such opinion.<p>Our audits included performing procedures to assess the risks of material misstatement of the financial statements, whether due to error or fraud, and performing procedures that respond to those risks. Such procedures included examining, on a test basis, evidence regarding the amounts and disclosures in the financial statements. Our procedures included confirmation of securities owned as of September 30, 2020, by correspondence with the custodian and others or by other appropriate auditing procedures where replies from others were not received. Our audits also included evaluating the accounting principles used and significant estimates made by management, as well as evaluating the overall presentation of the financial statements. We believe that our audits provide a reasonable basis for our opinion.<p>Ernst & Young LLP<p>We have served as the auditor of one or more investment companies in the BNY Mellon Family of Funds since at least 1957, but we are unable to determine the specific year.<p>New York, New York  November 24, 2020', shape=(), dtype=string)\n",
      "Label 0\n",
      "Vectorized review (<tf.Tensor: shape=(1, 400), dtype=int64, numpy=\n",
      "array([[  71,    3,   72,   75,   33,   15,   74,    7,    2,  188,    4,\n",
      "           2,   47,    3,  130,    3, 1475,  340,  713,  725,   92,   14,\n",
      "          13,    2,    5,    9,   11,   39,   82,    2,   83,   48,    3,\n",
      "          60,    4,  237,    3, 1475,  340,  713,  725,   92,    2,  558,\n",
      "         149,    2,   48,    3,  239,   10,    3,  221,  135,  143,    4,\n",
      "           2,   62,    9,    3,   56,    4,   64,   69,   12,    2,  134,\n",
      "         100,   34,    2,    9,    3,  113,    6,   90,   60,   12,   58,\n",
      "           3,    2,  199,   55,    6,    2,   50,  100,   34,    2,    5,\n",
      "          73,   12,   58,    3,    2,  298,   55,    6,    2,   50,  100,\n",
      "          34,    4,    2,   62,  187,  205,  122,    7,   10,    2,  347,\n",
      "         272,    6,    8,   14,    2,    5,    9,  117,   89,    6,   76,\n",
      "          30,   79,    2,    5,  103,    3,    2,   94,  167,  221,  135,\n",
      "         143,    2,  120,    3,   43,   56,    4,   43,   64,   69,   12,\n",
      "           2,  134,  100,   34,    2,  113,    6,   43,   90,   60,   12,\n",
      "          58,    3,    2,  199,   55,    6,    2,   50,  100,   34,    4,\n",
      "          43,    5,   73,   12,   58,    3,    2,  298,   55,    6,    2,\n",
      "          50,  100,   34,    6,  115,   18,  139,   85,   86,   15,   44,\n",
      "          31,   12,   14,   46,    5,    9,   20,    2,   51,    3,    2,\n",
      "         322,   42,    8,   51,   41,    7,   66,   22,   14,   13,    2,\n",
      "         322,    5,    9,   68,   13,    8,   21,   11,   20,   17,   33,\n",
      "          15,   74,   75,   18,    2,   33,   27,   15,   97,   47,   53,\n",
      "          54,  424,    4,   20,   91,    7,  159,   72,   18,  206,    7,\n",
      "           2,   94,    6,   52,   18,    2,  139,  212,   99,  218,    4,\n",
      "           2,  200,  220,    4,  216,    3,    2,   99,    4,  217,  147,\n",
      "           4,    2,  110,   11,  108,    8,   21,    6,   52,   18,    2,\n",
      "          37,    3,    2,  110,   65,   37,  109,   19,   11,  104,    4,\n",
      "          67,    2,   16,    7,   81,   38,   78,   84,   49,    2,    5,\n",
      "           9,   20,  105,    3,   30,   70,   49,  125,    7,  132,   45,\n",
      "         131,    2,   94,   41,   57,   91,    7,   39,  185,  128,   11,\n",
      "         172,    7,   67,   22,   16,    3,    2,  322,   23,   25,   29,\n",
      "           5,   28,   10,  282,    3,    8,   21,   11,   20,   91,    7,\n",
      "          81,   22,  233,    3,   23,   25,   29,    5,   28,  158,   57,\n",
      "          12,    2,  169,    3,  171,   22,   14,   13,    2,  118,    3,\n",
      "           2,  322,   23,   25,   29,    5,   28,  170,   11,   66,  151,\n",
      "          87,   14,    8,   21,   35,  123,   36,    7,  204,    2,  136,\n",
      "           3,   30,   70,    3,    2,    5,    9,   49,  125,    7,  132,\n",
      "          45,  131,    4,  123]])>, <tf.Tensor: shape=(), dtype=int32, numpy=0>)\n"
     ]
    }
   ],
   "source": [
    "# retrieve a batch of 32 going concern reports and labels from the dataset\n",
    "text_batch, label_batch = next(iter(raw_train_ds))\n",
    "first_review, first_label = text_batch[0], label_batch[0]\n",
    "print(\"Review\", first_review)\n",
    "print(\"Label\", raw_train_ds.class_names[first_label])\n",
    "print(\"Vectorized review\", vectorize_text(first_review, first_label))"
   ]
  },
  {
   "cell_type": "code",
   "execution_count": 16,
   "metadata": {},
   "outputs": [
    {
     "name": "stdout",
     "output_type": "stream",
     "text": [
      "1287 --->  of\n",
      " 313 --->  the\n",
      "Vocabulary size: 10000\n"
     ]
    }
   ],
   "source": [
    "print(\"1287 ---> \",vectorize_layer.get_vocabulary()[3])\n",
    "print(\" 313 ---> \",vectorize_layer.get_vocabulary()[2])\n",
    "print('Vocabulary size: {}'.format(len(vectorize_layer.get_vocabulary())))"
   ]
  },
  {
   "cell_type": "code",
   "execution_count": 24,
   "metadata": {},
   "outputs": [],
   "source": [
    "# apply text vectorization layer\n",
    "\n",
    "train_ds = raw_train_ds.map(vectorize_text)\n",
    "val_ds = raw_val_ds.map(vectorize_text)\n",
    "test_ds = raw_test_ds.map(vectorize_text)"
   ]
  },
  {
   "cell_type": "code",
   "execution_count": 25,
   "metadata": {},
   "outputs": [],
   "source": [
    "AUTOTUNE = tf.data.AUTOTUNE\n",
    "\n",
    "train_ds = train_ds.cache().prefetch(buffer_size=AUTOTUNE)\n",
    "val_ds = val_ds.cache().prefetch(buffer_size=AUTOTUNE)\n",
    "test_ds = test_ds.cache().prefetch(buffer_size=AUTOTUNE)"
   ]
  },
  {
   "attachments": {},
   "cell_type": "markdown",
   "metadata": {},
   "source": [
    "## Create Neural Network\n",
    "Text Classification"
   ]
  },
  {
   "cell_type": "code",
   "execution_count": 27,
   "metadata": {},
   "outputs": [],
   "source": [
    "embedding_dim = 16"
   ]
  },
  {
   "cell_type": "code",
   "execution_count": 29,
   "metadata": {},
   "outputs": [
    {
     "name": "stdout",
     "output_type": "stream",
     "text": [
      "Model: \"sequential_1\"\n",
      "_________________________________________________________________\n",
      " Layer (type)                Output Shape              Param #   \n",
      "=================================================================\n",
      " embedding_1 (Embedding)     (None, None, 16)          160016    \n",
      "                                                                 \n",
      " dropout_2 (Dropout)         (None, None, 16)          0         \n",
      "                                                                 \n",
      " global_average_pooling1d_1   (None, 16)               0         \n",
      " (GlobalAveragePooling1D)                                        \n",
      "                                                                 \n",
      " dropout_3 (Dropout)         (None, 16)                0         \n",
      "                                                                 \n",
      " dense_1 (Dense)             (None, 1)                 17        \n",
      "                                                                 \n",
      "=================================================================\n",
      "Total params: 160,033\n",
      "Trainable params: 160,033\n",
      "Non-trainable params: 0\n",
      "_________________________________________________________________\n"
     ]
    }
   ],
   "source": [
    "# define the model\n",
    "model = tf.keras.Sequential([\n",
    "  tf.keras.layers.Embedding(max_features + 1, embedding_dim),\n",
    "  tf.keras.layers.Dropout(0.2),\n",
    "  tf.keras.layers.GlobalAveragePooling1D(),\n",
    "  tf.keras.layers.Dropout(0.2),\n",
    "  tf.keras.layers.Dense(1)])\n",
    "\n",
    "model.summary()"
   ]
  },
  {
   "cell_type": "code",
   "execution_count": 37,
   "metadata": {},
   "outputs": [],
   "source": [
    "# binary cross entropy loss function for binary classification of text\n",
    "model.compile(loss=tf.keras.losses.BinaryCrossentropy(from_logits=True),\n",
    "              optimizer='adam',\n",
    "              metrics=tf.metrics.BinaryAccuracy(threshold=0.5))"
   ]
  },
  {
   "cell_type": "code",
   "execution_count": 38,
   "metadata": {},
   "outputs": [
    {
     "name": "stdout",
     "output_type": "stream",
     "text": [
      "Epoch 1/10\n",
      "3674/3674 [==============================] - 19s 5ms/step - loss: 0.0968 - binary_accuracy: 0.9615 - val_loss: 0.1050 - val_binary_accuracy: 0.9597\n",
      "Epoch 2/10\n",
      "3674/3674 [==============================] - 18s 5ms/step - loss: 0.0954 - binary_accuracy: 0.9619 - val_loss: 0.1049 - val_binary_accuracy: 0.9600\n",
      "Epoch 3/10\n",
      "3674/3674 [==============================] - 20s 5ms/step - loss: 0.0943 - binary_accuracy: 0.9625 - val_loss: 0.1045 - val_binary_accuracy: 0.9602\n",
      "Epoch 4/10\n",
      "3674/3674 [==============================] - 22s 6ms/step - loss: 0.0935 - binary_accuracy: 0.9625 - val_loss: 0.1044 - val_binary_accuracy: 0.9607\n",
      "Epoch 5/10\n",
      "3674/3674 [==============================] - 20s 5ms/step - loss: 0.0926 - binary_accuracy: 0.9634 - val_loss: 0.1043 - val_binary_accuracy: 0.9607\n",
      "Epoch 6/10\n",
      "3674/3674 [==============================] - 19s 5ms/step - loss: 0.0914 - binary_accuracy: 0.9634 - val_loss: 0.1042 - val_binary_accuracy: 0.9610\n",
      "Epoch 7/10\n",
      "3674/3674 [==============================] - 19s 5ms/step - loss: 0.0907 - binary_accuracy: 0.9637 - val_loss: 0.1043 - val_binary_accuracy: 0.9610\n",
      "Epoch 8/10\n",
      "3674/3674 [==============================] - 19s 5ms/step - loss: 0.0898 - binary_accuracy: 0.9641 - val_loss: 0.1042 - val_binary_accuracy: 0.9610\n",
      "Epoch 9/10\n",
      "3674/3674 [==============================] - 19s 5ms/step - loss: 0.0891 - binary_accuracy: 0.9645 - val_loss: 0.1041 - val_binary_accuracy: 0.9613\n",
      "Epoch 10/10\n",
      "3674/3674 [==============================] - 20s 5ms/step - loss: 0.0887 - binary_accuracy: 0.9644 - val_loss: 0.1043 - val_binary_accuracy: 0.9618\n"
     ]
    }
   ],
   "source": [
    "# train the model\n",
    "epochs = 10\n",
    "history = model.fit(\n",
    "    train_ds,\n",
    "    validation_data=val_ds,\n",
    "    epochs=epochs)"
   ]
  },
  {
   "attachments": {},
   "cell_type": "markdown",
   "metadata": {},
   "source": [
    "## Evaluate the Model"
   ]
  },
  {
   "cell_type": "code",
   "execution_count": 39,
   "metadata": {},
   "outputs": [
    {
     "name": "stdout",
     "output_type": "stream",
     "text": [
      "781/781 [==============================] - 1s 2ms/step - loss: 0.1011 - binary_accuracy: 0.9601\n",
      "Loss:  0.10109750181436539\n",
      "Accuracy:  0.9600656032562256\n"
     ]
    }
   ],
   "source": [
    "loss, accuracy = model.evaluate(test_ds)\n",
    "\n",
    "print(\"Loss: \", loss)\n",
    "print(\"Accuracy: \", accuracy)"
   ]
  },
  {
   "attachments": {},
   "cell_type": "markdown",
   "metadata": {},
   "source": [
    "## Plot accuracy and loss over time"
   ]
  },
  {
   "cell_type": "code",
   "execution_count": 33,
   "metadata": {},
   "outputs": [
    {
     "data": {
      "text/plain": [
       "dict_keys(['loss', 'binary_accuracy', 'val_loss', 'val_binary_accuracy'])"
      ]
     },
     "execution_count": 33,
     "metadata": {},
     "output_type": "execute_result"
    }
   ],
   "source": [
    "history_dict = history.history\n",
    "history_dict.keys()"
   ]
  },
  {
   "cell_type": "code",
   "execution_count": 35,
   "metadata": {},
   "outputs": [
    {
     "data": {
      "image/png": "[encoded data removed]",
      "text/plain": [
       "<Figure size 432x288 with 1 Axes>"
      ]
     },
     "metadata": {
      "needs_background": "light"
     },
     "output_type": "display_data"
    }
   ],
   "source": [
    "import matplotlib.pyplot as plt\n",
    "\n",
    "acc = history_dict['binary_accuracy']\n",
    "val_acc = history_dict['val_binary_accuracy']\n",
    "loss = history_dict['loss']\n",
    "val_loss = history_dict['val_loss']\n",
    "\n",
    "epochs = range(1, len(acc) + 1)\n",
    "\n",
    "# \"bo\" is for \"blue dot\"\n",
    "plt.plot(epochs, loss, 'bo', label='Training loss')\n",
    "# b is for \"solid blue line\"\n",
    "plt.plot(epochs, val_loss, 'b', label='Validation loss')\n",
    "plt.title('Training and validation loss')\n",
    "plt.xlabel('Epochs')\n",
    "plt.ylabel('Loss')\n",
    "plt.legend()\n",
    "\n",
    "plt.show()"
   ]
  },
  {
   "cell_type": "code",
   "execution_count": 36,
   "metadata": {},
   "outputs": [
    {
     "data": {
      "image/png": "[encoded data removed]",
      "text/plain": [
       "<Figure size 432x288 with 1 Axes>"
      ]
     },
     "metadata": {
      "needs_background": "light"
     },
     "output_type": "display_data"
    }
   ],
   "source": [
    "plt.plot(epochs, acc, 'bo', label='Training acc')\n",
    "plt.plot(epochs, val_acc, 'b', label='Validation acc')\n",
    "plt.title('Training and validation accuracy')\n",
    "plt.xlabel('Epochs')\n",
    "plt.ylabel('Accuracy')\n",
    "plt.legend(loc='lower right')\n",
    "\n",
    "plt.show()"
   ]
  },
  {
   "attachments": {},
   "cell_type": "markdown",
   "metadata": {},
   "source": [
    "## Export Model\n",
    "Include text vectorization inside of the model as a layer"
   ]
  },
  {
   "cell_type": "code",
   "execution_count": 40,
   "metadata": {},
   "outputs": [
    {
     "name": "stdout",
     "output_type": "stream",
     "text": [
      "781/781 [==============================] - 5s 6ms/step - loss: 0.1011 - accuracy: 0.9596\n",
      "0.9596254825592041\n"
     ]
    }
   ],
   "source": [
    "export_model = tf.keras.Sequential([\n",
    "  vectorize_layer,\n",
    "  model,\n",
    "  tf.keras.layers.Activation('sigmoid')\n",
    "])\n",
    "\n",
    "export_model.compile(\n",
    "    loss=tf.keras.losses.BinaryCrossentropy(from_logits=False), optimizer=\"adam\", metrics=['accuracy']\n",
    ")\n",
    "\n",
    "# Testing with the raw input `raw_test_ds`\n",
    "loss, accuracy = export_model.evaluate(raw_test_ds)\n",
    "print(accuracy)"
   ]
  },
  {
   "cell_type": "code",
   "execution_count": 53,
   "metadata": {},
   "outputs": [
    {
     "name": "stdout",
     "output_type": "stream",
     "text": [
      "       GOING_CONCERN  COMPANY_FKEY  \\\n",
      "12734            0.0      313807.0   \n",
      "25487            0.0      806968.0   \n",
      "26256            0.0      811809.0   \n",
      "31747            0.0      856341.0   \n",
      "31748            0.0      856341.0   \n",
      "31749            0.0      856341.0   \n",
      "31750            0.0      856341.0   \n",
      "31751            NaN           NaN   \n",
      "31752            0.0      856341.0   \n",
      "31753            NaN           NaN   \n",
      "31754            0.0      856341.0   \n",
      "31755            NaN           NaN   \n",
      "40620            0.0      906564.0   \n",
      "40621            0.0      906564.0   \n",
      "40622            0.0      906564.0   \n",
      "\n",
      "                                           OPINION_TEXT1  \\\n",
      "12734  Consolidated financial statements of the bp gr...   \n",
      "25487  INDEPENDENT AUDITOR'S REPORT  TO THE MEMBERS O...   \n",
      "26256  3.6 Independent Auditors' reports  Independent...   \n",
      "31747  REPORT OF INDEPENDENT REGISTERED PUBLIC ACCOUN...   \n",
      "31748  REPORT OF INDEPENDENT REGISTERED PUBLIC ACCOUN...   \n",
      "31749  REPORT OF INDEPENDENT REGISTERED PUBLIC ACCOUN...   \n",
      "31750  Report of Independent Registered Public Accoun...   \n",
      "31751                                             Marion   \n",
      "31752  Report of Independent Registered Public Accoun...   \n",
      "31753                                             Marion   \n",
      "31754  Report of Independent Registered Public Accoun...   \n",
      "31755                                             Marion   \n",
      "40620  Report of Independent Registered Public Accoun...   \n",
      "40621  Report of Independent Registered Public Accoun...   \n",
      "40622  Report of Independent Registered Public Accoun...   \n",
      "\n",
      "                                           OPINION_TEXT2  OPINION_TEXT3  \n",
      "12734  There is an audit risk that management judgeme...            NaN  \n",
      "25487  In our opinion, based on the work undertaken i...            NaN  \n",
      "26256  - the work was performed and documented to a s...            NaN  \n",
      "31747  Rowe Price MidCap Value Fund Advisor Class (1)...            NaN  \n",
      "31748  Rowe Price Blue Chip Growth - R Class (1)  Cla...            NaN  \n",
      "31749  - R6 Class (16)<p>11<p>Columbia Emerging Marke...            NaN  \n",
      "31750  Small Company Fund R6 Class - 06-FYN (1)<p>Ame...            NaN  \n",
      "31751                                                  0            0.0  \n",
      "31752  Small Company Fund R6 Class - 06-FYN (1)(18)<p...            NaN  \n",
      "31753                                                  0            0.0  \n",
      "31754  Government Securities Fund R6 Class - 06-3TK (...            NaN  \n",
      "31755                                                  0            0.0  \n",
      "40620  - iShares Equity  Fixed Income Fund (1)       ...            NaN  \n",
      "40621  Government Plus (1)  Opportunities Fund (1)  -...            NaN  \n",
      "40622  - Global Dynamic                              ...            NaN  \n"
     ]
    }
   ],
   "source": [
    "# grab the unseen data from the set (Reports that spanned more than one OPINION_TEXT)\n",
    "# select where the OPINION_TEXT2 is not null\n",
    "\n",
    "df_unseen = bank_data[bank_data['OPINION_TEXT2'].notnull()]\n",
    "\n",
    "# create a new text file that combines the OPINION_TEXT columns\n",
    "# Convert data to the required directory structure\n",
    "def convert_unseen(data, dirname):\n",
    "    \n",
    "    for label in [0, 1]:\n",
    "        label_data = data[data['GOING_CONCERN'] == label]\n",
    "        label_dir = os.path.join(dirname, str(label))\n",
    "        # create directory for label if it doesn't exist\n",
    "        if not os.path.exists(label_dir):\n",
    "            os.makedirs(label_dir)\n",
    "        \n",
    "        \n",
    "        # create a new text file for each report titled by company id + index\n",
    "        for idx, row in label_data.iterrows():\n",
    "            temp_data = row['OPINION_TEXT1'] + ' ' + row['OPINION_TEXT2']\n",
    "            # if row['OPINION_TEXT3'].notnull():\n",
    "            #     temp_data = temp_data + ' ' + row['OPINION_TEXT3']\n",
    "            filename = f\"{row['COMPANY_FKEY']}_{idx}.txt\"\n",
    "            filepath = os.path.join(label_dir, filename)\n",
    "\n",
    "            with open(filepath, 'w', encoding='utf-8') as f:\n",
    "                f.write(temp_data)\n",
    "\n",
    "convert_unseen(df_unseen, 'data/unseen_going_concern')"
   ]
  },
  {
   "cell_type": "code",
   "execution_count": 69,
   "metadata": {},
   "outputs": [
    {
     "name": "stdout",
     "output_type": "stream",
     "text": [
      "Found 24991 files belonging to 2 classes.\n",
      "781/781 [==============================] - 4s 6ms/step\n"
     ]
    }
   ],
   "source": [
    "import tensorflow as tf\n",
    "from sklearn.metrics import confusion_matrix\n",
    "\n",
    "# Set up the test data\n",
    "test_dir = 'data/going_concern_reports/test'\n",
    "batch_size = 32\n",
    "test_data = tf.keras.preprocessing.text_dataset_from_directory(\n",
    "    test_dir,\n",
    "    batch_size=batch_size)\n",
    "\n",
    "# Make predictions on the test set\n",
    "y_pred = export_model.predict(raw_test_ds)\n",
    "\n",
    "# Get the true labels\n",
    "y_true = []\n",
    "for _, labels in test_data:\n",
    "    y_true.extend(labels.numpy())"
   ]
  },
  {
   "cell_type": "code",
   "execution_count": 73,
   "metadata": {},
   "outputs": [
    {
     "name": "stdout",
     "output_type": "stream",
     "text": [
      "Found 24991 files belonging to 2 classes.\n",
      "781/781 [==============================] - 4s 6ms/step\n",
      "Precision: 0.1655811623246493\n",
      "Recall: 0.16125884362039522\n",
      "F1 score: 0.16339142256828576\n"
     ]
    }
   ],
   "source": [
    "import tensorflow as tf\n",
    "from sklearn.metrics import confusion_matrix\n",
    "\n",
    "# Set up the test data\n",
    "test_dir = 'data/going_concern_reports/test'\n",
    "batch_size = 32\n",
    "test_data = tf.keras.preprocessing.text_dataset_from_directory(\n",
    "    test_dir,\n",
    "    batch_size=batch_size)\n",
    "\n",
    "# Make predictions on the test set\n",
    "y_pred = export_model.predict(raw_test_ds)\n",
    "\n",
    "# Get the true labels\n",
    "y_true = []\n",
    "for _, labels in test_data:\n",
    "    y_true.extend(labels.numpy())\n",
    "\n",
    "# Convert probabilities to binary labels\n",
    "y_pred = [1 if p >= 0.5 else 0 for p in y_pred]\n",
    "\n",
    "# Create confusion matrix\n",
    "cm = confusion_matrix(y_true, y_pred)\n",
    "\n",
    "# Calculate precision, recall, and f1 score\n",
    "TN, FP, FN, TP = cm.ravel()\n",
    "precision = TP / (TP + FP)\n",
    "recall = TP / (TP + FN)\n",
    "f1 = 2 * precision * recall / (precision + recall)\n",
    "\n",
    "print(\"Precision:\", precision)\n",
    "print(\"Recall:\", recall)\n",
    "print(\"F1 score:\", f1)\n"
   ]
  },
  {
   "cell_type": "code",
   "execution_count": 77,
   "metadata": {},
   "outputs": [
    {
     "name": "stdout",
     "output_type": "stream",
     "text": [
      "Found 24991 files belonging to 2 classes.\n",
      "781/781 [==============================] - 5s 6ms/step\n",
      "Precision: 0.16357715430861725\n",
      "Recall: 0.15930714808489876\n",
      "F1 score: 0.16141391669756522\n"
     ]
    }
   ],
   "source": [
    "import tensorflow as tf\n",
    "from sklearn.metrics import confusion_matrix\n",
    "\n",
    "# Set up the test data\n",
    "test_dir = 'data/going_concern_reports/test'\n",
    "batch_size = 32\n",
    "test_data = tf.keras.preprocessing.text_dataset_from_directory(\n",
    "    test_dir,\n",
    "    batch_size=batch_size)\n",
    "\n",
    "# Make predictions on the test set\n",
    "y_pred = export_model.predict(raw_test_ds)\n",
    "\n",
    "# Get the true labels\n",
    "y_true = []\n",
    "for _, labels in test_data:\n",
    "    y_true.extend(labels.numpy())\n",
    "\n",
    "# Convert probabilities to binary labels\n",
    "y_pred = [1 if p >= 0.5 else 0 for p in y_pred]\n",
    "\n",
    "# Create confusion matrix\n",
    "cm = confusion_matrix(y_true, y_pred)\n",
    "\n",
    "# Calculate precision, recall, and f1 score\n",
    "TN, FP, FN, TP = cm.ravel()\n",
    "precision = TP / (TP + FP)\n",
    "recall = TP / (TP + FN)\n",
    "f1 = 2 * precision * recall / (precision + recall)\n",
    "\n",
    "print(\"Precision:\", precision)\n",
    "print(\"Recall:\", recall)\n",
    "print(\"F1 score:\", f1)"
   ]
  }
 ],
 "metadata": {
  "kernelspec": {
   "display_name": "base",
   "language": "python",
   "name": "python3"
  },
  "language_info": {
   "codemirror_mode": {
    "name": "ipython",
    "version": 3
   },
   "file_extension": ".py",
   "mimetype": "text/x-python",
   "name": "python",
   "nbconvert_exporter": "python",
   "pygments_lexer": "ipython3",
   "version": "3.9.7"
  },
  "orig_nbformat": 4
 },
 "nbformat": 4,
 "nbformat_minor": 2
}
