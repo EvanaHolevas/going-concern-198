{
 "cells": [
  {
   "cell_type": "code",
   "execution_count": 144,
   "metadata": {},
   "outputs": [],
   "source": [
    "import seaborn as sns\n",
    "import matplotlib.pyplot as plt\n",
    "import pandas as pd\n",
    "import numpy as np\n",
    "from sklearn.linear_model import LogisticRegression\n",
    "from sklearn.model_selection import train_test_split\n",
    "from sklearn.feature_selection import SelectKBest\n",
    "from sklearn import preprocessing\n",
    "from sklearn.pipeline import make_pipeline\n",
    "from sklearn.preprocessing import StandardScaler\n",
    "from sklearn.metrics import confusion_matrix, ConfusionMatrixDisplay\n",
    "from sklearn.svm import SVC\n",
    "\n",
    "# dataset predicts is company will go bankrupt in the next year and probability it will go bankrupt in k number of years\n",
    "data = pd.read_csv(\"data/1_american_dataset.csv\")\n",
    "# comp = pd.read_csv(\"data/Compustat Fundamentals Annual 01.2010.csv\")"
   ]
  },
  {
   "cell_type": "code",
   "execution_count": 145,
   "metadata": {},
   "outputs": [
    {
     "data": {
      "text/html": [
       "<div>\n",
       "<style scoped>\n",
       "    .dataframe tbody tr th:only-of-type {\n",
       "        vertical-align: middle;\n",
       "    }\n",
       "\n",
       "    .dataframe tbody tr th {\n",
       "        vertical-align: top;\n",
       "    }\n",
       "\n",
       "    .dataframe thead th {\n",
       "        text-align: right;\n",
       "    }\n",
       "</style>\n",
       "<table border=\"1\" class=\"dataframe\">\n",
       "  <thead>\n",
       "    <tr style=\"text-align: right;\">\n",
       "      <th></th>\n",
       "      <th>cik</th>\n",
       "      <th>fyear</th>\n",
       "      <th>company_name</th>\n",
       "      <th>tic</th>\n",
       "      <th>status_label</th>\n",
       "      <th>current_assets</th>\n",
       "      <th>total_assets</th>\n",
       "      <th>cost_of_goods_sold</th>\n",
       "      <th>total_long_term_debt</th>\n",
       "      <th>depreciation_and_amortization</th>\n",
       "      <th>...</th>\n",
       "      <th>total_current_liabilities</th>\n",
       "      <th>net_income</th>\n",
       "      <th>retained_earnings</th>\n",
       "      <th>total_receivables</th>\n",
       "      <th>total_revenue</th>\n",
       "      <th>market_value</th>\n",
       "      <th>total_liabilities</th>\n",
       "      <th>net_sales</th>\n",
       "      <th>total_operating_expenses</th>\n",
       "      <th>status</th>\n",
       "    </tr>\n",
       "  </thead>\n",
       "  <tbody>\n",
       "    <tr>\n",
       "      <th>0</th>\n",
       "      <td>1750</td>\n",
       "      <td>1999.0</td>\n",
       "      <td>AAR CORP</td>\n",
       "      <td>AIR</td>\n",
       "      <td>alive</td>\n",
       "      <td>511.267</td>\n",
       "      <td>740.998</td>\n",
       "      <td>833.107</td>\n",
       "      <td>180.447</td>\n",
       "      <td>18.373</td>\n",
       "      <td>...</td>\n",
       "      <td>163.816</td>\n",
       "      <td>35.163</td>\n",
       "      <td>201.026</td>\n",
       "      <td>128.348</td>\n",
       "      <td>1024.333</td>\n",
       "      <td>372.7519</td>\n",
       "      <td>401.483</td>\n",
       "      <td>1024.333</td>\n",
       "      <td>935.302</td>\n",
       "      <td>0</td>\n",
       "    </tr>\n",
       "    <tr>\n",
       "      <th>1</th>\n",
       "      <td>1750</td>\n",
       "      <td>2000.0</td>\n",
       "      <td>AAR CORP</td>\n",
       "      <td>AIR</td>\n",
       "      <td>alive</td>\n",
       "      <td>485.856</td>\n",
       "      <td>701.854</td>\n",
       "      <td>713.811</td>\n",
       "      <td>179.987</td>\n",
       "      <td>18.577</td>\n",
       "      <td>...</td>\n",
       "      <td>125.392</td>\n",
       "      <td>18.531</td>\n",
       "      <td>204.065</td>\n",
       "      <td>115.187</td>\n",
       "      <td>874.255</td>\n",
       "      <td>377.1180</td>\n",
       "      <td>361.642</td>\n",
       "      <td>874.255</td>\n",
       "      <td>809.888</td>\n",
       "      <td>0</td>\n",
       "    </tr>\n",
       "    <tr>\n",
       "      <th>2</th>\n",
       "      <td>1750</td>\n",
       "      <td>2001.0</td>\n",
       "      <td>AAR CORP</td>\n",
       "      <td>AIR</td>\n",
       "      <td>alive</td>\n",
       "      <td>436.656</td>\n",
       "      <td>710.199</td>\n",
       "      <td>526.477</td>\n",
       "      <td>217.699</td>\n",
       "      <td>22.496</td>\n",
       "      <td>...</td>\n",
       "      <td>150.464</td>\n",
       "      <td>-58.939</td>\n",
       "      <td>139.603</td>\n",
       "      <td>77.528</td>\n",
       "      <td>638.721</td>\n",
       "      <td>364.5928</td>\n",
       "      <td>399.964</td>\n",
       "      <td>638.721</td>\n",
       "      <td>611.514</td>\n",
       "      <td>0</td>\n",
       "    </tr>\n",
       "    <tr>\n",
       "      <th>3</th>\n",
       "      <td>1750</td>\n",
       "      <td>2002.0</td>\n",
       "      <td>AAR CORP</td>\n",
       "      <td>AIR</td>\n",
       "      <td>alive</td>\n",
       "      <td>396.412</td>\n",
       "      <td>686.621</td>\n",
       "      <td>496.747</td>\n",
       "      <td>164.658</td>\n",
       "      <td>27.172</td>\n",
       "      <td>...</td>\n",
       "      <td>203.575</td>\n",
       "      <td>-12.410</td>\n",
       "      <td>124.106</td>\n",
       "      <td>66.322</td>\n",
       "      <td>606.337</td>\n",
       "      <td>143.3295</td>\n",
       "      <td>391.633</td>\n",
       "      <td>606.337</td>\n",
       "      <td>575.592</td>\n",
       "      <td>0</td>\n",
       "    </tr>\n",
       "    <tr>\n",
       "      <th>4</th>\n",
       "      <td>1750</td>\n",
       "      <td>2003.0</td>\n",
       "      <td>AAR CORP</td>\n",
       "      <td>AIR</td>\n",
       "      <td>alive</td>\n",
       "      <td>432.204</td>\n",
       "      <td>709.292</td>\n",
       "      <td>523.302</td>\n",
       "      <td>248.666</td>\n",
       "      <td>26.680</td>\n",
       "      <td>...</td>\n",
       "      <td>131.261</td>\n",
       "      <td>3.504</td>\n",
       "      <td>131.884</td>\n",
       "      <td>104.661</td>\n",
       "      <td>651.958</td>\n",
       "      <td>308.9071</td>\n",
       "      <td>407.608</td>\n",
       "      <td>651.958</td>\n",
       "      <td>604.467</td>\n",
       "      <td>0</td>\n",
       "    </tr>\n",
       "  </tbody>\n",
       "</table>\n",
       "<p>5 rows × 24 columns</p>\n",
       "</div>"
      ],
      "text/plain": [
       "    cik   fyear company_name  tic status_label  current_assets  total_assets  \\\n",
       "0  1750  1999.0     AAR CORP  AIR        alive         511.267       740.998   \n",
       "1  1750  2000.0     AAR CORP  AIR        alive         485.856       701.854   \n",
       "2  1750  2001.0     AAR CORP  AIR        alive         436.656       710.199   \n",
       "3  1750  2002.0     AAR CORP  AIR        alive         396.412       686.621   \n",
       "4  1750  2003.0     AAR CORP  AIR        alive         432.204       709.292   \n",
       "\n",
       "   cost_of_goods_sold  total_long_term_debt  depreciation_and_amortization  \\\n",
       "0             833.107               180.447                         18.373   \n",
       "1             713.811               179.987                         18.577   \n",
       "2             526.477               217.699                         22.496   \n",
       "3             496.747               164.658                         27.172   \n",
       "4             523.302               248.666                         26.680   \n",
       "\n",
       "   ...  total_current_liabilities  net_income  retained_earnings  \\\n",
       "0  ...                    163.816      35.163            201.026   \n",
       "1  ...                    125.392      18.531            204.065   \n",
       "2  ...                    150.464     -58.939            139.603   \n",
       "3  ...                    203.575     -12.410            124.106   \n",
       "4  ...                    131.261       3.504            131.884   \n",
       "\n",
       "   total_receivables  total_revenue  market_value  total_liabilities  \\\n",
       "0            128.348       1024.333      372.7519            401.483   \n",
       "1            115.187        874.255      377.1180            361.642   \n",
       "2             77.528        638.721      364.5928            399.964   \n",
       "3             66.322        606.337      143.3295            391.633   \n",
       "4            104.661        651.958      308.9071            407.608   \n",
       "\n",
       "   net_sales  total_operating_expenses  status  \n",
       "0   1024.333                   935.302       0  \n",
       "1    874.255                   809.888       0  \n",
       "2    638.721                   611.514       0  \n",
       "3    606.337                   575.592       0  \n",
       "4    651.958                   604.467       0  \n",
       "\n",
       "[5 rows x 24 columns]"
      ]
     },
     "execution_count": 145,
     "metadata": {},
     "output_type": "execute_result"
    }
   ],
   "source": [
    "data.head()"
   ]
  },
  {
   "cell_type": "code",
   "execution_count": 146,
   "metadata": {},
   "outputs": [
    {
     "name": "stdout",
     "output_type": "stream",
     "text": [
      "<class 'pandas.core.frame.DataFrame'>\n",
      "RangeIndex: 78682 entries, 0 to 78681\n",
      "Data columns (total 24 columns):\n",
      " #   Column                         Non-Null Count  Dtype  \n",
      "---  ------                         --------------  -----  \n",
      " 0   cik                            78682 non-null  int64  \n",
      " 1   fyear                          78682 non-null  float64\n",
      " 2   company_name                   78682 non-null  object \n",
      " 3   tic                            78682 non-null  object \n",
      " 4   status_label                   78682 non-null  object \n",
      " 5   current_assets                 78682 non-null  float64\n",
      " 6   total_assets                   78682 non-null  float64\n",
      " 7   cost_of_goods_sold             78682 non-null  float64\n",
      " 8   total_long_term_debt           78682 non-null  float64\n",
      " 9   depreciation_and_amortization  78682 non-null  float64\n",
      " 10  ebit                           78682 non-null  float64\n",
      " 11  ebitda                         78682 non-null  float64\n",
      " 12  gross_profit                   78682 non-null  float64\n",
      " 13  inventory                      78682 non-null  float64\n",
      " 14  total_current_liabilities      78682 non-null  float64\n",
      " 15  net_income                     78682 non-null  float64\n",
      " 16  retained_earnings              78682 non-null  float64\n",
      " 17  total_receivables              78682 non-null  float64\n",
      " 18  total_revenue                  78682 non-null  float64\n",
      " 19  market_value                   78682 non-null  float64\n",
      " 20  total_liabilities              78682 non-null  float64\n",
      " 21  net_sales                      78682 non-null  float64\n",
      " 22  total_operating_expenses       78682 non-null  float64\n",
      " 23  status                         78682 non-null  int64  \n",
      "dtypes: float64(19), int64(2), object(3)\n",
      "memory usage: 14.4+ MB\n"
     ]
    },
    {
     "data": {
      "text/plain": [
       "cik                                int64\n",
       "fyear                            float64\n",
       "company_name                      object\n",
       "tic                               object\n",
       "status_label                      object\n",
       "current_assets                   float64\n",
       "total_assets                     float64\n",
       "cost_of_goods_sold               float64\n",
       "total_long_term_debt             float64\n",
       "depreciation_and_amortization    float64\n",
       "ebit                             float64\n",
       "ebitda                           float64\n",
       "gross_profit                     float64\n",
       "inventory                        float64\n",
       "total_current_liabilities        float64\n",
       "net_income                       float64\n",
       "retained_earnings                float64\n",
       "total_receivables                float64\n",
       "total_revenue                    float64\n",
       "market_value                     float64\n",
       "total_liabilities                float64\n",
       "net_sales                        float64\n",
       "total_operating_expenses         float64\n",
       "status                             int64\n",
       "dtype: object"
      ]
     },
     "execution_count": 146,
     "metadata": {},
     "output_type": "execute_result"
    }
   ],
   "source": [
    "data.shape\n",
    "data.info()\n",
    "data.isnull().sum()\n",
    "data.dtypes"
   ]
  },
  {
   "attachments": {},
   "cell_type": "markdown",
   "metadata": {},
   "source": [
    "## Supervised Learning Model\n",
    "This model will utilize supervised learning. The final column (**status**) is 0 if the company did not go bankrupt for a given year, and 1 if the company did. All columns with numerical dtypes, expect for the company id denoted with (**cik**), are features for bankruptcy prediction. \n",
    "## Data Split\n",
    "The data is split randomly into training and testing (validation) sets. \n",
    "75% of the data is used for trainging and 25% is used for validation. \n",
    "\n",
    "![Dataset split](1_train-test-split_0.jpeg)"
   ]
  },
  {
   "cell_type": "code",
   "execution_count": 147,
   "metadata": {},
   "outputs": [],
   "source": [
    "# remove non numerical values from the model\n",
    "df = data.select_dtypes(include=['float64','int64'])\n",
    "# drop irrelivant categories\n",
    "X = df.drop(['cik', 'fyear', 'status'], axis=1).to_numpy()\n",
    "y = df[\"status\"].to_numpy()\n",
    "\n",
    "# split data into training and testing sets\n",
    "X_train, X_test, y_train, y_test = train_test_split(X, y, test_size=0.2, random_state=42)"
   ]
  },
  {
   "attachments": {},
   "cell_type": "markdown",
   "metadata": {},
   "source": [
    "### Logestic Regression"
   ]
  },
  {
   "cell_type": "code",
   "execution_count": 148,
   "metadata": {},
   "outputs": [
    {
     "data": {
      "text/plain": [
       "0.932198004702294"
      ]
     },
     "execution_count": 148,
     "metadata": {},
     "output_type": "execute_result"
    }
   ],
   "source": [
    "# normalize and train \n",
    "bankrupt_logistic = make_pipeline(StandardScaler(), LogisticRegression())\n",
    "bankrupt_logistic.fit(X_train, y_train)\n",
    "bankrupt_logistic.score(X_test, y_test)"
   ]
  },
  {
   "cell_type": "code",
   "execution_count": 149,
   "metadata": {},
   "outputs": [
    {
     "data": {
      "image/png": "[encoded data removed]",
      "text/plain": [
       "<Figure size 640x480 with 2 Axes>"
      ]
     },
     "metadata": {},
     "output_type": "display_data"
    }
   ],
   "source": [
    "# confusion matrix for predictions\n",
    "predictions = bankrupt_logistic.predict(X_test)\n",
    "cm = confusion_matrix(y_test, predictions, labels=bankrupt_logistic.classes_)\n",
    "\n",
    "# display graphic\n",
    "cm_display = ConfusionMatrixDisplay(confusion_matrix=cm,\n",
    "                                    display_labels=bankrupt_logistic.classes_)\n",
    "cm_display.plot()\n",
    "plt.show()"
   ]
  },
  {
   "cell_type": "code",
   "execution_count": 150,
   "metadata": {},
   "outputs": [
    {
     "name": "stdout",
     "output_type": "stream",
     "text": [
      "Training:  0.9341170863452221\n",
      "Test:  0.932198004702294\n",
      "[[9.27289159e-01 7.27108406e-02]\n",
      " [9.39458204e-01 6.05417955e-02]\n",
      " [9.29136244e-01 7.08637562e-02]\n",
      " ...\n",
      " [9.24303242e-01 7.56967579e-02]\n",
      " [9.99507859e-01 4.92140895e-04]\n",
      " [9.99999994e-01 6.38441105e-09]]\n"
     ]
    }
   ],
   "source": [
    "# scores on seen and unseen data\n",
    "print(\"Training: \", bankrupt_logistic.score(X_train, y_train))\n",
    "print(\"Test: \", bankrupt_logistic.score(X_test, y_test))\n",
    "print(bankrupt_logistic.predict_proba(X_test))"
   ]
  },
  {
   "attachments": {},
   "cell_type": "markdown",
   "metadata": {},
   "source": [
    "### Naive Bayes\n",
    "Assumes conditional independence between every pair of features."
   ]
  }
 ],
 "metadata": {
  "kernelspec": {
   "display_name": "base",
   "language": "python",
   "name": "python3"
  },
  "language_info": {
   "codemirror_mode": {
    "name": "ipython",
    "version": 3
   },
   "file_extension": ".py",
   "mimetype": "text/x-python",
   "name": "python",
   "nbconvert_exporter": "python",
   "pygments_lexer": "ipython3",
   "version": "3.9.7"
  },
  "orig_nbformat": 4,
  "vscode": {
   "interpreter": {
    "hash": "61583e95cb1d21666b49abb71f012a769d30e88aa6a2ae86dcac2a8b3a0a9a60"
   }
  }
 },
 "nbformat": 4,
 "nbformat_minor": 2
}
