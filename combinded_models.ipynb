{
 "cells": [
  {
   "attachments": {},
   "cell_type": "markdown",
   "metadata": {},
   "source": [
    "## Combine the bankruptcy and sentiment analysis models"
   ]
  },
  {
   "cell_type": "code",
   "execution_count": 1,
   "metadata": {},
   "outputs": [],
   "source": [
    "# Import dependencies\n",
    "import tensorflow as tf \n",
    "import numpy as np\n",
    "import pandas as pd\n",
    "import matplotlib.pyplot as plt\n",
    "import seaborn as sns \n",
    "# Model improvement and Evaluation \n",
    "from sklearn import metrics \n",
    "from sklearn.metrics import confusion_matrix\n",
    "from sklearn.metrics import f1_score, precision_score, recall_score"
   ]
  },
  {
   "cell_type": "code",
   "execution_count": 3,
   "metadata": {},
   "outputs": [],
   "source": [
    "# import bankruptcy and sentiment analysis models\n",
    "bankruptcy_model = tf.keras.models.load_model('model_checkpoints/model4/ckpt_200')\n",
    "going_concern_model = tf.saved_model.load('trained_models/going_concern_sentiment_model')"
   ]
  },
  {
   "cell_type": "code",
   "execution_count": null,
   "metadata": {},
   "outputs": [],
   "source": [
    "# preprocess data for sentiment analysis model"
   ]
  },
  {
   "cell_type": "code",
   "execution_count": null,
   "metadata": {},
   "outputs": [],
   "source": [
    "# Load and preprocess the data\n",
    "X_text = preprocess_text(going_concern_report_text)\n",
    "X_numeric = preprocess_numeric(numeric_data)\n",
    "X_numeric = X_numeric.reshape(1, -1)  # Reshape to match expected input shape of bankruptcy model\n",
    "\n",
    "# Get the output probabilities from the two models\n",
    "y_bankruptcy = bankruptcy_model.predict(X_numeric)\n",
    "y_going_concern = going_concern_model.predict(X_text)\n",
    "\n",
    "# Concatenate the two outputs into a single input vector\n",
    "X_combined = tf.concat([y_bankruptcy, y_going_concern], axis=1)\n",
    "\n",
    "# Create a new model to predict the impact of the going-concern report\n",
    "impact_model = tf.keras.Sequential([\n",
    "    tf.keras.layers.Dense(64, activation='relu', input_shape=(2,)),\n",
    "    tf.keras.layers.Dense(32, activation='relu'),\n",
    "    tf.keras.layers.Dense(1, activation='sigmoid')\n",
    "])\n",
    "\n",
    "# Compile the impact model\n",
    "impact_model.compile(loss='binary_crossentropy', optimizer='adam', metrics=['accuracy'])\n",
    "\n",
    "# Make predictions using the impact model\n",
    "impact_probability = impact_model.predict(X_combined)\n",
    "\n",
    "# Print the predicted impact probability\n",
    "print('Impact probability:', impact_probability[0])"
   ]
  }
 ],
 "metadata": {
  "kernelspec": {
   "display_name": "base",
   "language": "python",
   "name": "python3"
  },
  "language_info": {
   "codemirror_mode": {
    "name": "ipython",
    "version": 3
   },
   "file_extension": ".py",
   "mimetype": "text/x-python",
   "name": "python",
   "nbconvert_exporter": "python",
   "pygments_lexer": "ipython3",
   "version": "3.9.7"
  },
  "orig_nbformat": 4
 },
 "nbformat": 4,
 "nbformat_minor": 2
}
